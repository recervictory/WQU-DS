{
 "cells": [
  {
   "cell_type": "code",
   "execution_count": 3,
   "metadata": {},
   "outputs": [],
   "source": [
    "%matplotlib inline\n",
    "import matplotlib\n",
    "import seaborn as sns\n",
    "sns.set()\n",
    "matplotlib.rcParams['figure.dpi'] = 144"
   ]
  },
  {
   "cell_type": "code",
   "execution_count": 109,
   "metadata": {},
   "outputs": [],
   "source": [
    "from static_grader import grader"
   ]
  },
  {
   "cell_type": "markdown",
   "metadata": {},
   "source": [
    "# DW Miniproject\n",
    "## Introduction\n",
    "\n",
    "The objective of this miniproject is to exercise your ability to wrangle tabular data set and aggregate large data sets into meaningful summary statistics. We'll work with the same medical data used in the `pw` miniproject but leverage the power of Pandas to more efficiently represent and act on our data."
   ]
  },
  {
   "cell_type": "markdown",
   "metadata": {},
   "source": [
    "## Downloading the data\n",
    "\n",
    "We first need to download the data we'll be using from Amazon S3:"
   ]
  },
  {
   "cell_type": "code",
   "execution_count": 51,
   "metadata": {},
   "outputs": [
    {
     "name": "stdout",
     "output_type": "stream",
     "text": [
      "mkdir: cannot create directory ‘dw-data’: File exists\n",
      "--2019-12-03 04:12:03--  http://dataincubator-wqu.s3.amazonaws.com/dwdata/201701scripts_sample.csv.gz\n",
      "Resolving dataincubator-wqu.s3.amazonaws.com (dataincubator-wqu.s3.amazonaws.com)... 52.216.138.235\n",
      "Connecting to dataincubator-wqu.s3.amazonaws.com (dataincubator-wqu.s3.amazonaws.com)|52.216.138.235|:80... connected.\n",
      "HTTP request sent, awaiting response... 200 OK\n",
      "Length: 19011654 (18M) [text/csv]\n",
      "Saving to: ‘./dw-data/201701scripts_sample.csv.gz’\n",
      "\n",
      "201701scripts_sampl 100%[===================>]  18.13M  38.7MB/s    in 0.5s    \n",
      "\n",
      "2019-12-03 04:12:03 (38.7 MB/s) - ‘./dw-data/201701scripts_sample.csv.gz’ saved [19011654/19011654]\n",
      "\n",
      "--2019-12-03 04:12:03--  http://dataincubator-wqu.s3.amazonaws.com/dwdata/201606scripts_sample.csv.gz\n",
      "Resolving dataincubator-wqu.s3.amazonaws.com (dataincubator-wqu.s3.amazonaws.com)... 52.216.138.235\n",
      "Connecting to dataincubator-wqu.s3.amazonaws.com (dataincubator-wqu.s3.amazonaws.com)|52.216.138.235|:80... connected.\n",
      "HTTP request sent, awaiting response... 200 OK\n",
      "Length: 18768259 (18M) [text/csv]\n",
      "Saving to: ‘./dw-data/201606scripts_sample.csv.gz’\n",
      "\n",
      "201606scripts_sampl 100%[===================>]  17.90M  38.6MB/s    in 0.5s    \n",
      "\n",
      "2019-12-03 04:12:04 (38.6 MB/s) - ‘./dw-data/201606scripts_sample.csv.gz’ saved [18768259/18768259]\n",
      "\n",
      "--2019-12-03 04:12:04--  http://dataincubator-wqu.s3.amazonaws.com/dwdata/practices.csv.gz\n",
      "Resolving dataincubator-wqu.s3.amazonaws.com (dataincubator-wqu.s3.amazonaws.com)... 52.217.46.196\n",
      "Connecting to dataincubator-wqu.s3.amazonaws.com (dataincubator-wqu.s3.amazonaws.com)|52.217.46.196|:80... connected.\n",
      "HTTP request sent, awaiting response... 200 OK\n",
      "Length: 333225 (325K) [application/x-gzip]\n",
      "Saving to: ‘./dw-data/practices.csv.gz’\n",
      "\n",
      "practices.csv.gz    100%[===================>] 325.42K  --.-KB/s    in 0.01s   \n",
      "\n",
      "2019-12-03 04:12:04 (24.5 MB/s) - ‘./dw-data/practices.csv.gz’ saved [333225/333225]\n",
      "\n",
      "--2019-12-03 04:12:04--  http://dataincubator-wqu.s3.amazonaws.com/dwdata/chem.csv.gz\n",
      "Resolving dataincubator-wqu.s3.amazonaws.com (dataincubator-wqu.s3.amazonaws.com)... 52.217.46.196\n",
      "Connecting to dataincubator-wqu.s3.amazonaws.com (dataincubator-wqu.s3.amazonaws.com)|52.217.46.196|:80... connected.\n",
      "HTTP request sent, awaiting response... 200 OK\n",
      "Length: 31829 (31K) [application/x-gzip]\n",
      "Saving to: ‘./dw-data/chem.csv.gz’\n",
      "\n",
      "chem.csv.gz         100%[===================>]  31.08K  --.-KB/s    in 0.001s  \n",
      "\n",
      "2019-12-03 04:12:04 (47.9 MB/s) - ‘./dw-data/chem.csv.gz’ saved [31829/31829]\n",
      "\n"
     ]
    }
   ],
   "source": [
    "!mkdir dw-data\n",
    "!wget http://dataincubator-wqu.s3.amazonaws.com/dwdata/201701scripts_sample.csv.gz -nc -P ./dw-data/\n",
    "!wget http://dataincubator-wqu.s3.amazonaws.com/dwdata/201606scripts_sample.csv.gz -nc -P ./dw-data/\n",
    "!wget http://dataincubator-wqu.s3.amazonaws.com/dwdata/practices.csv.gz -nc -P ./dw-data/\n",
    "!wget http://dataincubator-wqu.s3.amazonaws.com/dwdata/chem.csv.gz -nc -P ./dw-data/"
   ]
  },
  {
   "cell_type": "markdown",
   "metadata": {},
   "source": [
    "## Loading the data\n",
    "\n",
    "Similar to the `PW` miniproject, the first step is to read in the data. The data files are stored as compressed CSV files. You can load the data into a Pandas DataFrame by making use of the `gzip` package to decompress the files and Panda's `read_csv` methods to parse the data into a DataFrame. You may want to check the Pandas documentation for parsing [CSV](http://pandas.pydata.org/pandas-docs/stable/generated/pandas.read_csv.html) files for reference.\n",
    "\n",
    "For a description of the data set please, refer to the [PW miniproject](./pw.ipynb). **Note that all questions make use of the 2017 data only, except for Question 5 which makes use of both the 2017 and 2016 data.**"
   ]
  },
  {
   "cell_type": "code",
   "execution_count": 5,
   "metadata": {},
   "outputs": [],
   "source": [
    "import pandas as pd\n",
    "import numpy as np\n",
    "import gzip"
   ]
  },
  {
   "cell_type": "code",
   "execution_count": 6,
   "metadata": {},
   "outputs": [
    {
     "data": {
      "text/html": [
       "<div>\n",
       "<style scoped>\n",
       "    .dataframe tbody tr th:only-of-type {\n",
       "        vertical-align: middle;\n",
       "    }\n",
       "\n",
       "    .dataframe tbody tr th {\n",
       "        vertical-align: top;\n",
       "    }\n",
       "\n",
       "    .dataframe thead th {\n",
       "        text-align: right;\n",
       "    }\n",
       "</style>\n",
       "<table border=\"1\" class=\"dataframe\">\n",
       "  <thead>\n",
       "    <tr style=\"text-align: right;\">\n",
       "      <th></th>\n",
       "      <th>practice</th>\n",
       "      <th>bnf_code</th>\n",
       "      <th>bnf_name</th>\n",
       "      <th>items</th>\n",
       "      <th>nic</th>\n",
       "      <th>act_cost</th>\n",
       "      <th>quantity</th>\n",
       "    </tr>\n",
       "  </thead>\n",
       "  <tbody>\n",
       "    <tr>\n",
       "      <th>0</th>\n",
       "      <td>N85639</td>\n",
       "      <td>0106020C0</td>\n",
       "      <td>Bisacodyl_Tab E/C 5mg</td>\n",
       "      <td>1</td>\n",
       "      <td>0.39</td>\n",
       "      <td>0.47</td>\n",
       "      <td>12</td>\n",
       "    </tr>\n",
       "    <tr>\n",
       "      <th>1</th>\n",
       "      <td>N85639</td>\n",
       "      <td>0106040M0</td>\n",
       "      <td>Movicol Plain_Paed Pdr Sach 6.9g</td>\n",
       "      <td>1</td>\n",
       "      <td>4.38</td>\n",
       "      <td>4.07</td>\n",
       "      <td>30</td>\n",
       "    </tr>\n",
       "    <tr>\n",
       "      <th>2</th>\n",
       "      <td>N85639</td>\n",
       "      <td>0301011R0</td>\n",
       "      <td>Salbutamol_Inha 100mcg (200 D) CFF</td>\n",
       "      <td>1</td>\n",
       "      <td>1.50</td>\n",
       "      <td>1.40</td>\n",
       "      <td>1</td>\n",
       "    </tr>\n",
       "    <tr>\n",
       "      <th>3</th>\n",
       "      <td>N85639</td>\n",
       "      <td>0304010G0</td>\n",
       "      <td>Chlorphenamine Mal_Oral Soln 2mg/5ml</td>\n",
       "      <td>1</td>\n",
       "      <td>2.62</td>\n",
       "      <td>2.44</td>\n",
       "      <td>150</td>\n",
       "    </tr>\n",
       "    <tr>\n",
       "      <th>4</th>\n",
       "      <td>N85639</td>\n",
       "      <td>0401020K0</td>\n",
       "      <td>Diazepam_Tab 2mg</td>\n",
       "      <td>1</td>\n",
       "      <td>0.16</td>\n",
       "      <td>0.26</td>\n",
       "      <td>6</td>\n",
       "    </tr>\n",
       "  </tbody>\n",
       "</table>\n",
       "</div>"
      ],
      "text/plain": [
       "  practice   bnf_code                              bnf_name  items   nic  \\\n",
       "0   N85639  0106020C0                 Bisacodyl_Tab E/C 5mg      1  0.39   \n",
       "1   N85639  0106040M0      Movicol Plain_Paed Pdr Sach 6.9g      1  4.38   \n",
       "2   N85639  0301011R0    Salbutamol_Inha 100mcg (200 D) CFF      1  1.50   \n",
       "3   N85639  0304010G0  Chlorphenamine Mal_Oral Soln 2mg/5ml      1  2.62   \n",
       "4   N85639  0401020K0                      Diazepam_Tab 2mg      1  0.16   \n",
       "\n",
       "   act_cost  quantity  \n",
       "0      0.47        12  \n",
       "1      4.07        30  \n",
       "2      1.40         1  \n",
       "3      2.44       150  \n",
       "4      0.26         6  "
      ]
     },
     "execution_count": 6,
     "metadata": {},
     "output_type": "execute_result"
    }
   ],
   "source": [
    "# load the 2017 data\n",
    "scripts = pd.read_csv('./dw-data/201701scripts_sample.csv.gz',compression = 'gzip')\n",
    "scripts.head()"
   ]
  },
  {
   "cell_type": "code",
   "execution_count": 95,
   "metadata": {},
   "outputs": [
    {
     "data": {
      "text/html": [
       "<div>\n",
       "<style scoped>\n",
       "    .dataframe tbody tr th:only-of-type {\n",
       "        vertical-align: middle;\n",
       "    }\n",
       "\n",
       "    .dataframe tbody tr th {\n",
       "        vertical-align: top;\n",
       "    }\n",
       "\n",
       "    .dataframe thead th {\n",
       "        text-align: right;\n",
       "    }\n",
       "</style>\n",
       "<table border=\"1\" class=\"dataframe\">\n",
       "  <thead>\n",
       "    <tr style=\"text-align: right;\">\n",
       "      <th></th>\n",
       "      <th>code</th>\n",
       "      <th>name</th>\n",
       "      <th>addr_1</th>\n",
       "      <th>addr_2</th>\n",
       "      <th>borough</th>\n",
       "      <th>village</th>\n",
       "      <th>post_code</th>\n",
       "    </tr>\n",
       "  </thead>\n",
       "  <tbody>\n",
       "    <tr>\n",
       "      <th>0</th>\n",
       "      <td>A81001</td>\n",
       "      <td>THE DENSHAM SURGERY</td>\n",
       "      <td>THE HEALTH CENTRE</td>\n",
       "      <td>LAWSON STREET</td>\n",
       "      <td>STOCKTON ON TEES</td>\n",
       "      <td>CLEVELAND</td>\n",
       "      <td>TS18 1HU</td>\n",
       "    </tr>\n",
       "    <tr>\n",
       "      <th>1</th>\n",
       "      <td>A81002</td>\n",
       "      <td>QUEENS PARK MEDICAL CENTRE</td>\n",
       "      <td>QUEENS PARK MEDICAL CTR</td>\n",
       "      <td>FARRER STREET</td>\n",
       "      <td>STOCKTON ON TEES</td>\n",
       "      <td>CLEVELAND</td>\n",
       "      <td>TS18 2AW</td>\n",
       "    </tr>\n",
       "    <tr>\n",
       "      <th>2</th>\n",
       "      <td>A81003</td>\n",
       "      <td>VICTORIA MEDICAL PRACTICE</td>\n",
       "      <td>THE HEALTH CENTRE</td>\n",
       "      <td>VICTORIA ROAD</td>\n",
       "      <td>HARTLEPOOL</td>\n",
       "      <td>CLEVELAND</td>\n",
       "      <td>TS26 8DB</td>\n",
       "    </tr>\n",
       "    <tr>\n",
       "      <th>3</th>\n",
       "      <td>A81004</td>\n",
       "      <td>WOODLANDS ROAD SURGERY</td>\n",
       "      <td>6 WOODLANDS ROAD</td>\n",
       "      <td>NaN</td>\n",
       "      <td>MIDDLESBROUGH</td>\n",
       "      <td>CLEVELAND</td>\n",
       "      <td>TS1 3BE</td>\n",
       "    </tr>\n",
       "    <tr>\n",
       "      <th>4</th>\n",
       "      <td>A81005</td>\n",
       "      <td>SPRINGWOOD SURGERY</td>\n",
       "      <td>SPRINGWOOD SURGERY</td>\n",
       "      <td>RECTORY LANE</td>\n",
       "      <td>GUISBOROUGH</td>\n",
       "      <td>NaN</td>\n",
       "      <td>TS14 7DJ</td>\n",
       "    </tr>\n",
       "  </tbody>\n",
       "</table>\n",
       "</div>"
      ],
      "text/plain": [
       "     code                        name                   addr_1         addr_2  \\\n",
       "0  A81001         THE DENSHAM SURGERY        THE HEALTH CENTRE  LAWSON STREET   \n",
       "1  A81002  QUEENS PARK MEDICAL CENTRE  QUEENS PARK MEDICAL CTR  FARRER STREET   \n",
       "2  A81003   VICTORIA MEDICAL PRACTICE        THE HEALTH CENTRE  VICTORIA ROAD   \n",
       "3  A81004      WOODLANDS ROAD SURGERY         6 WOODLANDS ROAD            NaN   \n",
       "4  A81005          SPRINGWOOD SURGERY       SPRINGWOOD SURGERY   RECTORY LANE   \n",
       "\n",
       "            borough    village post_code  \n",
       "0  STOCKTON ON TEES  CLEVELAND  TS18 1HU  \n",
       "1  STOCKTON ON TEES  CLEVELAND  TS18 2AW  \n",
       "2        HARTLEPOOL  CLEVELAND  TS26 8DB  \n",
       "3     MIDDLESBROUGH  CLEVELAND   TS1 3BE  \n",
       "4       GUISBOROUGH        NaN  TS14 7DJ  "
      ]
     },
     "execution_count": 95,
     "metadata": {},
     "output_type": "execute_result"
    }
   ],
   "source": [
    "col_names=[ 'code', 'name', 'addr_1', 'addr_2', 'borough', 'village', 'post_code']\n",
    "practices = pd.read_csv('./dw-data/practices.csv.gz',compression = 'gzip', header = None, names = col_names)\n",
    "practices.head()"
   ]
  },
  {
   "cell_type": "code",
   "execution_count": 144,
   "metadata": {},
   "outputs": [
    {
     "data": {
      "text/html": [
       "<div>\n",
       "<style scoped>\n",
       "    .dataframe tbody tr th:only-of-type {\n",
       "        vertical-align: middle;\n",
       "    }\n",
       "\n",
       "    .dataframe tbody tr th {\n",
       "        vertical-align: top;\n",
       "    }\n",
       "\n",
       "    .dataframe thead th {\n",
       "        text-align: right;\n",
       "    }\n",
       "</style>\n",
       "<table border=\"1\" class=\"dataframe\">\n",
       "  <thead>\n",
       "    <tr style=\"text-align: right;\">\n",
       "      <th></th>\n",
       "      <th>CHEM SUB</th>\n",
       "      <th>NAME</th>\n",
       "    </tr>\n",
       "  </thead>\n",
       "  <tbody>\n",
       "    <tr>\n",
       "      <th>0</th>\n",
       "      <td>0101010A0</td>\n",
       "      <td>Alexitol Sodium</td>\n",
       "    </tr>\n",
       "    <tr>\n",
       "      <th>1</th>\n",
       "      <td>0101010B0</td>\n",
       "      <td>Almasilate</td>\n",
       "    </tr>\n",
       "    <tr>\n",
       "      <th>2</th>\n",
       "      <td>0101010C0</td>\n",
       "      <td>Aluminium Hydroxide</td>\n",
       "    </tr>\n",
       "    <tr>\n",
       "      <th>3</th>\n",
       "      <td>0101010D0</td>\n",
       "      <td>Aluminium Hydroxide With Magnesium</td>\n",
       "    </tr>\n",
       "    <tr>\n",
       "      <th>4</th>\n",
       "      <td>0101010E0</td>\n",
       "      <td>Hydrotalcite</td>\n",
       "    </tr>\n",
       "  </tbody>\n",
       "</table>\n",
       "</div>"
      ],
      "text/plain": [
       "    CHEM SUB                                NAME\n",
       "0  0101010A0                     Alexitol Sodium\n",
       "1  0101010B0                          Almasilate\n",
       "2  0101010C0                 Aluminium Hydroxide\n",
       "3  0101010D0  Aluminium Hydroxide With Magnesium\n",
       "4  0101010E0                        Hydrotalcite"
      ]
     },
     "execution_count": 144,
     "metadata": {},
     "output_type": "execute_result"
    }
   ],
   "source": [
    "chem = pd.read_csv('./dw-data/chem.csv.gz',compression = 'gzip')\n",
    "chem.head()"
   ]
  },
  {
   "cell_type": "markdown",
   "metadata": {},
   "source": [
    "Now that we've loaded in the data, let's first replicate our results from the `PW` miniproject. Note that we are now working with a larger data set so the answers will be different than in the `PW` miniproject even if the analysis is the same."
   ]
  },
  {
   "cell_type": "markdown",
   "metadata": {},
   "source": [
    "## Question 1: summary_statistics\n",
    "\n",
    "In the `PW` miniproject we first calculated the total, mean, standard deviation, and quartile statistics of the `'items'`, `'quantity'`', `'nic'`, and `'act_cost'` fields. To do this we had to write some functions to calculate the statistics and apply the functions to our data structure. The DataFrame has a `describe` method that will calculate most (not all) of these things for us.\n",
    "\n",
    "Submit the summary statistics to the grader as a list of tuples: [('act_cost', (total, mean, std, q25, median, q75)), ...]"
   ]
  },
  {
   "cell_type": "code",
   "execution_count": 38,
   "metadata": {
    "scrolled": true
   },
   "outputs": [
    {
     "data": {
      "text/plain": [
       "8888304"
      ]
     },
     "execution_count": 38,
     "metadata": {},
     "output_type": "execute_result"
    }
   ],
   "source": [
    "scripts['items'].sum()"
   ]
  },
  {
   "cell_type": "code",
   "execution_count": 39,
   "metadata": {},
   "outputs": [
    {
     "name": "stdout",
     "output_type": "stream",
     "text": [
      "('items', (8888304, 9.133135976111625, 29.204198282803603, 1.0, 2.0, 6.0))\n",
      "('quantity', (721457006, 741.3298348837282, 3665.426958467915, 28.0, 100.0, 350.0))\n",
      "('nic', (71100424.84000002, 73.05891517920908, 188.070256906825, 7.8, 22.64, 65.0))\n",
      "('act_cost', (66164096.11999999, 67.98661326170655, 174.40170332301963, 7.33, 21.22, 60.67))\n"
     ]
    }
   ],
   "source": [
    "def summary(dataframe_col_name):\n",
    "    t = list(scripts.describe()[dataframe_col_name].drop(['count','min','max']))\n",
    "    t.insert(0,scripts[dataframe_col_name].sum())\n",
    "    return dataframe_col_name,tuple(t)\n",
    "\n",
    "print(summary('items'))\n",
    "print(summary('quantity'))\n",
    "print(summary('nic'))\n",
    "print(summary('act_cost'))"
   ]
  },
  {
   "cell_type": "code",
   "execution_count": 40,
   "metadata": {},
   "outputs": [],
   "source": [
    "summary_stats = [summary('items'), summary('quantity'), summary('nic'), summary('act_cost')]"
   ]
  },
  {
   "cell_type": "code",
   "execution_count": 41,
   "metadata": {},
   "outputs": [
    {
     "name": "stdout",
     "output_type": "stream",
     "text": [
      "==================\n",
      "Your score:  1.0\n",
      "==================\n"
     ]
    }
   ],
   "source": [
    "grader.score.dw__summary_statistics(summary_stats)"
   ]
  },
  {
   "cell_type": "markdown",
   "metadata": {},
   "source": [
    "## Question 2: most_common_item\n",
    "\n",
    "We can also easily compute summary statistics on groups within the data. In the `pw` miniproject we had to explicitly construct the groups based on the values of a particular field. Pandas will handle that for us via the `groupby` method. This process is [detailed in the Pandas documentation](https://pandas.pydata.org/pandas-docs/stable/groupby.html).\n",
    "\n",
    "Use `groupby` to calculate the total number of items dispensed for each `'bnf_name'`. Find the item with the highest total and return the result as `[(bnf_name, total)]`."
   ]
  },
  {
   "cell_type": "code",
   "execution_count": 30,
   "metadata": {},
   "outputs": [
    {
     "data": {
      "text/plain": [
       "('Omeprazole_Cap E/C 20mg', 218583)"
      ]
     },
     "execution_count": 30,
     "metadata": {},
     "output_type": "execute_result"
    }
   ],
   "source": [
    "bnf_name_grouped = scripts.groupby('bnf_name')\n",
    "bnf_name_grouped['items'].sum().idxmax(), bnf_name_grouped['items'].sum().max()"
   ]
  },
  {
   "cell_type": "code",
   "execution_count": 26,
   "metadata": {},
   "outputs": [],
   "source": [
    "most_common_item = [(\"Omeprazole_Cap E/C 20mg\", 218583)]"
   ]
  },
  {
   "cell_type": "code",
   "execution_count": 42,
   "metadata": {},
   "outputs": [
    {
     "name": "stdout",
     "output_type": "stream",
     "text": [
      "==================\n",
      "Your score:  1.0\n",
      "==================\n"
     ]
    }
   ],
   "source": [
    "grader.score.dw__most_common_item(most_common_item)"
   ]
  },
  {
   "cell_type": "markdown",
   "metadata": {},
   "source": [
    "## Question 3: items_by_region\n",
    "\n",
    "Now let's find the most common item by post code. The post code information is in the `practices` DataFrame, and we'll need to `merge` it into the `scripts` DataFrame. Pandas provides [extensive documentation](https://pandas.pydata.org/pandas-docs/stable/merging.html) with diagrammed examples on different methods and approaches for joining data. The `merge` method is only one of many possible options.\n",
    "\n",
    "Return your results as a list of tuples `(post code, item name, amount dispensed as % of total)`. Sort your results ascending alphabetically by post code and take only results from the first 100 post codes.\n",
    "\n",
    "**NOTE:** Some practices have multiple postal codes associated with them. Use the alphabetically first postal code. Note some postal codes may have multiple `'bnf_name'` with the same prescription rate for the maximum. In this case, take the alphabetically first `'bnf_name'` (as in the PW miniproject)."
   ]
  },
  {
   "cell_type": "code",
   "execution_count": 7,
   "metadata": {},
   "outputs": [
    {
     "data": {
      "text/html": [
       "<div>\n",
       "<style scoped>\n",
       "    .dataframe tbody tr th:only-of-type {\n",
       "        vertical-align: middle;\n",
       "    }\n",
       "\n",
       "    .dataframe tbody tr th {\n",
       "        vertical-align: top;\n",
       "    }\n",
       "\n",
       "    .dataframe thead th {\n",
       "        text-align: right;\n",
       "    }\n",
       "</style>\n",
       "<table border=\"1\" class=\"dataframe\">\n",
       "  <thead>\n",
       "    <tr style=\"text-align: right;\">\n",
       "      <th></th>\n",
       "      <th>code</th>\n",
       "      <th>name</th>\n",
       "      <th>addr_1</th>\n",
       "      <th>addr_2</th>\n",
       "      <th>borough</th>\n",
       "      <th>village</th>\n",
       "      <th>post_code</th>\n",
       "    </tr>\n",
       "  </thead>\n",
       "  <tbody>\n",
       "    <tr>\n",
       "      <th>0</th>\n",
       "      <td>A81001</td>\n",
       "      <td>THE DENSHAM SURGERY</td>\n",
       "      <td>THE HEALTH CENTRE</td>\n",
       "      <td>LAWSON STREET</td>\n",
       "      <td>STOCKTON ON TEES</td>\n",
       "      <td>CLEVELAND</td>\n",
       "      <td>TS18 1HU</td>\n",
       "    </tr>\n",
       "    <tr>\n",
       "      <th>1</th>\n",
       "      <td>A81002</td>\n",
       "      <td>QUEENS PARK MEDICAL CENTRE</td>\n",
       "      <td>QUEENS PARK MEDICAL CTR</td>\n",
       "      <td>FARRER STREET</td>\n",
       "      <td>STOCKTON ON TEES</td>\n",
       "      <td>CLEVELAND</td>\n",
       "      <td>TS18 2AW</td>\n",
       "    </tr>\n",
       "    <tr>\n",
       "      <th>2</th>\n",
       "      <td>A81003</td>\n",
       "      <td>VICTORIA MEDICAL PRACTICE</td>\n",
       "      <td>THE HEALTH CENTRE</td>\n",
       "      <td>VICTORIA ROAD</td>\n",
       "      <td>HARTLEPOOL</td>\n",
       "      <td>CLEVELAND</td>\n",
       "      <td>TS26 8DB</td>\n",
       "    </tr>\n",
       "    <tr>\n",
       "      <th>3</th>\n",
       "      <td>A81004</td>\n",
       "      <td>WOODLANDS ROAD SURGERY</td>\n",
       "      <td>6 WOODLANDS ROAD</td>\n",
       "      <td>NaN</td>\n",
       "      <td>MIDDLESBROUGH</td>\n",
       "      <td>CLEVELAND</td>\n",
       "      <td>TS1 3BE</td>\n",
       "    </tr>\n",
       "    <tr>\n",
       "      <th>4</th>\n",
       "      <td>A81005</td>\n",
       "      <td>SPRINGWOOD SURGERY</td>\n",
       "      <td>SPRINGWOOD SURGERY</td>\n",
       "      <td>RECTORY LANE</td>\n",
       "      <td>GUISBOROUGH</td>\n",
       "      <td>NaN</td>\n",
       "      <td>TS14 7DJ</td>\n",
       "    </tr>\n",
       "  </tbody>\n",
       "</table>\n",
       "</div>"
      ],
      "text/plain": [
       "     code                        name                   addr_1         addr_2  \\\n",
       "0  A81001         THE DENSHAM SURGERY        THE HEALTH CENTRE  LAWSON STREET   \n",
       "1  A81002  QUEENS PARK MEDICAL CENTRE  QUEENS PARK MEDICAL CTR  FARRER STREET   \n",
       "2  A81003   VICTORIA MEDICAL PRACTICE        THE HEALTH CENTRE  VICTORIA ROAD   \n",
       "3  A81004      WOODLANDS ROAD SURGERY         6 WOODLANDS ROAD            NaN   \n",
       "4  A81005          SPRINGWOOD SURGERY       SPRINGWOOD SURGERY   RECTORY LANE   \n",
       "\n",
       "            borough    village post_code  \n",
       "0  STOCKTON ON TEES  CLEVELAND  TS18 1HU  \n",
       "1  STOCKTON ON TEES  CLEVELAND  TS18 2AW  \n",
       "2        HARTLEPOOL  CLEVELAND  TS26 8DB  \n",
       "3     MIDDLESBROUGH  CLEVELAND   TS1 3BE  \n",
       "4       GUISBOROUGH        NaN  TS14 7DJ  "
      ]
     },
     "execution_count": 7,
     "metadata": {},
     "output_type": "execute_result"
    }
   ],
   "source": [
    "practices.head()"
   ]
  },
  {
   "cell_type": "code",
   "execution_count": 9,
   "metadata": {},
   "outputs": [
    {
     "data": {
      "text/html": [
       "<div>\n",
       "<style scoped>\n",
       "    .dataframe tbody tr th:only-of-type {\n",
       "        vertical-align: middle;\n",
       "    }\n",
       "\n",
       "    .dataframe tbody tr th {\n",
       "        vertical-align: top;\n",
       "    }\n",
       "\n",
       "    .dataframe thead th {\n",
       "        text-align: right;\n",
       "    }\n",
       "</style>\n",
       "<table border=\"1\" class=\"dataframe\">\n",
       "  <thead>\n",
       "    <tr style=\"text-align: right;\">\n",
       "      <th></th>\n",
       "      <th>code</th>\n",
       "      <th>name</th>\n",
       "      <th>addr_1</th>\n",
       "      <th>addr_2</th>\n",
       "      <th>borough</th>\n",
       "      <th>village</th>\n",
       "      <th>post_code</th>\n",
       "    </tr>\n",
       "  </thead>\n",
       "  <tbody>\n",
       "    <tr>\n",
       "      <th>1896</th>\n",
       "      <td>E82060</td>\n",
       "      <td>PARKBURY HOUSE SURGERY</td>\n",
       "      <td>PARKBURY HOUSE</td>\n",
       "      <td>ST.PETERS STREET</td>\n",
       "      <td>ST.ALBANS</td>\n",
       "      <td>HERTFORDSHIRE</td>\n",
       "      <td>AL1 3HD</td>\n",
       "    </tr>\n",
       "    <tr>\n",
       "      <th>1871</th>\n",
       "      <td>E82031</td>\n",
       "      <td>MALTINGS SURGERY</td>\n",
       "      <td>THE MALTINGS SURGERY</td>\n",
       "      <td>8-14 VICTORIA STREET</td>\n",
       "      <td>ST ALBANS</td>\n",
       "      <td>HERTFORDSHIRE</td>\n",
       "      <td>AL1 3JB</td>\n",
       "    </tr>\n",
       "    <tr>\n",
       "      <th>1849</th>\n",
       "      <td>E82004</td>\n",
       "      <td>HATFIELD ROAD SURGERY</td>\n",
       "      <td>61 HATFIELD ROAD</td>\n",
       "      <td>NaN</td>\n",
       "      <td>ST.ALBANS</td>\n",
       "      <td>HERTFORDSHIRE</td>\n",
       "      <td>AL1 4JE</td>\n",
       "    </tr>\n",
       "    <tr>\n",
       "      <th>1848</th>\n",
       "      <td>E82002</td>\n",
       "      <td>WRAFTON HOUSE SURGERY</td>\n",
       "      <td>WRAFTON HOUSE SURGERY</td>\n",
       "      <td>9/11 WELLFIELD ROAD</td>\n",
       "      <td>HATFIELD</td>\n",
       "      <td>HERTFORDSHIRE</td>\n",
       "      <td>AL10 0BS</td>\n",
       "    </tr>\n",
       "    <tr>\n",
       "      <th>9812</th>\n",
       "      <td>Y05146</td>\n",
       "      <td>HCT LYMPHOEDEMA AT WEST ESSEX CCG</td>\n",
       "      <td>QUEENSWAY HEALTH CENTRE</td>\n",
       "      <td>QUEENSWAY</td>\n",
       "      <td>HATFIELD</td>\n",
       "      <td>HERTFORDSHIRE</td>\n",
       "      <td>AL10 0LF</td>\n",
       "    </tr>\n",
       "  </tbody>\n",
       "</table>\n",
       "</div>"
      ],
      "text/plain": [
       "        code                               name                   addr_1  \\\n",
       "1896  E82060             PARKBURY HOUSE SURGERY           PARKBURY HOUSE   \n",
       "1871  E82031                   MALTINGS SURGERY     THE MALTINGS SURGERY   \n",
       "1849  E82004              HATFIELD ROAD SURGERY         61 HATFIELD ROAD   \n",
       "1848  E82002              WRAFTON HOUSE SURGERY    WRAFTON HOUSE SURGERY   \n",
       "9812  Y05146  HCT LYMPHOEDEMA AT WEST ESSEX CCG  QUEENSWAY HEALTH CENTRE   \n",
       "\n",
       "                    addr_2    borough        village post_code  \n",
       "1896      ST.PETERS STREET  ST.ALBANS  HERTFORDSHIRE   AL1 3HD  \n",
       "1871  8-14 VICTORIA STREET  ST ALBANS  HERTFORDSHIRE   AL1 3JB  \n",
       "1849                   NaN  ST.ALBANS  HERTFORDSHIRE   AL1 4JE  \n",
       "1848   9/11 WELLFIELD ROAD   HATFIELD  HERTFORDSHIRE  AL10 0BS  \n",
       "9812             QUEENSWAY   HATFIELD  HERTFORDSHIRE  AL10 0LF  "
      ]
     },
     "execution_count": 9,
     "metadata": {},
     "output_type": "execute_result"
    }
   ],
   "source": [
    "sorted_practices = practices.sort_values('post_code').drop_duplicates('code', keep = 'first')\n",
    "sorted_practices.head()"
   ]
  },
  {
   "cell_type": "code",
   "execution_count": 10,
   "metadata": {},
   "outputs": [
    {
     "data": {
      "text/html": [
       "<div>\n",
       "<style scoped>\n",
       "    .dataframe tbody tr th:only-of-type {\n",
       "        vertical-align: middle;\n",
       "    }\n",
       "\n",
       "    .dataframe tbody tr th {\n",
       "        vertical-align: top;\n",
       "    }\n",
       "\n",
       "    .dataframe thead th {\n",
       "        text-align: right;\n",
       "    }\n",
       "</style>\n",
       "<table border=\"1\" class=\"dataframe\">\n",
       "  <thead>\n",
       "    <tr style=\"text-align: right;\">\n",
       "      <th></th>\n",
       "      <th>practice</th>\n",
       "      <th>bnf_code</th>\n",
       "      <th>bnf_name</th>\n",
       "      <th>items</th>\n",
       "      <th>nic</th>\n",
       "      <th>act_cost</th>\n",
       "      <th>quantity</th>\n",
       "      <th>code</th>\n",
       "      <th>name</th>\n",
       "      <th>addr_1</th>\n",
       "      <th>addr_2</th>\n",
       "      <th>borough</th>\n",
       "      <th>village</th>\n",
       "      <th>post_code</th>\n",
       "    </tr>\n",
       "  </thead>\n",
       "  <tbody>\n",
       "    <tr>\n",
       "      <th>0</th>\n",
       "      <td>N85639</td>\n",
       "      <td>0106020C0</td>\n",
       "      <td>Bisacodyl_Tab E/C 5mg</td>\n",
       "      <td>1</td>\n",
       "      <td>0.39</td>\n",
       "      <td>0.47</td>\n",
       "      <td>12</td>\n",
       "      <td>N85639</td>\n",
       "      <td>GP OOH VCH</td>\n",
       "      <td>VICTORIA CENTRAL HOSPITAL</td>\n",
       "      <td>MILL LANE</td>\n",
       "      <td>WALLASEY</td>\n",
       "      <td>NaN</td>\n",
       "      <td>CH44 5UF</td>\n",
       "    </tr>\n",
       "    <tr>\n",
       "      <th>1</th>\n",
       "      <td>N85639</td>\n",
       "      <td>0106040M0</td>\n",
       "      <td>Movicol Plain_Paed Pdr Sach 6.9g</td>\n",
       "      <td>1</td>\n",
       "      <td>4.38</td>\n",
       "      <td>4.07</td>\n",
       "      <td>30</td>\n",
       "      <td>N85639</td>\n",
       "      <td>GP OOH VCH</td>\n",
       "      <td>VICTORIA CENTRAL HOSPITAL</td>\n",
       "      <td>MILL LANE</td>\n",
       "      <td>WALLASEY</td>\n",
       "      <td>NaN</td>\n",
       "      <td>CH44 5UF</td>\n",
       "    </tr>\n",
       "    <tr>\n",
       "      <th>2</th>\n",
       "      <td>N85639</td>\n",
       "      <td>0301011R0</td>\n",
       "      <td>Salbutamol_Inha 100mcg (200 D) CFF</td>\n",
       "      <td>1</td>\n",
       "      <td>1.50</td>\n",
       "      <td>1.40</td>\n",
       "      <td>1</td>\n",
       "      <td>N85639</td>\n",
       "      <td>GP OOH VCH</td>\n",
       "      <td>VICTORIA CENTRAL HOSPITAL</td>\n",
       "      <td>MILL LANE</td>\n",
       "      <td>WALLASEY</td>\n",
       "      <td>NaN</td>\n",
       "      <td>CH44 5UF</td>\n",
       "    </tr>\n",
       "    <tr>\n",
       "      <th>3</th>\n",
       "      <td>N85639</td>\n",
       "      <td>0304010G0</td>\n",
       "      <td>Chlorphenamine Mal_Oral Soln 2mg/5ml</td>\n",
       "      <td>1</td>\n",
       "      <td>2.62</td>\n",
       "      <td>2.44</td>\n",
       "      <td>150</td>\n",
       "      <td>N85639</td>\n",
       "      <td>GP OOH VCH</td>\n",
       "      <td>VICTORIA CENTRAL HOSPITAL</td>\n",
       "      <td>MILL LANE</td>\n",
       "      <td>WALLASEY</td>\n",
       "      <td>NaN</td>\n",
       "      <td>CH44 5UF</td>\n",
       "    </tr>\n",
       "    <tr>\n",
       "      <th>4</th>\n",
       "      <td>N85639</td>\n",
       "      <td>0401020K0</td>\n",
       "      <td>Diazepam_Tab 2mg</td>\n",
       "      <td>1</td>\n",
       "      <td>0.16</td>\n",
       "      <td>0.26</td>\n",
       "      <td>6</td>\n",
       "      <td>N85639</td>\n",
       "      <td>GP OOH VCH</td>\n",
       "      <td>VICTORIA CENTRAL HOSPITAL</td>\n",
       "      <td>MILL LANE</td>\n",
       "      <td>WALLASEY</td>\n",
       "      <td>NaN</td>\n",
       "      <td>CH44 5UF</td>\n",
       "    </tr>\n",
       "  </tbody>\n",
       "</table>\n",
       "</div>"
      ],
      "text/plain": [
       "  practice   bnf_code                              bnf_name  items   nic  \\\n",
       "0   N85639  0106020C0                 Bisacodyl_Tab E/C 5mg      1  0.39   \n",
       "1   N85639  0106040M0      Movicol Plain_Paed Pdr Sach 6.9g      1  4.38   \n",
       "2   N85639  0301011R0    Salbutamol_Inha 100mcg (200 D) CFF      1  1.50   \n",
       "3   N85639  0304010G0  Chlorphenamine Mal_Oral Soln 2mg/5ml      1  2.62   \n",
       "4   N85639  0401020K0                      Diazepam_Tab 2mg      1  0.16   \n",
       "\n",
       "   act_cost  quantity    code        name                     addr_1  \\\n",
       "0      0.47        12  N85639  GP OOH VCH  VICTORIA CENTRAL HOSPITAL   \n",
       "1      4.07        30  N85639  GP OOH VCH  VICTORIA CENTRAL HOSPITAL   \n",
       "2      1.40         1  N85639  GP OOH VCH  VICTORIA CENTRAL HOSPITAL   \n",
       "3      2.44       150  N85639  GP OOH VCH  VICTORIA CENTRAL HOSPITAL   \n",
       "4      0.26         6  N85639  GP OOH VCH  VICTORIA CENTRAL HOSPITAL   \n",
       "\n",
       "      addr_2   borough village post_code  \n",
       "0  MILL LANE  WALLASEY     NaN  CH44 5UF  \n",
       "1  MILL LANE  WALLASEY     NaN  CH44 5UF  \n",
       "2  MILL LANE  WALLASEY     NaN  CH44 5UF  \n",
       "3  MILL LANE  WALLASEY     NaN  CH44 5UF  \n",
       "4  MILL LANE  WALLASEY     NaN  CH44 5UF  "
      ]
     },
     "execution_count": 10,
     "metadata": {},
     "output_type": "execute_result"
    }
   ],
   "source": [
    "merged = scripts.merge(sorted_practices, left_on='practice', right_on='code',how = 'inner')\n",
    "merged.head()"
   ]
  },
  {
   "cell_type": "code",
   "execution_count": 11,
   "metadata": {},
   "outputs": [
    {
     "data": {
      "text/html": [
       "<div>\n",
       "<style scoped>\n",
       "    .dataframe tbody tr th:only-of-type {\n",
       "        vertical-align: middle;\n",
       "    }\n",
       "\n",
       "    .dataframe tbody tr th {\n",
       "        vertical-align: top;\n",
       "    }\n",
       "\n",
       "    .dataframe thead th {\n",
       "        text-align: right;\n",
       "    }\n",
       "</style>\n",
       "<table border=\"1\" class=\"dataframe\">\n",
       "  <thead>\n",
       "    <tr style=\"text-align: right;\">\n",
       "      <th></th>\n",
       "      <th></th>\n",
       "      <th>items</th>\n",
       "    </tr>\n",
       "    <tr>\n",
       "      <th>post_code</th>\n",
       "      <th>bnf_name</th>\n",
       "      <th></th>\n",
       "    </tr>\n",
       "  </thead>\n",
       "  <tbody>\n",
       "    <tr>\n",
       "      <th rowspan=\"5\" valign=\"top\">B11 4BW</th>\n",
       "      <th>3m Health Care_Cavilon Durable Barrier C</th>\n",
       "      <td>7</td>\n",
       "    </tr>\n",
       "    <tr>\n",
       "      <th>3m Health Care_Cavilon No Sting Barrier</th>\n",
       "      <td>2</td>\n",
       "    </tr>\n",
       "    <tr>\n",
       "      <th>Abasaglar KwikPen_100u/ml 3ml Pf Pen</th>\n",
       "      <td>2</td>\n",
       "    </tr>\n",
       "    <tr>\n",
       "      <th>Abidec_Dps</th>\n",
       "      <td>63</td>\n",
       "    </tr>\n",
       "    <tr>\n",
       "      <th>Able Spacer + Sml/Med Mask</th>\n",
       "      <td>1</td>\n",
       "    </tr>\n",
       "  </tbody>\n",
       "</table>\n",
       "</div>"
      ],
      "text/plain": [
       "                                                    items\n",
       "post_code bnf_name                                       \n",
       "B11 4BW   3m Health Care_Cavilon Durable Barrier C      7\n",
       "          3m Health Care_Cavilon No Sting Barrier       2\n",
       "          Abasaglar KwikPen_100u/ml 3ml Pf Pen          2\n",
       "          Abidec_Dps                                   63\n",
       "          Able Spacer + Sml/Med Mask                    1"
      ]
     },
     "execution_count": 11,
     "metadata": {},
     "output_type": "execute_result"
    }
   ],
   "source": [
    "total_items_by_postcode = merged.groupby(['post_code','bnf_name'])[['items']].sum()\n",
    "total_items_by_postcode.head()"
   ]
  },
  {
   "cell_type": "code",
   "execution_count": 12,
   "metadata": {},
   "outputs": [
    {
     "data": {
      "text/html": [
       "<div>\n",
       "<style scoped>\n",
       "    .dataframe tbody tr th:only-of-type {\n",
       "        vertical-align: middle;\n",
       "    }\n",
       "\n",
       "    .dataframe tbody tr th {\n",
       "        vertical-align: top;\n",
       "    }\n",
       "\n",
       "    .dataframe thead th {\n",
       "        text-align: right;\n",
       "    }\n",
       "</style>\n",
       "<table border=\"1\" class=\"dataframe\">\n",
       "  <thead>\n",
       "    <tr style=\"text-align: right;\">\n",
       "      <th></th>\n",
       "      <th>post_code</th>\n",
       "      <th>bnf_name</th>\n",
       "      <th>items</th>\n",
       "    </tr>\n",
       "  </thead>\n",
       "  <tbody>\n",
       "    <tr>\n",
       "      <th>0</th>\n",
       "      <td>B11 4BW</td>\n",
       "      <td>3m Health Care_Cavilon Durable Barrier C</td>\n",
       "      <td>7</td>\n",
       "    </tr>\n",
       "    <tr>\n",
       "      <th>1</th>\n",
       "      <td>B11 4BW</td>\n",
       "      <td>3m Health Care_Cavilon No Sting Barrier</td>\n",
       "      <td>2</td>\n",
       "    </tr>\n",
       "    <tr>\n",
       "      <th>2</th>\n",
       "      <td>B11 4BW</td>\n",
       "      <td>Abasaglar KwikPen_100u/ml 3ml Pf Pen</td>\n",
       "      <td>2</td>\n",
       "    </tr>\n",
       "    <tr>\n",
       "      <th>3</th>\n",
       "      <td>B11 4BW</td>\n",
       "      <td>Abidec_Dps</td>\n",
       "      <td>63</td>\n",
       "    </tr>\n",
       "    <tr>\n",
       "      <th>4</th>\n",
       "      <td>B11 4BW</td>\n",
       "      <td>Able Spacer + Sml/Med Mask</td>\n",
       "      <td>1</td>\n",
       "    </tr>\n",
       "  </tbody>\n",
       "</table>\n",
       "</div>"
      ],
      "text/plain": [
       "  post_code                                  bnf_name  items\n",
       "0   B11 4BW  3m Health Care_Cavilon Durable Barrier C      7\n",
       "1   B11 4BW   3m Health Care_Cavilon No Sting Barrier      2\n",
       "2   B11 4BW      Abasaglar KwikPen_100u/ml 3ml Pf Pen      2\n",
       "3   B11 4BW                                Abidec_Dps     63\n",
       "4   B11 4BW                Able Spacer + Sml/Med Mask      1"
      ]
     },
     "execution_count": 12,
     "metadata": {},
     "output_type": "execute_result"
    }
   ],
   "source": [
    "total_items_by_postcode.reset_index(inplace=True)\n",
    "total_items_by_postcode.head()"
   ]
  },
  {
   "cell_type": "code",
   "execution_count": 13,
   "metadata": {},
   "outputs": [
    {
     "data": {
      "text/html": [
       "<div>\n",
       "<style scoped>\n",
       "    .dataframe tbody tr th:only-of-type {\n",
       "        vertical-align: middle;\n",
       "    }\n",
       "\n",
       "    .dataframe tbody tr th {\n",
       "        vertical-align: top;\n",
       "    }\n",
       "\n",
       "    .dataframe thead th {\n",
       "        text-align: right;\n",
       "    }\n",
       "</style>\n",
       "<table border=\"1\" class=\"dataframe\">\n",
       "  <thead>\n",
       "    <tr style=\"text-align: right;\">\n",
       "      <th></th>\n",
       "      <th>items</th>\n",
       "    </tr>\n",
       "    <tr>\n",
       "      <th>post_code</th>\n",
       "      <th></th>\n",
       "    </tr>\n",
       "  </thead>\n",
       "  <tbody>\n",
       "    <tr>\n",
       "      <th>B11 4BW</th>\n",
       "      <td>706</td>\n",
       "    </tr>\n",
       "    <tr>\n",
       "      <th>B12 9LP</th>\n",
       "      <td>425</td>\n",
       "    </tr>\n",
       "    <tr>\n",
       "      <th>B18 7AL</th>\n",
       "      <td>556</td>\n",
       "    </tr>\n",
       "    <tr>\n",
       "      <th>B21 9RY</th>\n",
       "      <td>1033</td>\n",
       "    </tr>\n",
       "    <tr>\n",
       "      <th>B23 6DJ</th>\n",
       "      <td>599</td>\n",
       "    </tr>\n",
       "  </tbody>\n",
       "</table>\n",
       "</div>"
      ],
      "text/plain": [
       "           items\n",
       "post_code       \n",
       "B11 4BW      706\n",
       "B12 9LP      425\n",
       "B18 7AL      556\n",
       "B21 9RY     1033\n",
       "B23 6DJ      599"
      ]
     },
     "execution_count": 13,
     "metadata": {},
     "output_type": "execute_result"
    }
   ],
   "source": [
    "total_items_max = total_items_by_postcode.groupby('post_code')[['items']].max()\n",
    "total_items_max.head()"
   ]
  },
  {
   "cell_type": "code",
   "execution_count": 14,
   "metadata": {},
   "outputs": [
    {
     "data": {
      "text/html": [
       "<div>\n",
       "<style scoped>\n",
       "    .dataframe tbody tr th:only-of-type {\n",
       "        vertical-align: middle;\n",
       "    }\n",
       "\n",
       "    .dataframe tbody tr th {\n",
       "        vertical-align: top;\n",
       "    }\n",
       "\n",
       "    .dataframe thead th {\n",
       "        text-align: right;\n",
       "    }\n",
       "</style>\n",
       "<table border=\"1\" class=\"dataframe\">\n",
       "  <thead>\n",
       "    <tr style=\"text-align: right;\">\n",
       "      <th></th>\n",
       "      <th>post_code</th>\n",
       "      <th>items</th>\n",
       "      <th>bnf_name</th>\n",
       "    </tr>\n",
       "  </thead>\n",
       "  <tbody>\n",
       "    <tr>\n",
       "      <th>0</th>\n",
       "      <td>B11 4BW</td>\n",
       "      <td>706</td>\n",
       "      <td>Salbutamol_Inha 100mcg (200 D) CFF</td>\n",
       "    </tr>\n",
       "    <tr>\n",
       "      <th>1</th>\n",
       "      <td>B12 9LP</td>\n",
       "      <td>425</td>\n",
       "      <td>Paracet_Tab 500mg</td>\n",
       "    </tr>\n",
       "    <tr>\n",
       "      <th>2</th>\n",
       "      <td>B18 7AL</td>\n",
       "      <td>556</td>\n",
       "      <td>Salbutamol_Inha 100mcg (200 D) CFF</td>\n",
       "    </tr>\n",
       "    <tr>\n",
       "      <th>3</th>\n",
       "      <td>B21 9RY</td>\n",
       "      <td>1033</td>\n",
       "      <td>Metformin HCl_Tab 500mg</td>\n",
       "    </tr>\n",
       "    <tr>\n",
       "      <th>4</th>\n",
       "      <td>B23 6DJ</td>\n",
       "      <td>599</td>\n",
       "      <td>Lansoprazole_Cap 30mg (E/C Gran)</td>\n",
       "    </tr>\n",
       "  </tbody>\n",
       "</table>\n",
       "</div>"
      ],
      "text/plain": [
       "  post_code  items                            bnf_name\n",
       "0   B11 4BW    706  Salbutamol_Inha 100mcg (200 D) CFF\n",
       "1   B12 9LP    425                   Paracet_Tab 500mg\n",
       "2   B18 7AL    556  Salbutamol_Inha 100mcg (200 D) CFF\n",
       "3   B21 9RY   1033             Metformin HCl_Tab 500mg\n",
       "4   B23 6DJ    599    Lansoprazole_Cap 30mg (E/C Gran)"
      ]
     },
     "execution_count": 14,
     "metadata": {},
     "output_type": "execute_result"
    }
   ],
   "source": [
    "total_items = total_items_max.merge(total_items_by_postcode, on=['post_code','items'], how = 'left')\n",
    "total_items.head()"
   ]
  },
  {
   "cell_type": "code",
   "execution_count": 15,
   "metadata": {},
   "outputs": [
    {
     "data": {
      "text/html": [
       "<div>\n",
       "<style scoped>\n",
       "    .dataframe tbody tr th:only-of-type {\n",
       "        vertical-align: middle;\n",
       "    }\n",
       "\n",
       "    .dataframe tbody tr th {\n",
       "        vertical-align: top;\n",
       "    }\n",
       "\n",
       "    .dataframe thead th {\n",
       "        text-align: right;\n",
       "    }\n",
       "</style>\n",
       "<table border=\"1\" class=\"dataframe\">\n",
       "  <thead>\n",
       "    <tr style=\"text-align: right;\">\n",
       "      <th></th>\n",
       "      <th>post_code</th>\n",
       "      <th>items</th>\n",
       "      <th>bnf_name</th>\n",
       "    </tr>\n",
       "  </thead>\n",
       "  <tbody>\n",
       "    <tr>\n",
       "      <th>73</th>\n",
       "      <td>E15 4ES</td>\n",
       "      <td>451</td>\n",
       "      <td>Amlodipine_Tab 10mg</td>\n",
       "    </tr>\n",
       "    <tr>\n",
       "      <th>66</th>\n",
       "      <td>DN16 2AB</td>\n",
       "      <td>1072</td>\n",
       "      <td>Amlodipine_Tab 5mg</td>\n",
       "    </tr>\n",
       "    <tr>\n",
       "      <th>255</th>\n",
       "      <td>WS9 8AJ</td>\n",
       "      <td>396</td>\n",
       "      <td>Amlodipine_Tab 5mg</td>\n",
       "    </tr>\n",
       "    <tr>\n",
       "      <th>142</th>\n",
       "      <td>NG2 7SD</td>\n",
       "      <td>605</td>\n",
       "      <td>Amlodipine_Tab 5mg</td>\n",
       "    </tr>\n",
       "    <tr>\n",
       "      <th>97</th>\n",
       "      <td>KT16 8HZ</td>\n",
       "      <td>401</td>\n",
       "      <td>Amlodipine_Tab 5mg</td>\n",
       "    </tr>\n",
       "  </tbody>\n",
       "</table>\n",
       "</div>"
      ],
      "text/plain": [
       "    post_code  items             bnf_name\n",
       "73    E15 4ES    451  Amlodipine_Tab 10mg\n",
       "66   DN16 2AB   1072   Amlodipine_Tab 5mg\n",
       "255   WS9 8AJ    396   Amlodipine_Tab 5mg\n",
       "142   NG2 7SD    605   Amlodipine_Tab 5mg\n",
       "97   KT16 8HZ    401   Amlodipine_Tab 5mg"
      ]
     },
     "execution_count": 15,
     "metadata": {},
     "output_type": "execute_result"
    }
   ],
   "source": [
    "total_items_sorted = total_items.sort_values('bnf_name').drop_duplicates(['post_code','items'], keep='first')\n",
    "total_items_sorted.head()"
   ]
  },
  {
   "cell_type": "code",
   "execution_count": 16,
   "metadata": {},
   "outputs": [
    {
     "data": {
      "text/html": [
       "<div>\n",
       "<style scoped>\n",
       "    .dataframe tbody tr th:only-of-type {\n",
       "        vertical-align: middle;\n",
       "    }\n",
       "\n",
       "    .dataframe tbody tr th {\n",
       "        vertical-align: top;\n",
       "    }\n",
       "\n",
       "    .dataframe thead th {\n",
       "        text-align: right;\n",
       "    }\n",
       "</style>\n",
       "<table border=\"1\" class=\"dataframe\">\n",
       "  <thead>\n",
       "    <tr style=\"text-align: right;\">\n",
       "      <th></th>\n",
       "      <th>post_code</th>\n",
       "      <th>items</th>\n",
       "      <th>bnf_name</th>\n",
       "    </tr>\n",
       "  </thead>\n",
       "  <tbody>\n",
       "    <tr>\n",
       "      <th>0</th>\n",
       "      <td>B11 4BW</td>\n",
       "      <td>706</td>\n",
       "      <td>Salbutamol_Inha 100mcg (200 D) CFF</td>\n",
       "    </tr>\n",
       "    <tr>\n",
       "      <th>1</th>\n",
       "      <td>B12 9LP</td>\n",
       "      <td>425</td>\n",
       "      <td>Paracet_Tab 500mg</td>\n",
       "    </tr>\n",
       "    <tr>\n",
       "      <th>2</th>\n",
       "      <td>B18 7AL</td>\n",
       "      <td>556</td>\n",
       "      <td>Salbutamol_Inha 100mcg (200 D) CFF</td>\n",
       "    </tr>\n",
       "    <tr>\n",
       "      <th>3</th>\n",
       "      <td>B21 9RY</td>\n",
       "      <td>1033</td>\n",
       "      <td>Metformin HCl_Tab 500mg</td>\n",
       "    </tr>\n",
       "    <tr>\n",
       "      <th>4</th>\n",
       "      <td>B23 6DJ</td>\n",
       "      <td>599</td>\n",
       "      <td>Lansoprazole_Cap 30mg (E/C Gran)</td>\n",
       "    </tr>\n",
       "  </tbody>\n",
       "</table>\n",
       "</div>"
      ],
      "text/plain": [
       "  post_code  items                            bnf_name\n",
       "0   B11 4BW    706  Salbutamol_Inha 100mcg (200 D) CFF\n",
       "1   B12 9LP    425                   Paracet_Tab 500mg\n",
       "2   B18 7AL    556  Salbutamol_Inha 100mcg (200 D) CFF\n",
       "3   B21 9RY   1033             Metformin HCl_Tab 500mg\n",
       "4   B23 6DJ    599    Lansoprazole_Cap 30mg (E/C Gran)"
      ]
     },
     "execution_count": 16,
     "metadata": {},
     "output_type": "execute_result"
    }
   ],
   "source": [
    "total_items_sorted.sort_values('post_code', inplace=True)\n",
    "total_items_sorted.head()"
   ]
  },
  {
   "cell_type": "code",
   "execution_count": 17,
   "metadata": {},
   "outputs": [
    {
     "data": {
      "text/html": [
       "<div>\n",
       "<style scoped>\n",
       "    .dataframe tbody tr th:only-of-type {\n",
       "        vertical-align: middle;\n",
       "    }\n",
       "\n",
       "    .dataframe tbody tr th {\n",
       "        vertical-align: top;\n",
       "    }\n",
       "\n",
       "    .dataframe thead th {\n",
       "        text-align: right;\n",
       "    }\n",
       "</style>\n",
       "<table border=\"1\" class=\"dataframe\">\n",
       "  <thead>\n",
       "    <tr style=\"text-align: right;\">\n",
       "      <th></th>\n",
       "      <th>post_code</th>\n",
       "      <th>items</th>\n",
       "    </tr>\n",
       "  </thead>\n",
       "  <tbody>\n",
       "    <tr>\n",
       "      <th>0</th>\n",
       "      <td>B11 4BW</td>\n",
       "      <td>22731</td>\n",
       "    </tr>\n",
       "    <tr>\n",
       "      <th>1</th>\n",
       "      <td>B12 9LP</td>\n",
       "      <td>17073</td>\n",
       "    </tr>\n",
       "    <tr>\n",
       "      <th>2</th>\n",
       "      <td>B18 7AL</td>\n",
       "      <td>20508</td>\n",
       "    </tr>\n",
       "    <tr>\n",
       "      <th>3</th>\n",
       "      <td>B21 9RY</td>\n",
       "      <td>31027</td>\n",
       "    </tr>\n",
       "    <tr>\n",
       "      <th>4</th>\n",
       "      <td>B23 6DJ</td>\n",
       "      <td>28011</td>\n",
       "    </tr>\n",
       "  </tbody>\n",
       "</table>\n",
       "</div>"
      ],
      "text/plain": [
       "  post_code  items\n",
       "0   B11 4BW  22731\n",
       "1   B12 9LP  17073\n",
       "2   B18 7AL  20508\n",
       "3   B21 9RY  31027\n",
       "4   B23 6DJ  28011"
      ]
     },
     "execution_count": 17,
     "metadata": {},
     "output_type": "execute_result"
    }
   ],
   "source": [
    "s = total_items_by_postcode.groupby('post_code')[['items']].sum().reset_index()\n",
    "s.head()"
   ]
  },
  {
   "cell_type": "code",
   "execution_count": 18,
   "metadata": {},
   "outputs": [
    {
     "data": {
      "text/html": [
       "<div>\n",
       "<style scoped>\n",
       "    .dataframe tbody tr th:only-of-type {\n",
       "        vertical-align: middle;\n",
       "    }\n",
       "\n",
       "    .dataframe tbody tr th {\n",
       "        vertical-align: top;\n",
       "    }\n",
       "\n",
       "    .dataframe thead th {\n",
       "        text-align: right;\n",
       "    }\n",
       "</style>\n",
       "<table border=\"1\" class=\"dataframe\">\n",
       "  <thead>\n",
       "    <tr style=\"text-align: right;\">\n",
       "      <th></th>\n",
       "      <th>post_code</th>\n",
       "      <th>items_x</th>\n",
       "      <th>items_y</th>\n",
       "      <th>bnf_name</th>\n",
       "    </tr>\n",
       "  </thead>\n",
       "  <tbody>\n",
       "    <tr>\n",
       "      <th>0</th>\n",
       "      <td>B11 4BW</td>\n",
       "      <td>22731</td>\n",
       "      <td>706</td>\n",
       "      <td>Salbutamol_Inha 100mcg (200 D) CFF</td>\n",
       "    </tr>\n",
       "    <tr>\n",
       "      <th>1</th>\n",
       "      <td>B12 9LP</td>\n",
       "      <td>17073</td>\n",
       "      <td>425</td>\n",
       "      <td>Paracet_Tab 500mg</td>\n",
       "    </tr>\n",
       "    <tr>\n",
       "      <th>2</th>\n",
       "      <td>B18 7AL</td>\n",
       "      <td>20508</td>\n",
       "      <td>556</td>\n",
       "      <td>Salbutamol_Inha 100mcg (200 D) CFF</td>\n",
       "    </tr>\n",
       "    <tr>\n",
       "      <th>3</th>\n",
       "      <td>B21 9RY</td>\n",
       "      <td>31027</td>\n",
       "      <td>1033</td>\n",
       "      <td>Metformin HCl_Tab 500mg</td>\n",
       "    </tr>\n",
       "    <tr>\n",
       "      <th>4</th>\n",
       "      <td>B23 6DJ</td>\n",
       "      <td>28011</td>\n",
       "      <td>599</td>\n",
       "      <td>Lansoprazole_Cap 30mg (E/C Gran)</td>\n",
       "    </tr>\n",
       "  </tbody>\n",
       "</table>\n",
       "</div>"
      ],
      "text/plain": [
       "  post_code  items_x  items_y                            bnf_name\n",
       "0   B11 4BW    22731      706  Salbutamol_Inha 100mcg (200 D) CFF\n",
       "1   B12 9LP    17073      425                   Paracet_Tab 500mg\n",
       "2   B18 7AL    20508      556  Salbutamol_Inha 100mcg (200 D) CFF\n",
       "3   B21 9RY    31027     1033             Metformin HCl_Tab 500mg\n",
       "4   B23 6DJ    28011      599    Lansoprazole_Cap 30mg (E/C Gran)"
      ]
     },
     "execution_count": 18,
     "metadata": {},
     "output_type": "execute_result"
    }
   ],
   "source": [
    "final_df = s.merge(total_items_sorted, on='post_code')\n",
    "final_df.head()"
   ]
  },
  {
   "cell_type": "code",
   "execution_count": 20,
   "metadata": {},
   "outputs": [
    {
     "data": {
      "text/html": [
       "<div>\n",
       "<style scoped>\n",
       "    .dataframe tbody tr th:only-of-type {\n",
       "        vertical-align: middle;\n",
       "    }\n",
       "\n",
       "    .dataframe tbody tr th {\n",
       "        vertical-align: top;\n",
       "    }\n",
       "\n",
       "    .dataframe thead th {\n",
       "        text-align: right;\n",
       "    }\n",
       "</style>\n",
       "<table border=\"1\" class=\"dataframe\">\n",
       "  <thead>\n",
       "    <tr style=\"text-align: right;\">\n",
       "      <th></th>\n",
       "      <th>post_code</th>\n",
       "      <th>items_x</th>\n",
       "      <th>items_y</th>\n",
       "      <th>bnf_name</th>\n",
       "      <th>amt%</th>\n",
       "    </tr>\n",
       "  </thead>\n",
       "  <tbody>\n",
       "    <tr>\n",
       "      <th>0</th>\n",
       "      <td>B11 4BW</td>\n",
       "      <td>22731</td>\n",
       "      <td>706</td>\n",
       "      <td>Salbutamol_Inha 100mcg (200 D) CFF</td>\n",
       "      <td>0.031059</td>\n",
       "    </tr>\n",
       "    <tr>\n",
       "      <th>1</th>\n",
       "      <td>B12 9LP</td>\n",
       "      <td>17073</td>\n",
       "      <td>425</td>\n",
       "      <td>Paracet_Tab 500mg</td>\n",
       "      <td>0.024893</td>\n",
       "    </tr>\n",
       "    <tr>\n",
       "      <th>2</th>\n",
       "      <td>B18 7AL</td>\n",
       "      <td>20508</td>\n",
       "      <td>556</td>\n",
       "      <td>Salbutamol_Inha 100mcg (200 D) CFF</td>\n",
       "      <td>0.027111</td>\n",
       "    </tr>\n",
       "    <tr>\n",
       "      <th>3</th>\n",
       "      <td>B21 9RY</td>\n",
       "      <td>31027</td>\n",
       "      <td>1033</td>\n",
       "      <td>Metformin HCl_Tab 500mg</td>\n",
       "      <td>0.033294</td>\n",
       "    </tr>\n",
       "    <tr>\n",
       "      <th>4</th>\n",
       "      <td>B23 6DJ</td>\n",
       "      <td>28011</td>\n",
       "      <td>599</td>\n",
       "      <td>Lansoprazole_Cap 30mg (E/C Gran)</td>\n",
       "      <td>0.021384</td>\n",
       "    </tr>\n",
       "  </tbody>\n",
       "</table>\n",
       "</div>"
      ],
      "text/plain": [
       "  post_code  items_x  items_y                            bnf_name      amt%\n",
       "0   B11 4BW    22731      706  Salbutamol_Inha 100mcg (200 D) CFF  0.031059\n",
       "1   B12 9LP    17073      425                   Paracet_Tab 500mg  0.024893\n",
       "2   B18 7AL    20508      556  Salbutamol_Inha 100mcg (200 D) CFF  0.027111\n",
       "3   B21 9RY    31027     1033             Metformin HCl_Tab 500mg  0.033294\n",
       "4   B23 6DJ    28011      599    Lansoprazole_Cap 30mg (E/C Gran)  0.021384"
      ]
     },
     "execution_count": 20,
     "metadata": {},
     "output_type": "execute_result"
    }
   ],
   "source": [
    "final_df['amt%'] = final_df['items_y'].astype(float)/final_df['items_x'].astype(float)\n",
    "final_df.head()"
   ]
  },
  {
   "cell_type": "code",
   "execution_count": 21,
   "metadata": {},
   "outputs": [
    {
     "data": {
      "text/html": [
       "<div>\n",
       "<style scoped>\n",
       "    .dataframe tbody tr th:only-of-type {\n",
       "        vertical-align: middle;\n",
       "    }\n",
       "\n",
       "    .dataframe tbody tr th {\n",
       "        vertical-align: top;\n",
       "    }\n",
       "\n",
       "    .dataframe thead th {\n",
       "        text-align: right;\n",
       "    }\n",
       "</style>\n",
       "<table border=\"1\" class=\"dataframe\">\n",
       "  <thead>\n",
       "    <tr style=\"text-align: right;\">\n",
       "      <th></th>\n",
       "      <th>post_code</th>\n",
       "      <th>bnf_name</th>\n",
       "      <th>amt%</th>\n",
       "    </tr>\n",
       "  </thead>\n",
       "  <tbody>\n",
       "    <tr>\n",
       "      <th>0</th>\n",
       "      <td>B11 4BW</td>\n",
       "      <td>Salbutamol_Inha 100mcg (200 D) CFF</td>\n",
       "      <td>0.031059</td>\n",
       "    </tr>\n",
       "    <tr>\n",
       "      <th>1</th>\n",
       "      <td>B12 9LP</td>\n",
       "      <td>Paracet_Tab 500mg</td>\n",
       "      <td>0.024893</td>\n",
       "    </tr>\n",
       "    <tr>\n",
       "      <th>2</th>\n",
       "      <td>B18 7AL</td>\n",
       "      <td>Salbutamol_Inha 100mcg (200 D) CFF</td>\n",
       "      <td>0.027111</td>\n",
       "    </tr>\n",
       "    <tr>\n",
       "      <th>3</th>\n",
       "      <td>B21 9RY</td>\n",
       "      <td>Metformin HCl_Tab 500mg</td>\n",
       "      <td>0.033294</td>\n",
       "    </tr>\n",
       "    <tr>\n",
       "      <th>4</th>\n",
       "      <td>B23 6DJ</td>\n",
       "      <td>Lansoprazole_Cap 30mg (E/C Gran)</td>\n",
       "      <td>0.021384</td>\n",
       "    </tr>\n",
       "  </tbody>\n",
       "</table>\n",
       "</div>"
      ],
      "text/plain": [
       "  post_code                            bnf_name      amt%\n",
       "0   B11 4BW  Salbutamol_Inha 100mcg (200 D) CFF  0.031059\n",
       "1   B12 9LP                   Paracet_Tab 500mg  0.024893\n",
       "2   B18 7AL  Salbutamol_Inha 100mcg (200 D) CFF  0.027111\n",
       "3   B21 9RY             Metformin HCl_Tab 500mg  0.033294\n",
       "4   B23 6DJ    Lansoprazole_Cap 30mg (E/C Gran)  0.021384"
      ]
     },
     "execution_count": 21,
     "metadata": {},
     "output_type": "execute_result"
    }
   ],
   "source": [
    "result = final_df[['post_code','bnf_name','amt%']]\n",
    "result.head()"
   ]
  },
  {
   "cell_type": "code",
   "execution_count": 24,
   "metadata": {},
   "outputs": [],
   "source": [
    "result = result.head(100)\n",
    "answer = []\n",
    "for values in result.values:\n",
    "    answer.append(tuple(values))"
   ]
  },
  {
   "cell_type": "code",
   "execution_count": 23,
   "metadata": {},
   "outputs": [],
   "source": [
    "items_by_region = [(\"B11 4BW\", \"Salbutamol_Inha 100mcg (200 D) CFF\", 0.026332)] * 100"
   ]
  },
  {
   "cell_type": "code",
   "execution_count": 25,
   "metadata": {},
   "outputs": [],
   "source": [
    "items_by_region = answer"
   ]
  },
  {
   "cell_type": "code",
   "execution_count": 26,
   "metadata": {},
   "outputs": [
    {
     "name": "stdout",
     "output_type": "stream",
     "text": [
      "==================\n",
      "Your score:  1.0\n",
      "==================\n"
     ]
    }
   ],
   "source": [
    "grader.score.dw__items_by_region(items_by_region)"
   ]
  },
  {
   "cell_type": "markdown",
   "metadata": {},
   "source": [
    "## Question 4: script_anomalies\n",
    "\n",
    "Drug abuse is a source of human and monetary costs in health care. A first step in identifying practitioners that enable drug abuse is to look for practices where commonly abused drugs are prescribed unusually often. Let's try to find practices that prescribe an unusually high amount of opioids. The opioids we'll look for are given in the list below."
   ]
  },
  {
   "cell_type": "code",
   "execution_count": 142,
   "metadata": {},
   "outputs": [],
   "source": [
    "opioids = ['morphine', 'oxycodone', 'methadone', 'fentanyl', 'pethidine', 'buprenorphine', 'propoxyphene', 'codeine']"
   ]
  },
  {
   "cell_type": "markdown",
   "metadata": {},
   "source": [
    "These are generic names for drugs, not brand names. Generic drug names can be found using the `'bnf_code'` field in `scripts` along with the `chem` table.. Use the list of opioids provided above along with these fields to make a new field in the `scripts` data that flags whether the row corresponds with a opioid prescription."
   ]
  },
  {
   "cell_type": "code",
   "execution_count": 145,
   "metadata": {},
   "outputs": [
    {
     "data": {
      "text/html": [
       "<div>\n",
       "<style scoped>\n",
       "    .dataframe tbody tr th:only-of-type {\n",
       "        vertical-align: middle;\n",
       "    }\n",
       "\n",
       "    .dataframe tbody tr th {\n",
       "        vertical-align: top;\n",
       "    }\n",
       "\n",
       "    .dataframe thead th {\n",
       "        text-align: right;\n",
       "    }\n",
       "</style>\n",
       "<table border=\"1\" class=\"dataframe\">\n",
       "  <thead>\n",
       "    <tr style=\"text-align: right;\">\n",
       "      <th></th>\n",
       "      <th>CHEM SUB</th>\n",
       "      <th>NAME</th>\n",
       "    </tr>\n",
       "  </thead>\n",
       "  <tbody>\n",
       "    <tr>\n",
       "      <th>0</th>\n",
       "      <td>0101010A0</td>\n",
       "      <td>Alexitol Sodium</td>\n",
       "    </tr>\n",
       "    <tr>\n",
       "      <th>1</th>\n",
       "      <td>0101010B0</td>\n",
       "      <td>Almasilate</td>\n",
       "    </tr>\n",
       "    <tr>\n",
       "      <th>2</th>\n",
       "      <td>0101010C0</td>\n",
       "      <td>Aluminium Hydroxide</td>\n",
       "    </tr>\n",
       "    <tr>\n",
       "      <th>3</th>\n",
       "      <td>0101010D0</td>\n",
       "      <td>Aluminium Hydroxide With Magnesium</td>\n",
       "    </tr>\n",
       "    <tr>\n",
       "      <th>4</th>\n",
       "      <td>0101010E0</td>\n",
       "      <td>Hydrotalcite</td>\n",
       "    </tr>\n",
       "    <tr>\n",
       "      <th>5</th>\n",
       "      <td>0101010F0</td>\n",
       "      <td>Magnesium Carbonate</td>\n",
       "    </tr>\n",
       "    <tr>\n",
       "      <th>6</th>\n",
       "      <td>0101010G0</td>\n",
       "      <td>Co-Magaldrox(Magnesium/Aluminium Hydrox)</td>\n",
       "    </tr>\n",
       "    <tr>\n",
       "      <th>7</th>\n",
       "      <td>0101010I0</td>\n",
       "      <td>Magnesium Oxide</td>\n",
       "    </tr>\n",
       "    <tr>\n",
       "      <th>8</th>\n",
       "      <td>0101010J0</td>\n",
       "      <td>Magnesium Trisilicate</td>\n",
       "    </tr>\n",
       "    <tr>\n",
       "      <th>9</th>\n",
       "      <td>0101010L0</td>\n",
       "      <td>Aluminium &amp; Magnesium &amp; Act Simeticone</td>\n",
       "    </tr>\n",
       "  </tbody>\n",
       "</table>\n",
       "</div>"
      ],
      "text/plain": [
       "    CHEM SUB                                      NAME\n",
       "0  0101010A0                           Alexitol Sodium\n",
       "1  0101010B0                                Almasilate\n",
       "2  0101010C0                       Aluminium Hydroxide\n",
       "3  0101010D0        Aluminium Hydroxide With Magnesium\n",
       "4  0101010E0                              Hydrotalcite\n",
       "5  0101010F0                       Magnesium Carbonate\n",
       "6  0101010G0  Co-Magaldrox(Magnesium/Aluminium Hydrox)\n",
       "7  0101010I0                           Magnesium Oxide\n",
       "8  0101010J0                     Magnesium Trisilicate\n",
       "9  0101010L0    Aluminium & Magnesium & Act Simeticone"
      ]
     },
     "execution_count": 145,
     "metadata": {},
     "output_type": "execute_result"
    }
   ],
   "source": [
    "chem.head(10)"
   ]
  },
  {
   "cell_type": "code",
   "execution_count": 146,
   "metadata": {},
   "outputs": [
    {
     "data": {
      "text/plain": [
       "'morphine|oxycodone|methadone|fentanyl|pethidine|buprenorphine|propoxyphene|codeine'"
      ]
     },
     "execution_count": 146,
     "metadata": {},
     "output_type": "execute_result"
    }
   ],
   "source": [
    "opioids_str = '|'.join(opioids) \n",
    "opioids_str"
   ]
  },
  {
   "cell_type": "code",
   "execution_count": 147,
   "metadata": {},
   "outputs": [
    {
     "data": {
      "text/plain": [
       "35"
      ]
     },
     "execution_count": 147,
     "metadata": {},
     "output_type": "execute_result"
    }
   ],
   "source": [
    "opioids_NAME = chem['NAME'].str.contains(opioids_str, case=False)\n",
    "opioids_List = chem.loc[opioids_NAME]['CHEM SUB'].tolist()\n",
    "len(opioids_List)"
   ]
  },
  {
   "cell_type": "code",
   "execution_count": 148,
   "metadata": {},
   "outputs": [],
   "source": [
    "from scipy.stats import zscore"
   ]
  },
  {
   "cell_type": "code",
   "execution_count": 149,
   "metadata": {},
   "outputs": [
    {
     "data": {
      "text/html": [
       "<div>\n",
       "<style scoped>\n",
       "    .dataframe tbody tr th:only-of-type {\n",
       "        vertical-align: middle;\n",
       "    }\n",
       "\n",
       "    .dataframe tbody tr th {\n",
       "        vertical-align: top;\n",
       "    }\n",
       "\n",
       "    .dataframe thead th {\n",
       "        text-align: right;\n",
       "    }\n",
       "</style>\n",
       "<table border=\"1\" class=\"dataframe\">\n",
       "  <thead>\n",
       "    <tr style=\"text-align: right;\">\n",
       "      <th></th>\n",
       "      <th>practice</th>\n",
       "      <th>bnf_code</th>\n",
       "      <th>bnf_name</th>\n",
       "      <th>items</th>\n",
       "      <th>nic</th>\n",
       "      <th>act_cost</th>\n",
       "      <th>quantity</th>\n",
       "      <th>rare</th>\n",
       "      <th>opioids</th>\n",
       "    </tr>\n",
       "  </thead>\n",
       "  <tbody>\n",
       "    <tr>\n",
       "      <th>0</th>\n",
       "      <td>N85639</td>\n",
       "      <td>0106020C0</td>\n",
       "      <td>Bisacodyl_Tab E/C 5mg</td>\n",
       "      <td>1</td>\n",
       "      <td>0.39</td>\n",
       "      <td>0.47</td>\n",
       "      <td>12</td>\n",
       "      <td>False</td>\n",
       "      <td>False</td>\n",
       "    </tr>\n",
       "    <tr>\n",
       "      <th>1</th>\n",
       "      <td>N85639</td>\n",
       "      <td>0106040M0</td>\n",
       "      <td>Movicol Plain_Paed Pdr Sach 6.9g</td>\n",
       "      <td>1</td>\n",
       "      <td>4.38</td>\n",
       "      <td>4.07</td>\n",
       "      <td>30</td>\n",
       "      <td>False</td>\n",
       "      <td>False</td>\n",
       "    </tr>\n",
       "    <tr>\n",
       "      <th>2</th>\n",
       "      <td>N85639</td>\n",
       "      <td>0301011R0</td>\n",
       "      <td>Salbutamol_Inha 100mcg (200 D) CFF</td>\n",
       "      <td>1</td>\n",
       "      <td>1.50</td>\n",
       "      <td>1.40</td>\n",
       "      <td>1</td>\n",
       "      <td>False</td>\n",
       "      <td>False</td>\n",
       "    </tr>\n",
       "    <tr>\n",
       "      <th>3</th>\n",
       "      <td>N85639</td>\n",
       "      <td>0304010G0</td>\n",
       "      <td>Chlorphenamine Mal_Oral Soln 2mg/5ml</td>\n",
       "      <td>1</td>\n",
       "      <td>2.62</td>\n",
       "      <td>2.44</td>\n",
       "      <td>150</td>\n",
       "      <td>False</td>\n",
       "      <td>False</td>\n",
       "    </tr>\n",
       "    <tr>\n",
       "      <th>4</th>\n",
       "      <td>N85639</td>\n",
       "      <td>0401020K0</td>\n",
       "      <td>Diazepam_Tab 2mg</td>\n",
       "      <td>1</td>\n",
       "      <td>0.16</td>\n",
       "      <td>0.26</td>\n",
       "      <td>6</td>\n",
       "      <td>False</td>\n",
       "      <td>False</td>\n",
       "    </tr>\n",
       "  </tbody>\n",
       "</table>\n",
       "</div>"
      ],
      "text/plain": [
       "  practice   bnf_code                              bnf_name  items   nic  \\\n",
       "0   N85639  0106020C0                 Bisacodyl_Tab E/C 5mg      1  0.39   \n",
       "1   N85639  0106040M0      Movicol Plain_Paed Pdr Sach 6.9g      1  4.38   \n",
       "2   N85639  0301011R0    Salbutamol_Inha 100mcg (200 D) CFF      1  1.50   \n",
       "3   N85639  0304010G0  Chlorphenamine Mal_Oral Soln 2mg/5ml      1  2.62   \n",
       "4   N85639  0401020K0                      Diazepam_Tab 2mg      1  0.16   \n",
       "\n",
       "   act_cost  quantity   rare  opioids  \n",
       "0      0.47        12  False    False  \n",
       "1      4.07        30  False    False  \n",
       "2      1.40         1  False    False  \n",
       "3      2.44       150  False    False  \n",
       "4      0.26         6  False    False  "
      ]
     },
     "execution_count": 149,
     "metadata": {},
     "output_type": "execute_result"
    }
   ],
   "source": [
    "opioids_scripts = scripts\n",
    "opioids_scripts['opioids'] = opioids_scripts['bnf_code'].isin(opioids_List)\n",
    "opioids_scripts.head()"
   ]
  },
  {
   "cell_type": "code",
   "execution_count": 141,
   "metadata": {},
   "outputs": [
    {
     "data": {
      "text/plain": [
       "(973193, 8)"
      ]
     },
     "execution_count": 141,
     "metadata": {},
     "output_type": "execute_result"
    }
   ],
   "source": [
    "opioids_scripts.shape"
   ]
  },
  {
   "cell_type": "code",
   "execution_count": 121,
   "metadata": {},
   "outputs": [
    {
     "data": {
      "text/plain": [
       "practice\n",
       "A81005    [-0.18518725150289303, -0.18518725150289303, -...\n",
       "A81007    [-0.21274399659906448, -0.21274399659906448, -...\n",
       "A81011    [-0.2209033504026086, -0.2209033504026086, -0....\n",
       "A81012    [-0.211358272556817, -0.211358272556817, -0.21...\n",
       "A81017    [-0.19908137735371037, -0.19908137735371037, -...\n",
       "Name: opioids, dtype: object"
      ]
     },
     "execution_count": 121,
     "metadata": {},
     "output_type": "execute_result"
    }
   ],
   "source": [
    "score.head()"
   ]
  },
  {
   "cell_type": "markdown",
   "metadata": {},
   "source": [
    "Now for each practice calculate the proportion of its prescriptions containing opioids.\n",
    "\n",
    "**Hint:** Consider the following list: `[0, 1, 1, 0, 0, 0]`. What proportion of the entries are 1s? What is the mean value?"
   ]
  },
  {
   "cell_type": "code",
   "execution_count": 150,
   "metadata": {},
   "outputs": [
    {
     "data": {
      "text/plain": [
       "7"
      ]
     },
     "execution_count": 150,
     "metadata": {},
     "output_type": "execute_result"
    }
   ],
   "source": [
    "opioid_prescriptions = opioids_scripts.groupby('practice')['opioids'].count().rename('opioid prescriptions')\n",
    "opioid_prescriptions['Y01852']"
   ]
  },
  {
   "cell_type": "code",
   "execution_count": 151,
   "metadata": {},
   "outputs": [
    {
     "name": "stdout",
     "output_type": "stream",
     "text": [
      "Overall rate : 0.03580276471367961\n"
     ]
    },
    {
     "data": {
      "text/plain": [
       "practice\n",
       "A81005    0.033179\n",
       "A81007    0.043329\n",
       "A81011    0.046556\n",
       "A81012    0.042793\n",
       "A81017    0.038140\n",
       "Name: opioid prescription rate, dtype: float64"
      ]
     },
     "execution_count": 151,
     "metadata": {},
     "output_type": "execute_result"
    }
   ],
   "source": [
    "opioids_per_practice = opioids_scripts.groupby('practice')['opioids'].mean().rename('opioid prescription rate')\n",
    "print('Overall rate :',opioids_scripts['opioids'].mean())\n",
    "opioids_per_practice.head()"
   ]
  },
  {
   "cell_type": "markdown",
   "metadata": {},
   "source": [
    "How do these proportions compare to the overall opioid prescription rate? Subtract off the proportion of all prescriptions that are opioids from each practice's proportion."
   ]
  },
  {
   "cell_type": "code",
   "execution_count": 152,
   "metadata": {},
   "outputs": [
    {
     "data": {
      "text/plain": [
       "practice\n",
       "A81005   -0.002624\n",
       "A81007    0.007526\n",
       "A81011    0.010753\n",
       "A81012    0.006990\n",
       "A81017    0.002337\n",
       "Name: relative diffrence, dtype: float64"
      ]
     },
     "execution_count": 152,
     "metadata": {},
     "output_type": "execute_result"
    }
   ],
   "source": [
    "relative_opioids_per_practice = opioids_per_practice - opioids_scripts['opioids'].mean()\n",
    "relative_opioids_per_practice.rename('relative diffrence',inplace = True)\n",
    "relative_opioids_per_practice.head()"
   ]
  },
  {
   "cell_type": "code",
   "execution_count": 153,
   "metadata": {},
   "outputs": [
    {
     "data": {
      "text/plain": [
       "practice\n",
       "A81005    0.179162\n",
       "A81007    0.203666\n",
       "A81011    0.210753\n",
       "A81012    0.202466\n",
       "A81017    0.191578\n",
       "Name: standard deviation, dtype: float64"
      ]
     },
     "execution_count": 153,
     "metadata": {},
     "output_type": "execute_result"
    }
   ],
   "source": [
    "sd_per_pactice = opioids_scripts.groupby('practice')['opioids'].std().rename('standard deviation')\n",
    "sd_per_pactice.head()"
   ]
  },
  {
   "cell_type": "markdown",
   "metadata": {},
   "source": [
    "Now that we know the difference between each practice's opioid prescription rate and the overall rate, we can identify which practices prescribe opioids at above average or below average rates. However, are the differences from the overall rate important or just random deviations? In other words, are the differences from the overall rate big or small?\n",
    "\n",
    "To answer this question we have to quantify the difference we would typically expect between a given practice's opioid prescription rate and the overall rate. This quantity is called the **standard error**, and is related to the **standard deviation**, $\\sigma$. The standard error in this case is\n",
    "\n",
    "$$ \\frac{\\sigma}{\\sqrt{n}} $$\n",
    "\n",
    "where $n$ is the number of prescriptions each practice made. Calculate the standard error for each practice. Then divide `relative_opioids_per_practice` by the standard errors. We'll call the final result `opioid_scores`."
   ]
  },
  {
   "cell_type": "code",
   "execution_count": 154,
   "metadata": {},
   "outputs": [
    {
     "data": {
      "text/plain": [
       "0.18579817605238425"
      ]
     },
     "execution_count": 154,
     "metadata": {},
     "output_type": "execute_result"
    }
   ],
   "source": [
    "overall_std = opioids_scripts['opioids'].std()\n",
    "overall_std"
   ]
  },
  {
   "cell_type": "code",
   "execution_count": 23,
   "metadata": {},
   "outputs": [
    {
     "data": {
      "text/plain": [
       "practice\n",
       "A81005    38.820098\n",
       "A81007    38.131352\n",
       "A81011    39.597980\n",
       "A81012    36.496575\n",
       "A81017    46.368092\n",
       "Name: sqrt n, dtype: float64"
      ]
     },
     "execution_count": 23,
     "metadata": {},
     "output_type": "execute_result"
    }
   ],
   "source": [
    "number_of_prescriptions_per_pactice = opioids_scripts.groupby('practice')['bnf_code'].count().rename('n')\n",
    "sqrt_number_of_prescriptions_per_pactice = np.sqrt(number_of_prescriptions_per_pactice)\n",
    "sqrt_number_of_prescriptions_per_pactice.rename('sqrt n',inplace = True)\n",
    "sqrt_number_of_prescriptions_per_pactice.head()"
   ]
  },
  {
   "cell_type": "code",
   "execution_count": 155,
   "metadata": {},
   "outputs": [
    {
     "data": {
      "text/plain": [
       "practice\n",
       "A81005    38.820098\n",
       "A81007    38.131352\n",
       "A81011    39.597980\n",
       "A81012    36.496575\n",
       "A81017    46.368092\n",
       "Name: sqrt n, dtype: float64"
      ]
     },
     "execution_count": 155,
     "metadata": {},
     "output_type": "execute_result"
    }
   ],
   "source": [
    "number_of_prescriptions_per_pactice = opioids_scripts.groupby('practice')['bnf_code'].count().rename('n')\n",
    "sqrt_number_of_prescriptions_per_pactice = number_of_prescriptions_per_pactice**0.5\n",
    "sqrt_number_of_prescriptions_per_pactice.rename('sqrt n',inplace = True)\n",
    "sqrt_number_of_prescriptions_per_pactice.head()"
   ]
  },
  {
   "cell_type": "markdown",
   "metadata": {},
   "source": [
    "The quantity we have calculated in `opioid_scores` is called a **z-score**:\n",
    "\n",
    "$$ \\frac{\\bar{X} - \\mu}{\\sqrt{\\sigma^2/n}} $$\n",
    "\n",
    "Here $\\bar{X}$ corresponds with the proportion for each practice, $\\mu$ corresponds with the proportion across all practices, $\\sigma^2$ corresponds with the variance of the proportion across all practices, and $n$ is the number of prescriptions made by each practice. Notice $\\bar{X}$ and $n$ will be different for each practice, while $\\mu$ and $\\sigma$ are determined across all prescriptions, and so are the same for every z-score. The z-score is a useful statistical tool used for hypothesis testing, finding outliers, and comparing data about different types of objects or events.\n",
    "\n",
    "Now that we've calculated this statistic, take the 100 practices with the largest z-score. Return your result as a list of tuples in the form `(practice_name, z-score, number_of_scripts)`. Sort your tuples by z-score in descending order. Note that some practice codes will correspond with multiple names. In this case, use the first match when sorting names alphabetically."
   ]
  },
  {
   "cell_type": "code",
   "execution_count": 156,
   "metadata": {},
   "outputs": [
    {
     "data": {
      "text/plain": [
       "practice\n",
       "A81005    0.004786\n",
       "A81007    0.004873\n",
       "A81011    0.004692\n",
       "A81012    0.005091\n",
       "A81017    0.004007\n",
       "A81018    0.004500\n",
       "A81021    0.004244\n",
       "A81023    0.004524\n",
       "A81029    0.005226\n",
       "A81031    0.004510\n",
       "Name: sqrt n, dtype: float64"
      ]
     },
     "execution_count": 156,
     "metadata": {},
     "output_type": "execute_result"
    }
   ],
   "source": [
    "standard_error_per_practice = overall_std/sqrt_number_of_prescriptions_per_pactice\n",
    "standard_error_per_practice.head(10)"
   ]
  },
  {
   "cell_type": "code",
   "execution_count": 157,
   "metadata": {},
   "outputs": [
    {
     "data": {
      "text/plain": [
       "array([-0.54830571,  1.54455729,  2.29179452,  1.37306022,  0.58316813,\n",
       "       -0.52708029,  0.53671185,  0.20975905,  0.41560014,  1.20758269,\n",
       "        0.42974719,  1.6948317 , -0.46417583,  0.76968589,  0.37605092,\n",
       "        0.71693583,  0.76369907, -0.29069832,  1.92680854,  1.9047661 ])"
      ]
     },
     "execution_count": 157,
     "metadata": {},
     "output_type": "execute_result"
    }
   ],
   "source": [
    "opioid_scores = relative_opioids_per_practice/standard_error_per_practice\n",
    "opioid_scores.rename('opioid scores')\n",
    "opioid_scores.values[:20]"
   ]
  },
  {
   "cell_type": "code",
   "execution_count": 158,
   "metadata": {},
   "outputs": [
    {
     "data": {
      "text/html": [
       "<div>\n",
       "<style scoped>\n",
       "    .dataframe tbody tr th:only-of-type {\n",
       "        vertical-align: middle;\n",
       "    }\n",
       "\n",
       "    .dataframe tbody tr th {\n",
       "        vertical-align: top;\n",
       "    }\n",
       "\n",
       "    .dataframe thead th {\n",
       "        text-align: right;\n",
       "    }\n",
       "</style>\n",
       "<table border=\"1\" class=\"dataframe\">\n",
       "  <thead>\n",
       "    <tr style=\"text-align: right;\">\n",
       "      <th></th>\n",
       "      <th>practice</th>\n",
       "      <th>name</th>\n",
       "    </tr>\n",
       "  </thead>\n",
       "  <tbody>\n",
       "    <tr>\n",
       "      <th>0</th>\n",
       "      <td>A81001</td>\n",
       "      <td>THE DENSHAM SURGERY</td>\n",
       "    </tr>\n",
       "    <tr>\n",
       "      <th>1</th>\n",
       "      <td>A81002</td>\n",
       "      <td>QUEENS PARK MEDICAL CENTRE</td>\n",
       "    </tr>\n",
       "    <tr>\n",
       "      <th>2</th>\n",
       "      <td>A81003</td>\n",
       "      <td>VICTORIA MEDICAL PRACTICE</td>\n",
       "    </tr>\n",
       "    <tr>\n",
       "      <th>3</th>\n",
       "      <td>A81004</td>\n",
       "      <td>WOODLANDS ROAD SURGERY</td>\n",
       "    </tr>\n",
       "    <tr>\n",
       "      <th>4</th>\n",
       "      <td>A81005</td>\n",
       "      <td>SPRINGWOOD SURGERY</td>\n",
       "    </tr>\n",
       "  </tbody>\n",
       "</table>\n",
       "</div>"
      ],
      "text/plain": [
       "  practice                        name\n",
       "0   A81001         THE DENSHAM SURGERY\n",
       "1   A81002  QUEENS PARK MEDICAL CENTRE\n",
       "2   A81003   VICTORIA MEDICAL PRACTICE\n",
       "3   A81004      WOODLANDS ROAD SURGERY\n",
       "4   A81005          SPRINGWOOD SURGERY"
      ]
     },
     "execution_count": 158,
     "metadata": {},
     "output_type": "execute_result"
    }
   ],
   "source": [
    "opioids_practices = practices[['code', 'name']]\n",
    "opioids_practices.columns = ['practice', 'name']\n",
    "opioids_practices.head()"
   ]
  },
  {
   "cell_type": "code",
   "execution_count": 159,
   "metadata": {},
   "outputs": [
    {
     "data": {
      "text/html": [
       "<div>\n",
       "<style scoped>\n",
       "    .dataframe tbody tr th:only-of-type {\n",
       "        vertical-align: middle;\n",
       "    }\n",
       "\n",
       "    .dataframe tbody tr th {\n",
       "        vertical-align: top;\n",
       "    }\n",
       "\n",
       "    .dataframe thead th {\n",
       "        text-align: right;\n",
       "    }\n",
       "</style>\n",
       "<table border=\"1\" class=\"dataframe\">\n",
       "  <thead>\n",
       "    <tr style=\"text-align: right;\">\n",
       "      <th></th>\n",
       "      <th>index</th>\n",
       "      <th>practice</th>\n",
       "      <th>name</th>\n",
       "    </tr>\n",
       "  </thead>\n",
       "  <tbody>\n",
       "    <tr>\n",
       "      <th>0</th>\n",
       "      <td>0</td>\n",
       "      <td>A81001</td>\n",
       "      <td>THE DENSHAM SURGERY</td>\n",
       "    </tr>\n",
       "    <tr>\n",
       "      <th>1</th>\n",
       "      <td>1</td>\n",
       "      <td>A81002</td>\n",
       "      <td>QUEENS PARK MEDICAL CENTRE</td>\n",
       "    </tr>\n",
       "    <tr>\n",
       "      <th>2</th>\n",
       "      <td>2</td>\n",
       "      <td>A81003</td>\n",
       "      <td>VICTORIA MEDICAL PRACTICE</td>\n",
       "    </tr>\n",
       "    <tr>\n",
       "      <th>3</th>\n",
       "      <td>3</td>\n",
       "      <td>A81004</td>\n",
       "      <td>WOODLANDS ROAD SURGERY</td>\n",
       "    </tr>\n",
       "    <tr>\n",
       "      <th>4</th>\n",
       "      <td>4</td>\n",
       "      <td>A81005</td>\n",
       "      <td>SPRINGWOOD SURGERY</td>\n",
       "    </tr>\n",
       "  </tbody>\n",
       "</table>\n",
       "</div>"
      ],
      "text/plain": [
       "   index practice                        name\n",
       "0      0   A81001         THE DENSHAM SURGERY\n",
       "1      1   A81002  QUEENS PARK MEDICAL CENTRE\n",
       "2      2   A81003   VICTORIA MEDICAL PRACTICE\n",
       "3      3   A81004      WOODLANDS ROAD SURGERY\n",
       "4      4   A81005          SPRINGWOOD SURGERY"
      ]
     },
     "execution_count": 159,
     "metadata": {},
     "output_type": "execute_result"
    }
   ],
   "source": [
    "opioids_practices.reset_index().head()"
   ]
  },
  {
   "cell_type": "code",
   "execution_count": 160,
   "metadata": {},
   "outputs": [
    {
     "data": {
      "text/plain": [
       "7"
      ]
     },
     "execution_count": 160,
     "metadata": {},
     "output_type": "execute_result"
    }
   ],
   "source": [
    "opioid_prescriptions = opioids_scripts.groupby('practice')['opioids'].count().rename('opioid prescriptions')\n",
    "opioid_prescriptions['Y01852']"
   ]
  },
  {
   "cell_type": "code",
   "execution_count": 161,
   "metadata": {},
   "outputs": [
    {
     "data": {
      "text/plain": [
       "6.0"
      ]
     },
     "execution_count": 161,
     "metadata": {},
     "output_type": "execute_result"
    }
   ],
   "source": [
    "opioid_prescriptions_sum = opioids_scripts.groupby('practice')['opioids'].sum().rename('opioid total')\n",
    "opioid_prescriptions_sum ['Y01852']"
   ]
  },
  {
   "cell_type": "code",
   "execution_count": 162,
   "metadata": {},
   "outputs": [],
   "source": [
    "stat = pd.concat([opioid_prescriptions,opioid_scores,opioid_prescriptions_sum],axis =1)\n",
    "stat.columns = ['opioid prescriptions', 'opioid score','sum']"
   ]
  },
  {
   "cell_type": "code",
   "execution_count": null,
   "metadata": {},
   "outputs": [],
   "source": []
  },
  {
   "cell_type": "code",
   "execution_count": 171,
   "metadata": {},
   "outputs": [
    {
     "data": {
      "text/html": [
       "<div>\n",
       "<style scoped>\n",
       "    .dataframe tbody tr th:only-of-type {\n",
       "        vertical-align: middle;\n",
       "    }\n",
       "\n",
       "    .dataframe tbody tr th {\n",
       "        vertical-align: top;\n",
       "    }\n",
       "\n",
       "    .dataframe thead th {\n",
       "        text-align: right;\n",
       "    }\n",
       "</style>\n",
       "<table border=\"1\" class=\"dataframe\">\n",
       "  <thead>\n",
       "    <tr style=\"text-align: right;\">\n",
       "      <th></th>\n",
       "      <th>practice</th>\n",
       "      <th>opioid prescriptions</th>\n",
       "      <th>opioid score</th>\n",
       "      <th>sum</th>\n",
       "      <th>name</th>\n",
       "    </tr>\n",
       "  </thead>\n",
       "  <tbody>\n",
       "    <tr>\n",
       "      <th>0</th>\n",
       "      <td>A81005</td>\n",
       "      <td>1507</td>\n",
       "      <td>-0.548306</td>\n",
       "      <td>50.0</td>\n",
       "      <td>SPRINGWOOD SURGERY</td>\n",
       "    </tr>\n",
       "    <tr>\n",
       "      <th>1</th>\n",
       "      <td>A81007</td>\n",
       "      <td>1454</td>\n",
       "      <td>1.544557</td>\n",
       "      <td>63.0</td>\n",
       "      <td>BANKHOUSE SURGERY</td>\n",
       "    </tr>\n",
       "    <tr>\n",
       "      <th>2</th>\n",
       "      <td>A81011</td>\n",
       "      <td>1568</td>\n",
       "      <td>2.291795</td>\n",
       "      <td>73.0</td>\n",
       "      <td>CHADWICK PRACTICE</td>\n",
       "    </tr>\n",
       "    <tr>\n",
       "      <th>3</th>\n",
       "      <td>A81012</td>\n",
       "      <td>1332</td>\n",
       "      <td>1.373060</td>\n",
       "      <td>57.0</td>\n",
       "      <td>WESTBOURNE MEDICAL CENTRE</td>\n",
       "    </tr>\n",
       "    <tr>\n",
       "      <th>4</th>\n",
       "      <td>A81017</td>\n",
       "      <td>2150</td>\n",
       "      <td>0.583168</td>\n",
       "      <td>82.0</td>\n",
       "      <td>WOODBRIDGE PRACTICE</td>\n",
       "    </tr>\n",
       "  </tbody>\n",
       "</table>\n",
       "</div>"
      ],
      "text/plain": [
       "  practice  opioid prescriptions  opioid score   sum  \\\n",
       "0   A81005                  1507     -0.548306  50.0   \n",
       "1   A81007                  1454      1.544557  63.0   \n",
       "2   A81011                  1568      2.291795  73.0   \n",
       "3   A81012                  1332      1.373060  57.0   \n",
       "4   A81017                  2150      0.583168  82.0   \n",
       "\n",
       "                        name  \n",
       "0         SPRINGWOOD SURGERY  \n",
       "1          BANKHOUSE SURGERY  \n",
       "2          CHADWICK PRACTICE  \n",
       "3  WESTBOURNE MEDICAL CENTRE  \n",
       "4        WOODBRIDGE PRACTICE  "
      ]
     },
     "execution_count": 171,
     "metadata": {},
     "output_type": "execute_result"
    }
   ],
   "source": [
    "anomalies_stat = stat.merge(opioids_practices, on='practice', how='left')\n",
    "anomalies_stat.head()"
   ]
  },
  {
   "cell_type": "code",
   "execution_count": 172,
   "metadata": {},
   "outputs": [
    {
     "data": {
      "text/html": [
       "<div>\n",
       "<style scoped>\n",
       "    .dataframe tbody tr th:only-of-type {\n",
       "        vertical-align: middle;\n",
       "    }\n",
       "\n",
       "    .dataframe tbody tr th {\n",
       "        vertical-align: top;\n",
       "    }\n",
       "\n",
       "    .dataframe thead th {\n",
       "        text-align: right;\n",
       "    }\n",
       "</style>\n",
       "<table border=\"1\" class=\"dataframe\">\n",
       "  <thead>\n",
       "    <tr style=\"text-align: right;\">\n",
       "      <th></th>\n",
       "      <th>practice</th>\n",
       "      <th>opioid prescriptions</th>\n",
       "      <th>opioid score</th>\n",
       "      <th>sum</th>\n",
       "      <th>name</th>\n",
       "    </tr>\n",
       "  </thead>\n",
       "  <tbody>\n",
       "    <tr>\n",
       "      <th>829</th>\n",
       "      <td>Y01852</td>\n",
       "      <td>7</td>\n",
       "      <td>11.695818</td>\n",
       "      <td>6.0</td>\n",
       "      <td>NATIONAL ENHANCED SERVICE</td>\n",
       "    </tr>\n",
       "    <tr>\n",
       "      <th>874</th>\n",
       "      <td>Y03006</td>\n",
       "      <td>2</td>\n",
       "      <td>7.339043</td>\n",
       "      <td>2.0</td>\n",
       "      <td>OUTREACH SERVICE NH / RH</td>\n",
       "    </tr>\n",
       "    <tr>\n",
       "      <th>895</th>\n",
       "      <td>Y03668</td>\n",
       "      <td>60</td>\n",
       "      <td>6.150582</td>\n",
       "      <td>11.0</td>\n",
       "      <td>BRISDOC HEALTHCARE SERVICES OOH</td>\n",
       "    </tr>\n",
       "    <tr>\n",
       "      <th>296</th>\n",
       "      <td>G81703</td>\n",
       "      <td>36</td>\n",
       "      <td>5.123032</td>\n",
       "      <td>7.0</td>\n",
       "      <td>H&amp;R P C SPECIAL SCHEME</td>\n",
       "    </tr>\n",
       "    <tr>\n",
       "      <th>948</th>\n",
       "      <td>Y04997</td>\n",
       "      <td>321</td>\n",
       "      <td>4.958866</td>\n",
       "      <td>28.0</td>\n",
       "      <td>HMR BARDOC OOH</td>\n",
       "    </tr>\n",
       "    <tr>\n",
       "      <th>927</th>\n",
       "      <td>Y04585</td>\n",
       "      <td>426</td>\n",
       "      <td>4.888878</td>\n",
       "      <td>34.0</td>\n",
       "      <td>INTEGRATED CARE 24 LTD (CWSX OOH)</td>\n",
       "    </tr>\n",
       "    <tr>\n",
       "      <th>620</th>\n",
       "      <td>P81051</td>\n",
       "      <td>1917</td>\n",
       "      <td>4.839159</td>\n",
       "      <td>108.0</td>\n",
       "      <td>DARWEN HEALTHCARE</td>\n",
       "    </tr>\n",
       "    <tr>\n",
       "      <th>725</th>\n",
       "      <td>P87017</td>\n",
       "      <td>1321</td>\n",
       "      <td>4.546842</td>\n",
       "      <td>78.0</td>\n",
       "      <td>THE LIMES MEDICAL PRACTICE</td>\n",
       "    </tr>\n",
       "    <tr>\n",
       "      <th>815</th>\n",
       "      <td>Y01086</td>\n",
       "      <td>357</td>\n",
       "      <td>4.335047</td>\n",
       "      <td>28.0</td>\n",
       "      <td>IC24 LTD (BRIGHTON &amp; HOVE OOH)</td>\n",
       "    </tr>\n",
       "    <tr>\n",
       "      <th>961</th>\n",
       "      <td>Y05327</td>\n",
       "      <td>56</td>\n",
       "      <td>4.311784</td>\n",
       "      <td>8.0</td>\n",
       "      <td>OLDHAM 7 DAY ACCESS HUB2 OOH</td>\n",
       "    </tr>\n",
       "  </tbody>\n",
       "</table>\n",
       "</div>"
      ],
      "text/plain": [
       "    practice  opioid prescriptions  opioid score    sum  \\\n",
       "829   Y01852                     7     11.695818    6.0   \n",
       "874   Y03006                     2      7.339043    2.0   \n",
       "895   Y03668                    60      6.150582   11.0   \n",
       "296   G81703                    36      5.123032    7.0   \n",
       "948   Y04997                   321      4.958866   28.0   \n",
       "927   Y04585                   426      4.888878   34.0   \n",
       "620   P81051                  1917      4.839159  108.0   \n",
       "725   P87017                  1321      4.546842   78.0   \n",
       "815   Y01086                   357      4.335047   28.0   \n",
       "961   Y05327                    56      4.311784    8.0   \n",
       "\n",
       "                                  name  \n",
       "829          NATIONAL ENHANCED SERVICE  \n",
       "874           OUTREACH SERVICE NH / RH  \n",
       "895    BRISDOC HEALTHCARE SERVICES OOH  \n",
       "296             H&R P C SPECIAL SCHEME  \n",
       "948                     HMR BARDOC OOH  \n",
       "927  INTEGRATED CARE 24 LTD (CWSX OOH)  \n",
       "620                  DARWEN HEALTHCARE  \n",
       "725         THE LIMES MEDICAL PRACTICE  \n",
       "815     IC24 LTD (BRIGHTON & HOVE OOH)  \n",
       "961       OLDHAM 7 DAY ACCESS HUB2 OOH  "
      ]
     },
     "execution_count": 172,
     "metadata": {},
     "output_type": "execute_result"
    }
   ],
   "source": [
    "anomalies_stat.sort_values('opioid score', ascending = False , inplace=True)\n",
    "anomalies_stat.head(10)"
   ]
  },
  {
   "cell_type": "code",
   "execution_count": 41,
   "metadata": {},
   "outputs": [],
   "source": [
    "anomalies = [(\"NATIONAL ENHANCED SERVICE\", 11.695818, 7)] * 100"
   ]
  },
  {
   "cell_type": "code",
   "execution_count": 173,
   "metadata": {},
   "outputs": [
    {
     "data": {
      "text/html": [
       "<div>\n",
       "<style scoped>\n",
       "    .dataframe tbody tr th:only-of-type {\n",
       "        vertical-align: middle;\n",
       "    }\n",
       "\n",
       "    .dataframe tbody tr th {\n",
       "        vertical-align: top;\n",
       "    }\n",
       "\n",
       "    .dataframe thead th {\n",
       "        text-align: right;\n",
       "    }\n",
       "</style>\n",
       "<table border=\"1\" class=\"dataframe\">\n",
       "  <thead>\n",
       "    <tr style=\"text-align: right;\">\n",
       "      <th></th>\n",
       "      <th>name</th>\n",
       "      <th>opioid score</th>\n",
       "      <th>opioid prescriptions</th>\n",
       "    </tr>\n",
       "  </thead>\n",
       "  <tbody>\n",
       "    <tr>\n",
       "      <th>829</th>\n",
       "      <td>NATIONAL ENHANCED SERVICE</td>\n",
       "      <td>11.695818</td>\n",
       "      <td>7</td>\n",
       "    </tr>\n",
       "    <tr>\n",
       "      <th>874</th>\n",
       "      <td>OUTREACH SERVICE NH / RH</td>\n",
       "      <td>7.339043</td>\n",
       "      <td>2</td>\n",
       "    </tr>\n",
       "    <tr>\n",
       "      <th>895</th>\n",
       "      <td>BRISDOC HEALTHCARE SERVICES OOH</td>\n",
       "      <td>6.150582</td>\n",
       "      <td>60</td>\n",
       "    </tr>\n",
       "    <tr>\n",
       "      <th>296</th>\n",
       "      <td>H&amp;R P C SPECIAL SCHEME</td>\n",
       "      <td>5.123032</td>\n",
       "      <td>36</td>\n",
       "    </tr>\n",
       "    <tr>\n",
       "      <th>948</th>\n",
       "      <td>HMR BARDOC OOH</td>\n",
       "      <td>4.958866</td>\n",
       "      <td>321</td>\n",
       "    </tr>\n",
       "  </tbody>\n",
       "</table>\n",
       "</div>"
      ],
      "text/plain": [
       "                                name  opioid score  opioid prescriptions\n",
       "829        NATIONAL ENHANCED SERVICE     11.695818                     7\n",
       "874         OUTREACH SERVICE NH / RH      7.339043                     2\n",
       "895  BRISDOC HEALTHCARE SERVICES OOH      6.150582                    60\n",
       "296           H&R P C SPECIAL SCHEME      5.123032                    36\n",
       "948                   HMR BARDOC OOH      4.958866                   321"
      ]
     },
     "execution_count": 173,
     "metadata": {},
     "output_type": "execute_result"
    }
   ],
   "source": [
    "unique_practices = anomalies_stat.drop_duplicates('name')\n",
    "results = anomalies_stat[['name','opioid score','opioid prescriptions']]\n",
    "results.head()"
   ]
  },
  {
   "cell_type": "code",
   "execution_count": 174,
   "metadata": {},
   "outputs": [],
   "source": [
    "data = results.head(100)\n",
    "data = data.values.tolist()\n",
    "anomalies = []\n",
    "for d in data:\n",
    "    anomalies.append(tuple(d))"
   ]
  },
  {
   "cell_type": "code",
   "execution_count": 166,
   "metadata": {},
   "outputs": [],
   "source": [
    "anomalies = []\n",
    "for d in data:\n",
    "    anomalies.append(tuple(d))"
   ]
  },
  {
   "cell_type": "code",
   "execution_count": 175,
   "metadata": {},
   "outputs": [
    {
     "data": {
      "text/plain": [
       "[('NATIONAL ENHANCED SERVICE', 11.695817862936027, 7),\n",
       " ('OUTREACH SERVICE NH / RH', 7.339043019238823, 2),\n",
       " ('BRISDOC HEALTHCARE SERVICES OOH', 6.1505817490838295, 60),\n",
       " ('H&R P C SPECIAL SCHEME', 5.123032414033079, 36),\n",
       " ('HMR BARDOC OOH', 4.958866438487605, 321),\n",
       " ('INTEGRATED CARE 24 LTD (CWSX OOH)', 4.8888781604828235, 426),\n",
       " ('DARWEN HEALTHCARE', 4.8391589686363385, 1917),\n",
       " ('THE LIMES MEDICAL PRACTICE', 4.546841872334426, 1321),\n",
       " ('IC24 LTD (BRIGHTON & HOVE OOH)', 4.335047010605197, 357),\n",
       " ('OLDHAM 7 DAY ACCESS HUB2 OOH', 4.31178403661019, 56),\n",
       " ('IC24 LTD (NORFOLK & WISBECH OOH)', 4.2575005924727645, 489),\n",
       " ('ROSSENDALE MIU & OOH', 4.256827446322491, 18),\n",
       " ('BURY WALK-IN CENTRE', 4.150589122881536, 138),\n",
       " ('IC24 LTD (HORSHAM & MID SUSSEX OOH)', 3.7816207038443523, 215),\n",
       " ('LCW HOUNSLOW CCG OOH', 3.582848546206269, 69),\n",
       " ('WEEKEND WORKING EASINGTON NORTH', 3.565938771129764, 278),\n",
       " ('COMPASS ENFIELD', 3.5587202651067935, 7),\n",
       " ('BASSETLAW DRUG & ALCOHOL SERVICE', 3.5332641025115423, 2),\n",
       " ('THE PARK SURGERY', 3.511114736389202, 969),\n",
       " ('CHAPEL STREET SURGERY', 3.4907459502707447, 1504),\n",
       " ('BEECHWOOD MEDICAL PRACTICE', 3.4747953064338977, 1552),\n",
       " ('BASSETLAW HOSPICE OF THE GOOD SHEPHERD', 3.454423428527398, 46),\n",
       " ('CARDEN SURGERY', 3.4503113243413193, 1375),\n",
       " ('GP IN A&E (WIC)', 3.3959177486386096, 87),\n",
       " ('NORTHAMPTONSHIRE OUT OF HOURS SERVICE', 3.39355927807245, 382),\n",
       " ('NORTHAMPTONSHIRE OOH SERVICE', 3.39355927807245, 382),\n",
       " ('WORDEN MEDICAL CENTRE', 3.341328344384246, 1898),\n",
       " ('BRISDOC HEALTHCARE SERVICES OOH', 3.3336438396565136, 566),\n",
       " ('BURY OOH', 3.321529559970347, 292),\n",
       " ('IC24 SOUTHEND/CP&R CCG OOH', 3.2211153199464, 336),\n",
       " ('SOUTH ESSEX OOH', 3.2211153199464, 336),\n",
       " ('IC24 LTD (CRAWLEY OOH)', 3.1942640976202856, 173),\n",
       " ('EASTBOURNE  HAILSHAM & SEAFORD OOH', 2.9896925335154507, 255),\n",
       " ('THE ROSEBERRY PRACTICE', 2.9803589486570257, 1450),\n",
       " ('SHAFTESBURY MEDICAL CTR.', 2.904593003935284, 2126),\n",
       " ('THE RICHMOND HILL PRACTICE', 2.8601891978583245, 1729),\n",
       " ('THE RICHMOND HILL PRACTICE', 2.8601891978583245, 1729),\n",
       " ('DGS OOH (INTEGRATED CARE 24 LTD)', 2.795651191074179, 325),\n",
       " ('THE LAKESIDE PRACTICE', 2.7801243484267157, 1554),\n",
       " ('DEWSBURY MSK SERVICE', 2.7736443521856917, 3),\n",
       " ('BRISDOC HEALTHCARE SERVICES OOH', 2.7220204978636375, 74),\n",
       " ('HALLIWELL SURGERY 1', 2.6902312553464682, 1124),\n",
       " ('THE ROYTON & CROMPTON FAMILY PRACTICE', 2.6674099502870625, 2054),\n",
       " ('PRACTICE 3  MEDICAL CENTRE  BRIDLINGTON', 2.6526642039852844, 1936),\n",
       " ('LCWUCC - IUC NCL', 2.5927932420214392, 443),\n",
       " ('DR MOKASHI', 2.496887689055938, 1341),\n",
       " ('THE CREST FAMILY PRACTICE', 2.494358442548829, 1294),\n",
       " ('PERKINS PRACTICE', 2.479571342887134, 899),\n",
       " ('DARLASTON HEALTH CENTRE', 2.4456345065842653, 996),\n",
       " (\"DR MA SIMS' PRACTICE\", 2.4372766106456107, 1857),\n",
       " ('1/LOWER BROUGHTON MEDICAL PRACTICE', 2.435636753514273, 1044),\n",
       " ('CORNWALLIS PLAZA SURGERY', 2.424202462055629, 2326),\n",
       " ('FAIRMORE MEDICAL PRACTICE', 2.382408598971051, 1288),\n",
       " ('LAWLEY MEDICAL PRACTICE', 2.373577973078906, 1409),\n",
       " ('LAWLEY MEDICAL PRACTICE', 2.373577973078906, 1409),\n",
       " (\"PEEL GP'S\", 2.3535943384931546, 1557),\n",
       " ('PEEL GPS DR JACKSON', 2.3535943384931546, 1557),\n",
       " ('PEEL GPS', 2.3535943384931546, 1557),\n",
       " ('EASTLANDS MEDICAL CENTRE', 2.325396683274206, 1369),\n",
       " ('MAGHULL HEALTH CENTRE (DR SAPRE)', 2.3194074094375097, 1322),\n",
       " ('INTEGRATED CARE 24 LIMITED OOH', 2.3106497615538943, 511),\n",
       " ('WILLOW BANK SURGERY', 2.295642132037915, 1934),\n",
       " ('IC24 LTD (HWLH OOH)', 2.2949004338925127, 216),\n",
       " ('CHADWICK PRACTICE', 2.2917945205697308, 1568),\n",
       " ('C&WPT OOH SERVICE', 2.270852401273787, 341),\n",
       " ('THE MERRYWOOD PRACTICE', 2.270550955639659, 1234),\n",
       " ('LEYLAND SURGERY', 2.251774286539937, 1213),\n",
       " ('LEYLAND SURGERY', 2.251774286539937, 1213),\n",
       " ('WALKDEN MEDICAL PRACTICE', 2.2415736140706994, 1577),\n",
       " ('RADCLIFFE MEDICAL PRACTICE', 2.239607033459532, 1553),\n",
       " ('RIBBLESDALE GP-DR SUBBIAH', 2.209745891261483, 1100),\n",
       " ('TOWNSIDE SURGERY', 2.209745891261483, 1100),\n",
       " ('THE MAZHARI & KHAN PRACTICE', 2.2006627122644895, 912),\n",
       " ('ST ANDREWS - BRANSHOLME', 2.1967025909056024, 1634),\n",
       " ('JAMES ALEXANDER FAMILY PRACTICE', 2.1967025909056024, 1634),\n",
       " ('JAMES ALEXANDER FAMILY PRACTICE', 2.1967025909056024, 1634),\n",
       " ('B&H INTERMEDIATE CARE SERVICE', 2.1862131918267544, 456),\n",
       " ('HARDEN SURGERY', 2.155495816284959, 1228),\n",
       " ('THE GATEWAY MEDICAL PRACTICE', 2.154423496545371, 1349),\n",
       " ('QUAYSIDE MEDICAL PRACTICE', 2.1535448371359025, 1422),\n",
       " ('HASTINGS AND ROTHER OOH', 2.076490970994684, 291),\n",
       " ('FISHPONDS FAMILY PRACTICE', 2.0743592136603786, 1632),\n",
       " ('DRS CLOAK  CHOI AND MILLIGAN', 2.0511156727220916, 1661),\n",
       " (\"ST MARY'S SURGERY\", 2.041026500575296, 981),\n",
       " ('THE THORNTON PRACTICE', 1.9970130183083867, 1970),\n",
       " ('IC24 LTD (EAST SURREY OOH)', 1.9530599800408153, 194),\n",
       " ('CORNISHWAY GROUP PRACTICE', 1.9529030654485127, 1506),\n",
       " ('CORNISHWAY GROUP PRACTICE', 1.9529030654485127, 1506),\n",
       " ('CORNISHWAY GROUP PRACTICE', 1.9529030654485127, 1506),\n",
       " ('PREMIER HEALTH TEAM', 1.9342677920567377, 876),\n",
       " ('CONCORD MEDICAL PRACTICE', 1.9339605744520654, 1386),\n",
       " ('COULBY MEDICAL PRACTICE', 1.9268085445885355, 1585),\n",
       " ('PARKSIDE MEDICAL CENTRE', 1.9235518278308144, 1314),\n",
       " ('THE DISCOVERY PRACTICE', 1.9047661015943373, 1268),\n",
       " ('ANCORA MEDICAL PRACTICE', 1.8854159223309173, 2347),\n",
       " ('DARWEN HEALTHLINK', 1.8822754121466374, 2019),\n",
       " ('JALAL PRACTICE', 1.8661104279692897, 885),\n",
       " ('ROOLEY LANE MED. CENTRE', 1.8635817801511316, 1522),\n",
       " ('GREAT HOMER STREET MEDICAL CENTRE', 1.813002119840964, 1062),\n",
       " ('NORTHPOINT', 1.8024326949572382, 1137)]"
      ]
     },
     "execution_count": 175,
     "metadata": {},
     "output_type": "execute_result"
    }
   ],
   "source": [
    "anomalies"
   ]
  },
  {
   "cell_type": "code",
   "execution_count": 176,
   "metadata": {},
   "outputs": [
    {
     "name": "stdout",
     "output_type": "stream",
     "text": [
      "==================\n",
      "Your score:  0.8800000000000006\n",
      "==================\n"
     ]
    }
   ],
   "source": [
    "grader.score.dw__script_anomalies(anomalies)"
   ]
  },
  {
   "cell_type": "markdown",
   "metadata": {},
   "source": [
    "## Question 5: script_growth\n",
    "\n",
    "Another way to identify anomalies is by comparing current data to historical data. In the case of identifying sites of drug abuse, we might compare a practice's current rate of opioid prescription to their rate 5 or 10 years ago. Unless the nature of the practice has changed, the profile of drugs they prescribe should be relatively stable. We might also want to identify trends through time for business reasons, identifying drugs that are gaining market share. That's what we'll do in this question.\n",
    "\n",
    "We'll load in beneficiary data from 6 months earlier, June 2016, and calculate the percent growth in prescription rate from June 2016 to January 2017 for each `bnf_name`. We'll return the 50 items with largest growth and the 50 items with the largest shrinkage (i.e. negative percent growth) as a list of tuples sorted by growth rate in descending order in the format `(script_name, growth_rate, raw_2016_count)`. You'll notice that many of the 50 fastest growing items have low counts of prescriptions in 2016. Filter out any items that were prescribed less than 50 times."
   ]
  },
  {
   "cell_type": "code",
   "execution_count": null,
   "metadata": {},
   "outputs": [],
   "source": [
    "# load the 2017 data\n",
    "scripts = pd.read_csv('./dw-data/201701scripts_sample.csv.gz',compression = 'gzip')\n"
   ]
  },
  {
   "cell_type": "code",
   "execution_count": 64,
   "metadata": {},
   "outputs": [
    {
     "data": {
      "text/html": [
       "<div>\n",
       "<style scoped>\n",
       "    .dataframe tbody tr th:only-of-type {\n",
       "        vertical-align: middle;\n",
       "    }\n",
       "\n",
       "    .dataframe tbody tr th {\n",
       "        vertical-align: top;\n",
       "    }\n",
       "\n",
       "    .dataframe thead th {\n",
       "        text-align: right;\n",
       "    }\n",
       "</style>\n",
       "<table border=\"1\" class=\"dataframe\">\n",
       "  <thead>\n",
       "    <tr style=\"text-align: right;\">\n",
       "      <th></th>\n",
       "      <th>practice</th>\n",
       "      <th>bnf_code</th>\n",
       "      <th>bnf_name</th>\n",
       "      <th>items</th>\n",
       "      <th>nic</th>\n",
       "      <th>act_cost</th>\n",
       "      <th>quantity</th>\n",
       "    </tr>\n",
       "  </thead>\n",
       "  <tbody>\n",
       "    <tr>\n",
       "      <th>0</th>\n",
       "      <td>N85638</td>\n",
       "      <td>0301011R0</td>\n",
       "      <td>Salamol_Inha 100mcg (200 D) CFF (Teva)</td>\n",
       "      <td>2</td>\n",
       "      <td>2.92</td>\n",
       "      <td>2.73</td>\n",
       "      <td>2</td>\n",
       "    </tr>\n",
       "    <tr>\n",
       "      <th>1</th>\n",
       "      <td>N85638</td>\n",
       "      <td>0301011R0</td>\n",
       "      <td>Easyhaler_Salbutamol Sulf 200mcg (200D)</td>\n",
       "      <td>1</td>\n",
       "      <td>6.63</td>\n",
       "      <td>6.15</td>\n",
       "      <td>1</td>\n",
       "    </tr>\n",
       "    <tr>\n",
       "      <th>2</th>\n",
       "      <td>N85638</td>\n",
       "      <td>0301020I0</td>\n",
       "      <td>Ipratrop Brom_Inh Soln 500mcg/2ml Ud</td>\n",
       "      <td>1</td>\n",
       "      <td>1.77</td>\n",
       "      <td>1.75</td>\n",
       "      <td>12</td>\n",
       "    </tr>\n",
       "    <tr>\n",
       "      <th>3</th>\n",
       "      <td>N85638</td>\n",
       "      <td>0301020I0</td>\n",
       "      <td>Ipratrop Brom_Inh Soln 250mcg/1ml Ud</td>\n",
       "      <td>1</td>\n",
       "      <td>4.47</td>\n",
       "      <td>4.15</td>\n",
       "      <td>20</td>\n",
       "    </tr>\n",
       "    <tr>\n",
       "      <th>4</th>\n",
       "      <td>N85638</td>\n",
       "      <td>0302000C0</td>\n",
       "      <td>Clenil Modulite_Inha 50mcg (200D)</td>\n",
       "      <td>1</td>\n",
       "      <td>3.70</td>\n",
       "      <td>3.44</td>\n",
       "      <td>1</td>\n",
       "    </tr>\n",
       "  </tbody>\n",
       "</table>\n",
       "</div>"
      ],
      "text/plain": [
       "  practice   bnf_code                                 bnf_name  items   nic  \\\n",
       "0   N85638  0301011R0   Salamol_Inha 100mcg (200 D) CFF (Teva)      2  2.92   \n",
       "1   N85638  0301011R0  Easyhaler_Salbutamol Sulf 200mcg (200D)      1  6.63   \n",
       "2   N85638  0301020I0     Ipratrop Brom_Inh Soln 500mcg/2ml Ud      1  1.77   \n",
       "3   N85638  0301020I0     Ipratrop Brom_Inh Soln 250mcg/1ml Ud      1  4.47   \n",
       "4   N85638  0302000C0        Clenil Modulite_Inha 50mcg (200D)      1  3.70   \n",
       "\n",
       "   act_cost  quantity  \n",
       "0      2.73         2  \n",
       "1      6.15         1  \n",
       "2      1.75        12  \n",
       "3      4.15        20  \n",
       "4      3.44         1  "
      ]
     },
     "execution_count": 64,
     "metadata": {},
     "output_type": "execute_result"
    }
   ],
   "source": [
    "# load the 2016 data\n",
    "scripts16 = pd.read_csv('./dw-data/201606scripts_sample.csv.gz',compression = 'gzip')\n",
    "scripts16.head()"
   ]
  },
  {
   "cell_type": "code",
   "execution_count": 65,
   "metadata": {},
   "outputs": [
    {
     "data": {
      "text/html": [
       "<div>\n",
       "<style scoped>\n",
       "    .dataframe tbody tr th:only-of-type {\n",
       "        vertical-align: middle;\n",
       "    }\n",
       "\n",
       "    .dataframe tbody tr th {\n",
       "        vertical-align: top;\n",
       "    }\n",
       "\n",
       "    .dataframe thead th {\n",
       "        text-align: right;\n",
       "    }\n",
       "</style>\n",
       "<table border=\"1\" class=\"dataframe\">\n",
       "  <thead>\n",
       "    <tr style=\"text-align: right;\">\n",
       "      <th></th>\n",
       "      <th>bnf_names</th>\n",
       "      <th>items_16</th>\n",
       "    </tr>\n",
       "  </thead>\n",
       "  <tbody>\n",
       "    <tr>\n",
       "      <th>0</th>\n",
       "      <td>365 Film 15cm x 20cm VP Adh Film Dress</td>\n",
       "      <td>1</td>\n",
       "    </tr>\n",
       "    <tr>\n",
       "      <th>1</th>\n",
       "      <td>365 Film 4cm x 5cm VP Adh Film Dress</td>\n",
       "      <td>1</td>\n",
       "    </tr>\n",
       "    <tr>\n",
       "      <th>2</th>\n",
       "      <td>365 Non Adherent 10cm x 10cm Pfa Plas Fa</td>\n",
       "      <td>3</td>\n",
       "    </tr>\n",
       "    <tr>\n",
       "      <th>3</th>\n",
       "      <td>365 Non Woven Island 10cm x 10cm Adh Dre</td>\n",
       "      <td>1</td>\n",
       "    </tr>\n",
       "    <tr>\n",
       "      <th>4</th>\n",
       "      <td>365 Non Woven Island 10cm x 15cm Adh Dre</td>\n",
       "      <td>1</td>\n",
       "    </tr>\n",
       "  </tbody>\n",
       "</table>\n",
       "</div>"
      ],
      "text/plain": [
       "                                  bnf_names  items_16\n",
       "0    365 Film 15cm x 20cm VP Adh Film Dress         1\n",
       "1      365 Film 4cm x 5cm VP Adh Film Dress         1\n",
       "2  365 Non Adherent 10cm x 10cm Pfa Plas Fa         3\n",
       "3  365 Non Woven Island 10cm x 10cm Adh Dre         1\n",
       "4  365 Non Woven Island 10cm x 15cm Adh Dre         1"
      ]
     },
     "execution_count": 65,
     "metadata": {},
     "output_type": "execute_result"
    }
   ],
   "source": [
    "scripts16_drug = scripts16.groupby('bnf_name')['items'].count()\n",
    "scripts16_drug = scripts16_drug.reset_index().drop_duplicates()\n",
    "scripts16_drug.columns = ['bnf_names','items_16']\n",
    "scripts16_drug.head()"
   ]
  },
  {
   "cell_type": "code",
   "execution_count": 60,
   "metadata": {},
   "outputs": [
    {
     "data": {
      "text/html": [
       "<div>\n",
       "<style scoped>\n",
       "    .dataframe tbody tr th:only-of-type {\n",
       "        vertical-align: middle;\n",
       "    }\n",
       "\n",
       "    .dataframe tbody tr th {\n",
       "        vertical-align: top;\n",
       "    }\n",
       "\n",
       "    .dataframe thead th {\n",
       "        text-align: right;\n",
       "    }\n",
       "</style>\n",
       "<table border=\"1\" class=\"dataframe\">\n",
       "  <thead>\n",
       "    <tr style=\"text-align: right;\">\n",
       "      <th></th>\n",
       "      <th>bnf_names</th>\n",
       "      <th>items_17</th>\n",
       "    </tr>\n",
       "  </thead>\n",
       "  <tbody>\n",
       "    <tr>\n",
       "      <th>0</th>\n",
       "      <td>365 Film 10cm x 12cm VP Adh Film Dress</td>\n",
       "      <td>1</td>\n",
       "    </tr>\n",
       "    <tr>\n",
       "      <th>1</th>\n",
       "      <td>365 Non Adherent 10cm x 10cm Pfa Plas Fa</td>\n",
       "      <td>3</td>\n",
       "    </tr>\n",
       "    <tr>\n",
       "      <th>2</th>\n",
       "      <td>365 Non Adherent 10cm x 20cm Pfa Plas Fa</td>\n",
       "      <td>1</td>\n",
       "    </tr>\n",
       "    <tr>\n",
       "      <th>3</th>\n",
       "      <td>365 Non Woven Island 8cm x 10cm Adh Dres</td>\n",
       "      <td>1</td>\n",
       "    </tr>\n",
       "    <tr>\n",
       "      <th>4</th>\n",
       "      <td>365 Transpt Island 5cm x 7.2cm VP Adh Fi</td>\n",
       "      <td>2</td>\n",
       "    </tr>\n",
       "  </tbody>\n",
       "</table>\n",
       "</div>"
      ],
      "text/plain": [
       "                                  bnf_names  items_17\n",
       "0    365 Film 10cm x 12cm VP Adh Film Dress         1\n",
       "1  365 Non Adherent 10cm x 10cm Pfa Plas Fa         3\n",
       "2  365 Non Adherent 10cm x 20cm Pfa Plas Fa         1\n",
       "3  365 Non Woven Island 8cm x 10cm Adh Dres         1\n",
       "4  365 Transpt Island 5cm x 7.2cm VP Adh Fi         2"
      ]
     },
     "execution_count": 60,
     "metadata": {},
     "output_type": "execute_result"
    }
   ],
   "source": [
    "scripts17_drug = scripts.groupby('bnf_name')['items'].count()\n",
    "scripts17_drug = scripts17_drug.reset_index().drop_duplicates()\n",
    "scripts17_drug.columns = ['bnf_names','items_17']\n",
    "scripts17_drug.head()"
   ]
  },
  {
   "cell_type": "code",
   "execution_count": 66,
   "metadata": {},
   "outputs": [
    {
     "data": {
      "text/html": [
       "<div>\n",
       "<style scoped>\n",
       "    .dataframe tbody tr th:only-of-type {\n",
       "        vertical-align: middle;\n",
       "    }\n",
       "\n",
       "    .dataframe tbody tr th {\n",
       "        vertical-align: top;\n",
       "    }\n",
       "\n",
       "    .dataframe thead th {\n",
       "        text-align: right;\n",
       "    }\n",
       "</style>\n",
       "<table border=\"1\" class=\"dataframe\">\n",
       "  <thead>\n",
       "    <tr style=\"text-align: right;\">\n",
       "      <th></th>\n",
       "      <th>bnf_names</th>\n",
       "      <th>items_16</th>\n",
       "      <th>items_17</th>\n",
       "    </tr>\n",
       "  </thead>\n",
       "  <tbody>\n",
       "    <tr>\n",
       "      <th>0</th>\n",
       "      <td>365 Non Adherent 10cm x 10cm Pfa Plas Fa</td>\n",
       "      <td>3</td>\n",
       "      <td>3</td>\n",
       "    </tr>\n",
       "    <tr>\n",
       "      <th>1</th>\n",
       "      <td>365 Transpt Island 8.5cm x 15.5cm VP Adh</td>\n",
       "      <td>1</td>\n",
       "      <td>1</td>\n",
       "    </tr>\n",
       "    <tr>\n",
       "      <th>2</th>\n",
       "      <td>3m Health Care_Cavilon Durable Barrier C</td>\n",
       "      <td>825</td>\n",
       "      <td>816</td>\n",
       "    </tr>\n",
       "    <tr>\n",
       "      <th>3</th>\n",
       "      <td>3m Health Care_Cavilon No Sting 1ml Barr</td>\n",
       "      <td>231</td>\n",
       "      <td>223</td>\n",
       "    </tr>\n",
       "    <tr>\n",
       "      <th>4</th>\n",
       "      <td>3m Health Care_Cavilon No Sting 3ml Barr</td>\n",
       "      <td>105</td>\n",
       "      <td>94</td>\n",
       "    </tr>\n",
       "    <tr>\n",
       "      <th>5</th>\n",
       "      <td>3m Health Care_Cavilon No Sting Barrier</td>\n",
       "      <td>454</td>\n",
       "      <td>412</td>\n",
       "    </tr>\n",
       "    <tr>\n",
       "      <th>6</th>\n",
       "      <td>4Head_Top Headache Relief Stick</td>\n",
       "      <td>2</td>\n",
       "      <td>4</td>\n",
       "    </tr>\n",
       "    <tr>\n",
       "      <th>7</th>\n",
       "      <td>A &amp; P_Infants Pdrs</td>\n",
       "      <td>5</td>\n",
       "      <td>5</td>\n",
       "    </tr>\n",
       "    <tr>\n",
       "      <th>8</th>\n",
       "      <td>A.S Saliva Orthana Spy 50ml (App)</td>\n",
       "      <td>84</td>\n",
       "      <td>121</td>\n",
       "    </tr>\n",
       "    <tr>\n",
       "      <th>9</th>\n",
       "      <td>A.S Saliva Orthana Spy Refill 500ml (App</td>\n",
       "      <td>9</td>\n",
       "      <td>6</td>\n",
       "    </tr>\n",
       "  </tbody>\n",
       "</table>\n",
       "</div>"
      ],
      "text/plain": [
       "                                  bnf_names  items_16  items_17\n",
       "0  365 Non Adherent 10cm x 10cm Pfa Plas Fa         3         3\n",
       "1  365 Transpt Island 8.5cm x 15.5cm VP Adh         1         1\n",
       "2  3m Health Care_Cavilon Durable Barrier C       825       816\n",
       "3  3m Health Care_Cavilon No Sting 1ml Barr       231       223\n",
       "4  3m Health Care_Cavilon No Sting 3ml Barr       105        94\n",
       "5   3m Health Care_Cavilon No Sting Barrier       454       412\n",
       "6           4Head_Top Headache Relief Stick         2         4\n",
       "7                        A & P_Infants Pdrs         5         5\n",
       "8         A.S Saliva Orthana Spy 50ml (App)        84       121\n",
       "9  A.S Saliva Orthana Spy Refill 500ml (App         9         6"
      ]
     },
     "execution_count": 66,
     "metadata": {},
     "output_type": "execute_result"
    }
   ],
   "source": [
    "drug_trends = scripts16_drug.merge(scripts17_drug, on ='bnf_names').drop_duplicates('bnf_names')\n",
    "drug_trends.head(10)"
   ]
  },
  {
   "cell_type": "code",
   "execution_count": 69,
   "metadata": {},
   "outputs": [
    {
     "data": {
      "text/html": [
       "<div>\n",
       "<style scoped>\n",
       "    .dataframe tbody tr th:only-of-type {\n",
       "        vertical-align: middle;\n",
       "    }\n",
       "\n",
       "    .dataframe tbody tr th {\n",
       "        vertical-align: top;\n",
       "    }\n",
       "\n",
       "    .dataframe thead th {\n",
       "        text-align: right;\n",
       "    }\n",
       "</style>\n",
       "<table border=\"1\" class=\"dataframe\">\n",
       "  <thead>\n",
       "    <tr style=\"text-align: right;\">\n",
       "      <th></th>\n",
       "      <th>bnf_names</th>\n",
       "      <th>items_16</th>\n",
       "      <th>items_17</th>\n",
       "      <th>rate_16</th>\n",
       "      <th>rate_17</th>\n",
       "      <th>growth</th>\n",
       "    </tr>\n",
       "  </thead>\n",
       "  <tbody>\n",
       "    <tr>\n",
       "      <th>0</th>\n",
       "      <td>365 Non Adherent 10cm x 10cm Pfa Plas Fa</td>\n",
       "      <td>3</td>\n",
       "      <td>3</td>\n",
       "      <td>0.000003</td>\n",
       "      <td>0.000003</td>\n",
       "      <td>0.000000</td>\n",
       "    </tr>\n",
       "    <tr>\n",
       "      <th>1</th>\n",
       "      <td>365 Transpt Island 8.5cm x 15.5cm VP Adh</td>\n",
       "      <td>1</td>\n",
       "      <td>1</td>\n",
       "      <td>0.000001</td>\n",
       "      <td>0.000001</td>\n",
       "      <td>0.000000</td>\n",
       "    </tr>\n",
       "    <tr>\n",
       "      <th>2</th>\n",
       "      <td>3m Health Care_Cavilon Durable Barrier C</td>\n",
       "      <td>825</td>\n",
       "      <td>816</td>\n",
       "      <td>0.000856</td>\n",
       "      <td>0.000848</td>\n",
       "      <td>-0.010909</td>\n",
       "    </tr>\n",
       "    <tr>\n",
       "      <th>3</th>\n",
       "      <td>3m Health Care_Cavilon No Sting 1ml Barr</td>\n",
       "      <td>231</td>\n",
       "      <td>223</td>\n",
       "      <td>0.000240</td>\n",
       "      <td>0.000232</td>\n",
       "      <td>-0.034632</td>\n",
       "    </tr>\n",
       "    <tr>\n",
       "      <th>4</th>\n",
       "      <td>3m Health Care_Cavilon No Sting 3ml Barr</td>\n",
       "      <td>105</td>\n",
       "      <td>94</td>\n",
       "      <td>0.000109</td>\n",
       "      <td>0.000098</td>\n",
       "      <td>-0.104762</td>\n",
       "    </tr>\n",
       "  </tbody>\n",
       "</table>\n",
       "</div>"
      ],
      "text/plain": [
       "                                  bnf_names  items_16  items_17   rate_16  \\\n",
       "0  365 Non Adherent 10cm x 10cm Pfa Plas Fa         3         3  0.000003   \n",
       "1  365 Transpt Island 8.5cm x 15.5cm VP Adh         1         1  0.000001   \n",
       "2  3m Health Care_Cavilon Durable Barrier C       825       816  0.000856   \n",
       "3  3m Health Care_Cavilon No Sting 1ml Barr       231       223  0.000240   \n",
       "4  3m Health Care_Cavilon No Sting 3ml Barr       105        94  0.000109   \n",
       "\n",
       "    rate_17    growth  \n",
       "0  0.000003  0.000000  \n",
       "1  0.000001  0.000000  \n",
       "2  0.000848 -0.010909  \n",
       "3  0.000232 -0.034632  \n",
       "4  0.000098 -0.104762  "
      ]
     },
     "execution_count": 69,
     "metadata": {},
     "output_type": "execute_result"
    }
   ],
   "source": [
    "drug_trends['rate_16'] = drug_trends['items_16']/drug_trends['items_16'].sum()\n",
    "drug_trends['rate_17'] = drug_trends['items_17']/drug_trends['items_17'].sum()\n",
    "drug_trends['growth'] = (drug_trends['items_17'] -drug_trends['items_16'])/drug_trends['items_16']\n",
    "drug_trends.head()"
   ]
  },
  {
   "cell_type": "code",
   "execution_count": 86,
   "metadata": {},
   "outputs": [
    {
     "data": {
      "text/plain": [
       "-0.001225762390994331"
      ]
     },
     "execution_count": 86,
     "metadata": {},
     "output_type": "execute_result"
    }
   ],
   "source": [
    "sum_growth=(drug_trends['items_17'].sum()-drug_trends['items_16'].sum())/drug_trends['items_16'].sum()\n",
    "sum_growth"
   ]
  },
  {
   "cell_type": "code",
   "execution_count": 96,
   "metadata": {},
   "outputs": [],
   "source": [
    "drug_trends['growth_rate'] = sum_growth + drug_trends['growth']"
   ]
  },
  {
   "cell_type": "code",
   "execution_count": 97,
   "metadata": {},
   "outputs": [
    {
     "data": {
      "text/html": [
       "<div>\n",
       "<style scoped>\n",
       "    .dataframe tbody tr th:only-of-type {\n",
       "        vertical-align: middle;\n",
       "    }\n",
       "\n",
       "    .dataframe tbody tr th {\n",
       "        vertical-align: top;\n",
       "    }\n",
       "\n",
       "    .dataframe thead th {\n",
       "        text-align: right;\n",
       "    }\n",
       "</style>\n",
       "<table border=\"1\" class=\"dataframe\">\n",
       "  <thead>\n",
       "    <tr style=\"text-align: right;\">\n",
       "      <th></th>\n",
       "      <th>bnf_names</th>\n",
       "      <th>items_16</th>\n",
       "      <th>items_17</th>\n",
       "      <th>rate_16</th>\n",
       "      <th>rate_17</th>\n",
       "      <th>growth</th>\n",
       "      <th>growth_rate</th>\n",
       "    </tr>\n",
       "  </thead>\n",
       "  <tbody>\n",
       "    <tr>\n",
       "      <th>2</th>\n",
       "      <td>3m Health Care_Cavilon Durable Barrier C</td>\n",
       "      <td>825</td>\n",
       "      <td>816</td>\n",
       "      <td>0.000856</td>\n",
       "      <td>0.000848</td>\n",
       "      <td>-0.010909</td>\n",
       "      <td>-0.012135</td>\n",
       "    </tr>\n",
       "    <tr>\n",
       "      <th>3</th>\n",
       "      <td>3m Health Care_Cavilon No Sting 1ml Barr</td>\n",
       "      <td>231</td>\n",
       "      <td>223</td>\n",
       "      <td>0.000240</td>\n",
       "      <td>0.000232</td>\n",
       "      <td>-0.034632</td>\n",
       "      <td>-0.035858</td>\n",
       "    </tr>\n",
       "    <tr>\n",
       "      <th>4</th>\n",
       "      <td>3m Health Care_Cavilon No Sting 3ml Barr</td>\n",
       "      <td>105</td>\n",
       "      <td>94</td>\n",
       "      <td>0.000109</td>\n",
       "      <td>0.000098</td>\n",
       "      <td>-0.104762</td>\n",
       "      <td>-0.105988</td>\n",
       "    </tr>\n",
       "    <tr>\n",
       "      <th>5</th>\n",
       "      <td>3m Health Care_Cavilon No Sting Barrier</td>\n",
       "      <td>454</td>\n",
       "      <td>412</td>\n",
       "      <td>0.000471</td>\n",
       "      <td>0.000428</td>\n",
       "      <td>-0.092511</td>\n",
       "      <td>-0.093737</td>\n",
       "    </tr>\n",
       "    <tr>\n",
       "      <th>8</th>\n",
       "      <td>A.S Saliva Orthana Spy 50ml (App)</td>\n",
       "      <td>84</td>\n",
       "      <td>121</td>\n",
       "      <td>0.000087</td>\n",
       "      <td>0.000126</td>\n",
       "      <td>0.440476</td>\n",
       "      <td>0.439250</td>\n",
       "    </tr>\n",
       "  </tbody>\n",
       "</table>\n",
       "</div>"
      ],
      "text/plain": [
       "                                  bnf_names  items_16  items_17   rate_16  \\\n",
       "2  3m Health Care_Cavilon Durable Barrier C       825       816  0.000856   \n",
       "3  3m Health Care_Cavilon No Sting 1ml Barr       231       223  0.000240   \n",
       "4  3m Health Care_Cavilon No Sting 3ml Barr       105        94  0.000109   \n",
       "5   3m Health Care_Cavilon No Sting Barrier       454       412  0.000471   \n",
       "8         A.S Saliva Orthana Spy 50ml (App)        84       121  0.000087   \n",
       "\n",
       "    rate_17    growth  growth_rate  \n",
       "2  0.000848 -0.010909    -0.012135  \n",
       "3  0.000232 -0.034632    -0.035858  \n",
       "4  0.000098 -0.104762    -0.105988  \n",
       "5  0.000428 -0.092511    -0.093737  \n",
       "8  0.000126  0.440476     0.439250  "
      ]
     },
     "execution_count": 97,
     "metadata": {},
     "output_type": "execute_result"
    }
   ],
   "source": [
    "script_growth = drug_trends[drug_trends['items_16']>50]\n",
    "script_growth.head()"
   ]
  },
  {
   "cell_type": "code",
   "execution_count": 98,
   "metadata": {},
   "outputs": [
    {
     "data": {
      "text/html": [
       "<div>\n",
       "<style scoped>\n",
       "    .dataframe tbody tr th:only-of-type {\n",
       "        vertical-align: middle;\n",
       "    }\n",
       "\n",
       "    .dataframe tbody tr th {\n",
       "        vertical-align: top;\n",
       "    }\n",
       "\n",
       "    .dataframe thead th {\n",
       "        text-align: right;\n",
       "    }\n",
       "</style>\n",
       "<table border=\"1\" class=\"dataframe\">\n",
       "  <thead>\n",
       "    <tr style=\"text-align: right;\">\n",
       "      <th></th>\n",
       "      <th>bnf_names</th>\n",
       "      <th>growth_rate</th>\n",
       "      <th>items_16</th>\n",
       "    </tr>\n",
       "  </thead>\n",
       "  <tbody>\n",
       "    <tr>\n",
       "      <th>2</th>\n",
       "      <td>3m Health Care_Cavilon Durable Barrier C</td>\n",
       "      <td>-0.012135</td>\n",
       "      <td>825</td>\n",
       "    </tr>\n",
       "    <tr>\n",
       "      <th>3</th>\n",
       "      <td>3m Health Care_Cavilon No Sting 1ml Barr</td>\n",
       "      <td>-0.035858</td>\n",
       "      <td>231</td>\n",
       "    </tr>\n",
       "    <tr>\n",
       "      <th>4</th>\n",
       "      <td>3m Health Care_Cavilon No Sting 3ml Barr</td>\n",
       "      <td>-0.105988</td>\n",
       "      <td>105</td>\n",
       "    </tr>\n",
       "    <tr>\n",
       "      <th>5</th>\n",
       "      <td>3m Health Care_Cavilon No Sting Barrier</td>\n",
       "      <td>-0.093737</td>\n",
       "      <td>454</td>\n",
       "    </tr>\n",
       "    <tr>\n",
       "      <th>8</th>\n",
       "      <td>A.S Saliva Orthana Spy 50ml (App)</td>\n",
       "      <td>0.439250</td>\n",
       "      <td>84</td>\n",
       "    </tr>\n",
       "  </tbody>\n",
       "</table>\n",
       "</div>"
      ],
      "text/plain": [
       "                                  bnf_names  growth_rate  items_16\n",
       "2  3m Health Care_Cavilon Durable Barrier C    -0.012135       825\n",
       "3  3m Health Care_Cavilon No Sting 1ml Barr    -0.035858       231\n",
       "4  3m Health Care_Cavilon No Sting 3ml Barr    -0.105988       105\n",
       "5   3m Health Care_Cavilon No Sting Barrier    -0.093737       454\n",
       "8         A.S Saliva Orthana Spy 50ml (App)     0.439250        84"
      ]
     },
     "execution_count": 98,
     "metadata": {},
     "output_type": "execute_result"
    }
   ],
   "source": [
    "script_growth = script_growth[['bnf_names','growth_rate','items_16']]\n",
    "script_growth.head()"
   ]
  },
  {
   "cell_type": "code",
   "execution_count": 99,
   "metadata": {},
   "outputs": [
    {
     "data": {
      "text/html": [
       "<div>\n",
       "<style scoped>\n",
       "    .dataframe tbody tr th:only-of-type {\n",
       "        vertical-align: middle;\n",
       "    }\n",
       "\n",
       "    .dataframe tbody tr th {\n",
       "        vertical-align: top;\n",
       "    }\n",
       "\n",
       "    .dataframe thead th {\n",
       "        text-align: right;\n",
       "    }\n",
       "</style>\n",
       "<table border=\"1\" class=\"dataframe\">\n",
       "  <thead>\n",
       "    <tr style=\"text-align: right;\">\n",
       "      <th></th>\n",
       "      <th>bnf_names</th>\n",
       "      <th>growth_rate</th>\n",
       "      <th>items_16</th>\n",
       "    </tr>\n",
       "  </thead>\n",
       "  <tbody>\n",
       "    <tr>\n",
       "      <th>1467</th>\n",
       "      <td>Butec_Transdermal Patch 5mcg/hr</td>\n",
       "      <td>3.466516</td>\n",
       "      <td>62</td>\n",
       "    </tr>\n",
       "    <tr>\n",
       "      <th>1465</th>\n",
       "      <td>Butec_Transdermal Patch 10mcg/hr</td>\n",
       "      <td>2.998774</td>\n",
       "      <td>69</td>\n",
       "    </tr>\n",
       "    <tr>\n",
       "      <th>4415</th>\n",
       "      <td>Fostair NEXThaler_Inh 200mcg/6mcg (120D)</td>\n",
       "      <td>1.429007</td>\n",
       "      <td>86</td>\n",
       "    </tr>\n",
       "    <tr>\n",
       "      <th>8498</th>\n",
       "      <td>Pneumococcal_Vac 0.5ml Vl (23 Valent)</td>\n",
       "      <td>1.268204</td>\n",
       "      <td>193</td>\n",
       "    </tr>\n",
       "    <tr>\n",
       "      <th>9993</th>\n",
       "      <td>Spiolto Respimat_Inha2.5/2.5mcg(60D)+Dev</td>\n",
       "      <td>1.268005</td>\n",
       "      <td>52</td>\n",
       "    </tr>\n",
       "  </tbody>\n",
       "</table>\n",
       "</div>"
      ],
      "text/plain": [
       "                                     bnf_names  growth_rate  items_16\n",
       "1467           Butec_Transdermal Patch 5mcg/hr     3.466516        62\n",
       "1465          Butec_Transdermal Patch 10mcg/hr     2.998774        69\n",
       "4415  Fostair NEXThaler_Inh 200mcg/6mcg (120D)     1.429007        86\n",
       "8498     Pneumococcal_Vac 0.5ml Vl (23 Valent)     1.268204       193\n",
       "9993  Spiolto Respimat_Inha2.5/2.5mcg(60D)+Dev     1.268005        52"
      ]
     },
     "execution_count": 99,
     "metadata": {},
     "output_type": "execute_result"
    }
   ],
   "source": [
    "script_growth.sort_values('growth_rate', ascending=False, inplace=True)\n",
    "script_growth.head()"
   ]
  },
  {
   "cell_type": "code",
   "execution_count": 106,
   "metadata": {},
   "outputs": [],
   "source": [
    "script_growth['items_16'] = script_growth.items_16.astype(float)"
   ]
  },
  {
   "cell_type": "code",
   "execution_count": 108,
   "metadata": {},
   "outputs": [],
   "source": [
    "\n",
    "data1 = script_growth.head(50)\n",
    "data1 = data1.values.tolist()\n",
    "script_growths = []\n",
    "for d in data1:\n",
    "    script_growths.append(tuple(d))"
   ]
  },
  {
   "cell_type": "code",
   "execution_count": 109,
   "metadata": {},
   "outputs": [
    {
     "data": {
      "text/html": [
       "<div>\n",
       "<style scoped>\n",
       "    .dataframe tbody tr th:only-of-type {\n",
       "        vertical-align: middle;\n",
       "    }\n",
       "\n",
       "    .dataframe tbody tr th {\n",
       "        vertical-align: top;\n",
       "    }\n",
       "\n",
       "    .dataframe thead th {\n",
       "        text-align: right;\n",
       "    }\n",
       "</style>\n",
       "<table border=\"1\" class=\"dataframe\">\n",
       "  <thead>\n",
       "    <tr style=\"text-align: right;\">\n",
       "      <th></th>\n",
       "      <th>bnf_names</th>\n",
       "      <th>growth_rate</th>\n",
       "      <th>items_16</th>\n",
       "    </tr>\n",
       "  </thead>\n",
       "  <tbody>\n",
       "    <tr>\n",
       "      <th>8517</th>\n",
       "      <td>Polyalc_Eye Dps 1.4%</td>\n",
       "      <td>-0.997549</td>\n",
       "      <td>272.0</td>\n",
       "    </tr>\n",
       "    <tr>\n",
       "      <th>1978</th>\n",
       "      <td>Climesse_Tab</td>\n",
       "      <td>-0.943255</td>\n",
       "      <td>69.0</td>\n",
       "    </tr>\n",
       "    <tr>\n",
       "      <th>1976</th>\n",
       "      <td>Climaval_Tab 1mg</td>\n",
       "      <td>-0.927696</td>\n",
       "      <td>136.0</td>\n",
       "    </tr>\n",
       "    <tr>\n",
       "      <th>8007</th>\n",
       "      <td>Ovysmen_Tab</td>\n",
       "      <td>-0.926599</td>\n",
       "      <td>67.0</td>\n",
       "    </tr>\n",
       "    <tr>\n",
       "      <th>5230</th>\n",
       "      <td>Hydroxyzine HCl_Oral Soln 10mg/5ml</td>\n",
       "      <td>-0.916119</td>\n",
       "      <td>94.0</td>\n",
       "    </tr>\n",
       "  </tbody>\n",
       "</table>\n",
       "</div>"
      ],
      "text/plain": [
       "                               bnf_names  growth_rate  items_16\n",
       "8517                Polyalc_Eye Dps 1.4%    -0.997549     272.0\n",
       "1978                        Climesse_Tab    -0.943255      69.0\n",
       "1976                    Climaval_Tab 1mg    -0.927696     136.0\n",
       "8007                         Ovysmen_Tab    -0.926599      67.0\n",
       "5230  Hydroxyzine HCl_Oral Soln 10mg/5ml    -0.916119      94.0"
      ]
     },
     "execution_count": 109,
     "metadata": {},
     "output_type": "execute_result"
    }
   ],
   "source": [
    "script_growth.sort_values('growth_rate', ascending=True, inplace=True)\n",
    "script_growth.head()"
   ]
  },
  {
   "cell_type": "code",
   "execution_count": 110,
   "metadata": {},
   "outputs": [],
   "source": [
    "data2 = script_growth.head(50)\n",
    "data2 = data2.values.tolist()\n",
    "for d in data2:\n",
    "    script_growths.append(tuple(d))"
   ]
  },
  {
   "cell_type": "code",
   "execution_count": 45,
   "metadata": {},
   "outputs": [],
   "source": [
    "script_growth = [(\"Butec_Transdermal Patch 5mcg\\/hr\", 3.4677419355, 62.0)] * 100"
   ]
  },
  {
   "cell_type": "code",
   "execution_count": 111,
   "metadata": {},
   "outputs": [
    {
     "name": "stdout",
     "output_type": "stream",
     "text": [
      "==================\n",
      "Your score:  0.9900000000000007\n",
      "==================\n"
     ]
    }
   ],
   "source": [
    "grader.score.dw__script_growth(script_growths)"
   ]
  },
  {
   "cell_type": "markdown",
   "metadata": {},
   "source": [
    "## Question 6: rare_scripts\n",
    "\n",
    "Does a practice's prescription costs originate from routine care or from reliance on rarely prescribed treatments? Commonplace treatments can carry lower costs than rare treatments because of efficiencies in large-scale production. While some specialist practices can't help but avoid prescribing rare medicines because there are no alternatives, some practices may be prescribing a unnecessary amount of brand-name products when generics are available. Let's identify practices whose costs disproportionately originate from rarely prescribed items.\n",
    "\n",
    "First we have to identify which `'bnf_code'` are rare. To do this, find the probability $p$ of a prescription having a particular `'bnf_code'` if the `'bnf_code'` was randomly chosen from the unique options in the beneficiary data. We will call a `'bnf_code'` rare if it is prescribed at a rate less than $0.1p$."
   ]
  },
  {
   "cell_type": "code",
   "execution_count": 121,
   "metadata": {},
   "outputs": [
    {
     "data": {
      "text/html": [
       "<div>\n",
       "<style scoped>\n",
       "    .dataframe tbody tr th:only-of-type {\n",
       "        vertical-align: middle;\n",
       "    }\n",
       "\n",
       "    .dataframe tbody tr th {\n",
       "        vertical-align: top;\n",
       "    }\n",
       "\n",
       "    .dataframe thead th {\n",
       "        text-align: right;\n",
       "    }\n",
       "</style>\n",
       "<table border=\"1\" class=\"dataframe\">\n",
       "  <thead>\n",
       "    <tr style=\"text-align: right;\">\n",
       "      <th></th>\n",
       "      <th>practice</th>\n",
       "      <th>bnf_code</th>\n",
       "      <th>bnf_name</th>\n",
       "      <th>items</th>\n",
       "      <th>nic</th>\n",
       "      <th>act_cost</th>\n",
       "      <th>quantity</th>\n",
       "      <th>rare</th>\n",
       "    </tr>\n",
       "  </thead>\n",
       "  <tbody>\n",
       "    <tr>\n",
       "      <th>0</th>\n",
       "      <td>N85639</td>\n",
       "      <td>0106020C0</td>\n",
       "      <td>Bisacodyl_Tab E/C 5mg</td>\n",
       "      <td>1</td>\n",
       "      <td>0.39</td>\n",
       "      <td>0.47</td>\n",
       "      <td>12</td>\n",
       "      <td>False</td>\n",
       "    </tr>\n",
       "    <tr>\n",
       "      <th>1</th>\n",
       "      <td>N85639</td>\n",
       "      <td>0106040M0</td>\n",
       "      <td>Movicol Plain_Paed Pdr Sach 6.9g</td>\n",
       "      <td>1</td>\n",
       "      <td>4.38</td>\n",
       "      <td>4.07</td>\n",
       "      <td>30</td>\n",
       "      <td>False</td>\n",
       "    </tr>\n",
       "    <tr>\n",
       "      <th>2</th>\n",
       "      <td>N85639</td>\n",
       "      <td>0301011R0</td>\n",
       "      <td>Salbutamol_Inha 100mcg (200 D) CFF</td>\n",
       "      <td>1</td>\n",
       "      <td>1.50</td>\n",
       "      <td>1.40</td>\n",
       "      <td>1</td>\n",
       "      <td>False</td>\n",
       "    </tr>\n",
       "    <tr>\n",
       "      <th>3</th>\n",
       "      <td>N85639</td>\n",
       "      <td>0304010G0</td>\n",
       "      <td>Chlorphenamine Mal_Oral Soln 2mg/5ml</td>\n",
       "      <td>1</td>\n",
       "      <td>2.62</td>\n",
       "      <td>2.44</td>\n",
       "      <td>150</td>\n",
       "      <td>False</td>\n",
       "    </tr>\n",
       "    <tr>\n",
       "      <th>4</th>\n",
       "      <td>N85639</td>\n",
       "      <td>0401020K0</td>\n",
       "      <td>Diazepam_Tab 2mg</td>\n",
       "      <td>1</td>\n",
       "      <td>0.16</td>\n",
       "      <td>0.26</td>\n",
       "      <td>6</td>\n",
       "      <td>False</td>\n",
       "    </tr>\n",
       "  </tbody>\n",
       "</table>\n",
       "</div>"
      ],
      "text/plain": [
       "  practice   bnf_code                              bnf_name  items   nic  \\\n",
       "0   N85639  0106020C0                 Bisacodyl_Tab E/C 5mg      1  0.39   \n",
       "1   N85639  0106040M0      Movicol Plain_Paed Pdr Sach 6.9g      1  4.38   \n",
       "2   N85639  0301011R0    Salbutamol_Inha 100mcg (200 D) CFF      1  1.50   \n",
       "3   N85639  0304010G0  Chlorphenamine Mal_Oral Soln 2mg/5ml      1  2.62   \n",
       "4   N85639  0401020K0                      Diazepam_Tab 2mg      1  0.16   \n",
       "\n",
       "   act_cost  quantity   rare  \n",
       "0      0.47        12  False  \n",
       "1      4.07        30  False  \n",
       "2      1.40         1  False  \n",
       "3      2.44       150  False  \n",
       "4      0.26         6  False  "
      ]
     },
     "execution_count": 121,
     "metadata": {},
     "output_type": "execute_result"
    }
   ],
   "source": [
    "rare_scripts = scripts\n",
    "p = 1/rare_scripts['bnf_code'].nunique()\n",
    "rates = rare_scripts.groupby('bnf_code')['bnf_code'].count()\n",
    "rates = rates.rename('bnf code count').reset_index()\n",
    "rare_values = rates['bnf code count'] / rare_scripts['bnf_code'].count()\n",
    "rare_codes =rates[rare_values < 0.1*p]['bnf_code'].tolist()\n",
    "rare_scripts['rare'] = rare_scripts['bnf_code'].isin(rare_codes)\n",
    "rare_scripts.head()"
   ]
  },
  {
   "cell_type": "markdown",
   "metadata": {},
   "source": [
    "Now for each practice, calculate the proportion of costs that originate from prescription of rare treatments (i.e. rare `'bnf_code'`). Use the `'act_cost'` field for this calculation."
   ]
  },
  {
   "cell_type": "code",
   "execution_count": 82,
   "metadata": {},
   "outputs": [
    {
     "data": {
      "text/html": [
       "<div>\n",
       "<style scoped>\n",
       "    .dataframe tbody tr th:only-of-type {\n",
       "        vertical-align: middle;\n",
       "    }\n",
       "\n",
       "    .dataframe tbody tr th {\n",
       "        vertical-align: top;\n",
       "    }\n",
       "\n",
       "    .dataframe thead th {\n",
       "        text-align: right;\n",
       "    }\n",
       "</style>\n",
       "<table border=\"1\" class=\"dataframe\">\n",
       "  <thead>\n",
       "    <tr style=\"text-align: right;\">\n",
       "      <th></th>\n",
       "      <th>practice</th>\n",
       "      <th>rare cost prop</th>\n",
       "    </tr>\n",
       "  </thead>\n",
       "  <tbody>\n",
       "    <tr>\n",
       "      <th>0</th>\n",
       "      <td>A81005</td>\n",
       "      <td>0.012017</td>\n",
       "    </tr>\n",
       "    <tr>\n",
       "      <th>1</th>\n",
       "      <td>A81007</td>\n",
       "      <td>0.008381</td>\n",
       "    </tr>\n",
       "    <tr>\n",
       "      <th>2</th>\n",
       "      <td>A81011</td>\n",
       "      <td>0.005116</td>\n",
       "    </tr>\n",
       "    <tr>\n",
       "      <th>3</th>\n",
       "      <td>A81012</td>\n",
       "      <td>0.013747</td>\n",
       "    </tr>\n",
       "    <tr>\n",
       "      <th>4</th>\n",
       "      <td>A81017</td>\n",
       "      <td>0.007359</td>\n",
       "    </tr>\n",
       "  </tbody>\n",
       "</table>\n",
       "</div>"
      ],
      "text/plain": [
       "  practice  rare cost prop\n",
       "0   A81005        0.012017\n",
       "1   A81007        0.008381\n",
       "2   A81011        0.005116\n",
       "3   A81012        0.013747\n",
       "4   A81017        0.007359"
      ]
     },
     "execution_count": 82,
     "metadata": {},
     "output_type": "execute_result"
    }
   ],
   "source": [
    "rare_cost_prop = rare_scripts[rare_scripts['rare']].groupby('practice')['act_cost'].sum() / rare_scripts.groupby('practice')['act_cost'].sum().astype(float)\n",
    "rare_cost_prop.fillna(0, inplace=True)\n",
    "rare_cost_prop = rare_cost_prop.rename('rare cost prop').reset_index()\n",
    "rare_cost_prop.head()"
   ]
  },
  {
   "cell_type": "markdown",
   "metadata": {},
   "source": [
    "Now we will calculate a z-score for each practice based on this proportion.\n",
    "First take the difference of `rare_cost_prop` and the proportion of costs originating from rare treatments across all practices."
   ]
  },
  {
   "cell_type": "code",
   "execution_count": 70,
   "metadata": {},
   "outputs": [],
   "source": [
    "from scipy import stats"
   ]
  },
  {
   "cell_type": "code",
   "execution_count": 117,
   "metadata": {},
   "outputs": [],
   "source": [
    "standard_errors = stats.sem(rare_cost_prop['rare cost prop'])"
   ]
  },
  {
   "cell_type": "code",
   "execution_count": 87,
   "metadata": {},
   "outputs": [],
   "source": [
    "rare_cost_prop['Z-score'] = stats.zscore(rare_cost_prop['rare cost prop'])"
   ]
  },
  {
   "cell_type": "code",
   "execution_count": 126,
   "metadata": {},
   "outputs": [
    {
     "data": {
      "text/plain": [
       "(0.015962901360950386, 0.06050888706745139)"
      ]
     },
     "execution_count": 126,
     "metadata": {},
     "output_type": "execute_result"
    }
   ],
   "source": [
    "mean_val = rare_scripts[rare_scripts['rare']]['act_cost'].sum() / rare_scripts['act_cost'].sum()\n",
    "rare_cost_prop = rare_scripts[rare_scripts['rare']].groupby('practice')['act_cost'].sum() / rare_scripts.groupby('practice')['act_cost'].sum().astype(float)\n",
    "rare_cost_prop.fillna(0, inplace=True)\n",
    "\n",
    "relative_rare_cost_prop = rare_cost_prop - mean_val \n",
    "standard_errors = relative_rare_cost_prop.std()\n",
    "\n",
    "mean_val, standard_errors"
   ]
  },
  {
   "cell_type": "code",
   "execution_count": 132,
   "metadata": {},
   "outputs": [
    {
     "data": {
      "text/html": [
       "<div>\n",
       "<style scoped>\n",
       "    .dataframe tbody tr th:only-of-type {\n",
       "        vertical-align: middle;\n",
       "    }\n",
       "\n",
       "    .dataframe tbody tr th {\n",
       "        vertical-align: top;\n",
       "    }\n",
       "\n",
       "    .dataframe thead th {\n",
       "        text-align: right;\n",
       "    }\n",
       "</style>\n",
       "<table border=\"1\" class=\"dataframe\">\n",
       "  <thead>\n",
       "    <tr style=\"text-align: right;\">\n",
       "      <th></th>\n",
       "      <th>practice</th>\n",
       "      <th>Z-score</th>\n",
       "    </tr>\n",
       "  </thead>\n",
       "  <tbody>\n",
       "    <tr>\n",
       "      <th>0</th>\n",
       "      <td>A81005</td>\n",
       "      <td>-0.065216</td>\n",
       "    </tr>\n",
       "    <tr>\n",
       "      <th>1</th>\n",
       "      <td>A81007</td>\n",
       "      <td>-0.125308</td>\n",
       "    </tr>\n",
       "    <tr>\n",
       "      <th>2</th>\n",
       "      <td>A81011</td>\n",
       "      <td>-0.179263</td>\n",
       "    </tr>\n",
       "    <tr>\n",
       "      <th>3</th>\n",
       "      <td>A81012</td>\n",
       "      <td>-0.036615</td>\n",
       "    </tr>\n",
       "    <tr>\n",
       "      <th>4</th>\n",
       "      <td>A81017</td>\n",
       "      <td>-0.142190</td>\n",
       "    </tr>\n",
       "  </tbody>\n",
       "</table>\n",
       "</div>"
      ],
      "text/plain": [
       "  practice   Z-score\n",
       "0   A81005 -0.065216\n",
       "1   A81007 -0.125308\n",
       "2   A81011 -0.179263\n",
       "3   A81012 -0.036615\n",
       "4   A81017 -0.142190"
      ]
     },
     "execution_count": 132,
     "metadata": {},
     "output_type": "execute_result"
    }
   ],
   "source": [
    "rare_scores = (relative_rare_cost_prop / standard_errors).rename('z-score').reset_index()\n",
    "rare_scores.columns =['practice','Z-score']\n",
    "rare_scores.head()"
   ]
  },
  {
   "cell_type": "code",
   "execution_count": null,
   "metadata": {},
   "outputs": [],
   "source": [
    "relative_rare_cost_prop = "
   ]
  },
  {
   "cell_type": "code",
   "execution_count": null,
   "metadata": {},
   "outputs": [],
   "source": [
    "rare_scores = ..."
   ]
  },
  {
   "cell_type": "code",
   "execution_count": 88,
   "metadata": {},
   "outputs": [
    {
     "data": {
      "text/html": [
       "<div>\n",
       "<style scoped>\n",
       "    .dataframe tbody tr th:only-of-type {\n",
       "        vertical-align: middle;\n",
       "    }\n",
       "\n",
       "    .dataframe tbody tr th {\n",
       "        vertical-align: top;\n",
       "    }\n",
       "\n",
       "    .dataframe thead th {\n",
       "        text-align: right;\n",
       "    }\n",
       "</style>\n",
       "<table border=\"1\" class=\"dataframe\">\n",
       "  <thead>\n",
       "    <tr style=\"text-align: right;\">\n",
       "      <th></th>\n",
       "      <th>practice</th>\n",
       "      <th>rare cost prop</th>\n",
       "      <th>Z-score</th>\n",
       "    </tr>\n",
       "  </thead>\n",
       "  <tbody>\n",
       "    <tr>\n",
       "      <th>0</th>\n",
       "      <td>A81005</td>\n",
       "      <td>0.012017</td>\n",
       "      <td>-0.141131</td>\n",
       "    </tr>\n",
       "    <tr>\n",
       "      <th>1</th>\n",
       "      <td>A81007</td>\n",
       "      <td>0.008381</td>\n",
       "      <td>-0.201257</td>\n",
       "    </tr>\n",
       "    <tr>\n",
       "      <th>2</th>\n",
       "      <td>A81011</td>\n",
       "      <td>0.005116</td>\n",
       "      <td>-0.255244</td>\n",
       "    </tr>\n",
       "    <tr>\n",
       "      <th>3</th>\n",
       "      <td>A81012</td>\n",
       "      <td>0.013747</td>\n",
       "      <td>-0.112513</td>\n",
       "    </tr>\n",
       "    <tr>\n",
       "      <th>4</th>\n",
       "      <td>A81017</td>\n",
       "      <td>0.007359</td>\n",
       "      <td>-0.218150</td>\n",
       "    </tr>\n",
       "  </tbody>\n",
       "</table>\n",
       "</div>"
      ],
      "text/plain": [
       "  practice  rare cost prop   Z-score\n",
       "0   A81005        0.012017 -0.141131\n",
       "1   A81007        0.008381 -0.201257\n",
       "2   A81011        0.005116 -0.255244\n",
       "3   A81012        0.013747 -0.112513\n",
       "4   A81017        0.007359 -0.218150"
      ]
     },
     "execution_count": 88,
     "metadata": {},
     "output_type": "execute_result"
    }
   ],
   "source": [
    "rare_scores = rare_cost_prop\n",
    "rare_scores.head()"
   ]
  },
  {
   "cell_type": "code",
   "execution_count": 133,
   "metadata": {},
   "outputs": [
    {
     "data": {
      "text/html": [
       "<div>\n",
       "<style scoped>\n",
       "    .dataframe tbody tr th:only-of-type {\n",
       "        vertical-align: middle;\n",
       "    }\n",
       "\n",
       "    .dataframe tbody tr th {\n",
       "        vertical-align: top;\n",
       "    }\n",
       "\n",
       "    .dataframe thead th {\n",
       "        text-align: right;\n",
       "    }\n",
       "</style>\n",
       "<table border=\"1\" class=\"dataframe\">\n",
       "  <thead>\n",
       "    <tr style=\"text-align: right;\">\n",
       "      <th></th>\n",
       "      <th>code</th>\n",
       "      <th>Z-score</th>\n",
       "    </tr>\n",
       "  </thead>\n",
       "  <tbody>\n",
       "    <tr>\n",
       "      <th>765</th>\n",
       "      <td>Y03472</td>\n",
       "      <td>16.262687</td>\n",
       "    </tr>\n",
       "    <tr>\n",
       "      <th>831</th>\n",
       "      <td>Y05320</td>\n",
       "      <td>15.128648</td>\n",
       "    </tr>\n",
       "    <tr>\n",
       "      <th>793</th>\n",
       "      <td>Y04404</td>\n",
       "      <td>7.542139</td>\n",
       "    </tr>\n",
       "    <tr>\n",
       "      <th>766</th>\n",
       "      <td>Y03484</td>\n",
       "      <td>7.287222</td>\n",
       "    </tr>\n",
       "    <tr>\n",
       "      <th>794</th>\n",
       "      <td>Y04424</td>\n",
       "      <td>6.838614</td>\n",
       "    </tr>\n",
       "  </tbody>\n",
       "</table>\n",
       "</div>"
      ],
      "text/plain": [
       "       code    Z-score\n",
       "765  Y03472  16.262687\n",
       "831  Y05320  15.128648\n",
       "793  Y04404   7.542139\n",
       "766  Y03484   7.287222\n",
       "794  Y04424   6.838614"
      ]
     },
     "execution_count": 133,
     "metadata": {},
     "output_type": "execute_result"
    }
   ],
   "source": [
    "rare_scores.sort_values('Z-score', ascending=False, inplace=True)\n",
    "rare_scores = rare_scores[['practice','Z-score']]\n",
    "rare_scores.columns = ['code','Z-score']\n",
    "rare_scores.head()"
   ]
  },
  {
   "cell_type": "code",
   "execution_count": 134,
   "metadata": {},
   "outputs": [
    {
     "data": {
      "text/html": [
       "<div>\n",
       "<style scoped>\n",
       "    .dataframe tbody tr th:only-of-type {\n",
       "        vertical-align: middle;\n",
       "    }\n",
       "\n",
       "    .dataframe tbody tr th {\n",
       "        vertical-align: top;\n",
       "    }\n",
       "\n",
       "    .dataframe thead th {\n",
       "        text-align: right;\n",
       "    }\n",
       "</style>\n",
       "<table border=\"1\" class=\"dataframe\">\n",
       "  <thead>\n",
       "    <tr style=\"text-align: right;\">\n",
       "      <th></th>\n",
       "      <th>code</th>\n",
       "      <th>name</th>\n",
       "      <th>post_code</th>\n",
       "    </tr>\n",
       "  </thead>\n",
       "  <tbody>\n",
       "    <tr>\n",
       "      <th>0</th>\n",
       "      <td>A81001</td>\n",
       "      <td>THE DENSHAM SURGERY</td>\n",
       "      <td>TS18 1HU</td>\n",
       "    </tr>\n",
       "    <tr>\n",
       "      <th>1</th>\n",
       "      <td>A81002</td>\n",
       "      <td>QUEENS PARK MEDICAL CENTRE</td>\n",
       "      <td>TS18 2AW</td>\n",
       "    </tr>\n",
       "    <tr>\n",
       "      <th>2</th>\n",
       "      <td>A81003</td>\n",
       "      <td>VICTORIA MEDICAL PRACTICE</td>\n",
       "      <td>TS26 8DB</td>\n",
       "    </tr>\n",
       "    <tr>\n",
       "      <th>3</th>\n",
       "      <td>A81004</td>\n",
       "      <td>WOODLANDS ROAD SURGERY</td>\n",
       "      <td>TS1 3BE</td>\n",
       "    </tr>\n",
       "    <tr>\n",
       "      <th>4</th>\n",
       "      <td>A81005</td>\n",
       "      <td>SPRINGWOOD SURGERY</td>\n",
       "      <td>TS14 7DJ</td>\n",
       "    </tr>\n",
       "  </tbody>\n",
       "</table>\n",
       "</div>"
      ],
      "text/plain": [
       "     code                        name post_code\n",
       "0  A81001         THE DENSHAM SURGERY  TS18 1HU\n",
       "1  A81002  QUEENS PARK MEDICAL CENTRE  TS18 2AW\n",
       "2  A81003   VICTORIA MEDICAL PRACTICE  TS26 8DB\n",
       "3  A81004      WOODLANDS ROAD SURGERY   TS1 3BE\n",
       "4  A81005          SPRINGWOOD SURGERY  TS14 7DJ"
      ]
     },
     "execution_count": 134,
     "metadata": {},
     "output_type": "execute_result"
    }
   ],
   "source": [
    "rare_practices = practices[['code','name','post_code']].drop_duplicates('code')\n",
    "rare_practices.head()"
   ]
  },
  {
   "cell_type": "code",
   "execution_count": 135,
   "metadata": {},
   "outputs": [
    {
     "data": {
      "text/html": [
       "<div>\n",
       "<style scoped>\n",
       "    .dataframe tbody tr th:only-of-type {\n",
       "        vertical-align: middle;\n",
       "    }\n",
       "\n",
       "    .dataframe tbody tr th {\n",
       "        vertical-align: top;\n",
       "    }\n",
       "\n",
       "    .dataframe thead th {\n",
       "        text-align: right;\n",
       "    }\n",
       "</style>\n",
       "<table border=\"1\" class=\"dataframe\">\n",
       "  <thead>\n",
       "    <tr style=\"text-align: right;\">\n",
       "      <th></th>\n",
       "      <th>code</th>\n",
       "      <th>Z-score</th>\n",
       "      <th>name</th>\n",
       "      <th>post_code</th>\n",
       "    </tr>\n",
       "  </thead>\n",
       "  <tbody>\n",
       "    <tr>\n",
       "      <th>0</th>\n",
       "      <td>Y03472</td>\n",
       "      <td>16.262687</td>\n",
       "      <td>CONSULTANT DIABETES TEAM</td>\n",
       "      <td>PE1 2QP</td>\n",
       "    </tr>\n",
       "    <tr>\n",
       "      <th>1</th>\n",
       "      <td>Y05320</td>\n",
       "      <td>15.128648</td>\n",
       "      <td>DMC COMMUNITY DERMATOLOGY RBWF</td>\n",
       "      <td>B61 0AZ</td>\n",
       "    </tr>\n",
       "    <tr>\n",
       "      <th>2</th>\n",
       "      <td>Y04404</td>\n",
       "      <td>7.542139</td>\n",
       "      <td>OUTPATIENTS JUBILEE HEALTH CENTRE</td>\n",
       "      <td>SM6 0HY</td>\n",
       "    </tr>\n",
       "    <tr>\n",
       "      <th>3</th>\n",
       "      <td>Y03484</td>\n",
       "      <td>7.287222</td>\n",
       "      <td>DMC COMMUNITY DERMATOLOGY CLINIC</td>\n",
       "      <td>ME12 3LT</td>\n",
       "    </tr>\n",
       "    <tr>\n",
       "      <th>4</th>\n",
       "      <td>Y04424</td>\n",
       "      <td>6.838614</td>\n",
       "      <td>DMC HEALTHCARE</td>\n",
       "      <td>SS8 0JA</td>\n",
       "    </tr>\n",
       "  </tbody>\n",
       "</table>\n",
       "</div>"
      ],
      "text/plain": [
       "     code    Z-score                               name post_code\n",
       "0  Y03472  16.262687           CONSULTANT DIABETES TEAM   PE1 2QP\n",
       "1  Y05320  15.128648     DMC COMMUNITY DERMATOLOGY RBWF   B61 0AZ\n",
       "2  Y04404   7.542139  OUTPATIENTS JUBILEE HEALTH CENTRE   SM6 0HY\n",
       "3  Y03484   7.287222   DMC COMMUNITY DERMATOLOGY CLINIC  ME12 3LT\n",
       "4  Y04424   6.838614                     DMC HEALTHCARE   SS8 0JA"
      ]
     },
     "execution_count": 135,
     "metadata": {},
     "output_type": "execute_result"
    }
   ],
   "source": [
    "result = rare_scores.merge(rare_practices,on= 'code', how = 'left')\n",
    "result.head()"
   ]
  },
  {
   "cell_type": "markdown",
   "metadata": {},
   "source": [
    "Now we will estimate the standard errors (i.e. the denominator of the z-score) by simply taking the standard deviation of this difference."
   ]
  },
  {
   "cell_type": "code",
   "execution_count": 136,
   "metadata": {},
   "outputs": [
    {
     "data": {
      "text/html": [
       "<div>\n",
       "<style scoped>\n",
       "    .dataframe tbody tr th:only-of-type {\n",
       "        vertical-align: middle;\n",
       "    }\n",
       "\n",
       "    .dataframe tbody tr th {\n",
       "        vertical-align: top;\n",
       "    }\n",
       "\n",
       "    .dataframe thead th {\n",
       "        text-align: right;\n",
       "    }\n",
       "</style>\n",
       "<table border=\"1\" class=\"dataframe\">\n",
       "  <thead>\n",
       "    <tr style=\"text-align: right;\">\n",
       "      <th></th>\n",
       "      <th>code</th>\n",
       "      <th>name</th>\n",
       "      <th>Z-score</th>\n",
       "    </tr>\n",
       "  </thead>\n",
       "  <tbody>\n",
       "    <tr>\n",
       "      <th>0</th>\n",
       "      <td>Y03472</td>\n",
       "      <td>CONSULTANT DIABETES TEAM</td>\n",
       "      <td>16.262687</td>\n",
       "    </tr>\n",
       "    <tr>\n",
       "      <th>1</th>\n",
       "      <td>Y05320</td>\n",
       "      <td>DMC COMMUNITY DERMATOLOGY RBWF</td>\n",
       "      <td>15.128648</td>\n",
       "    </tr>\n",
       "    <tr>\n",
       "      <th>2</th>\n",
       "      <td>Y04404</td>\n",
       "      <td>OUTPATIENTS JUBILEE HEALTH CENTRE</td>\n",
       "      <td>7.542139</td>\n",
       "    </tr>\n",
       "    <tr>\n",
       "      <th>3</th>\n",
       "      <td>Y03484</td>\n",
       "      <td>DMC COMMUNITY DERMATOLOGY CLINIC</td>\n",
       "      <td>7.287222</td>\n",
       "    </tr>\n",
       "    <tr>\n",
       "      <th>4</th>\n",
       "      <td>Y04424</td>\n",
       "      <td>DMC HEALTHCARE</td>\n",
       "      <td>6.838614</td>\n",
       "    </tr>\n",
       "  </tbody>\n",
       "</table>\n",
       "</div>"
      ],
      "text/plain": [
       "     code                               name    Z-score\n",
       "0  Y03472           CONSULTANT DIABETES TEAM  16.262687\n",
       "1  Y05320     DMC COMMUNITY DERMATOLOGY RBWF  15.128648\n",
       "2  Y04404  OUTPATIENTS JUBILEE HEALTH CENTRE   7.542139\n",
       "3  Y03484   DMC COMMUNITY DERMATOLOGY CLINIC   7.287222\n",
       "4  Y04424                     DMC HEALTHCARE   6.838614"
      ]
     },
     "execution_count": 136,
     "metadata": {},
     "output_type": "execute_result"
    }
   ],
   "source": [
    "data = result[['code','name','Z-score']]\n",
    "data.head()"
   ]
  },
  {
   "cell_type": "markdown",
   "metadata": {},
   "source": [
    "Finally compute the z-scores. Return the practices with the top 100 z-scores in the form `(post_code, practice_name, z-score)`. Note that some practice codes will correspond with multiple names. In this case, use the first match when sorting names alphabetically."
   ]
  },
  {
   "cell_type": "code",
   "execution_count": 47,
   "metadata": {},
   "outputs": [],
   "source": [
    "rare_scripts = [(\"Y03472\", \"CONSULTANT DIABETES TEAM\", 16.2626871247)] * 100"
   ]
  },
  {
   "cell_type": "code",
   "execution_count": 137,
   "metadata": {},
   "outputs": [],
   "source": [
    "def tuples(result):\n",
    "    answer = []\n",
    "    for values in result.values:\n",
    "        answer.append(tuple(values))\n",
    "    return(answer)"
   ]
  },
  {
   "cell_type": "code",
   "execution_count": 138,
   "metadata": {},
   "outputs": [
    {
     "data": {
      "text/plain": [
       "[('Y03472', 'CONSULTANT DIABETES TEAM', 16.262687124655073),\n",
       " ('Y05320', 'DMC COMMUNITY DERMATOLOGY RBWF', 15.128648195416869),\n",
       " ('Y04404', 'OUTPATIENTS JUBILEE HEALTH CENTRE', 7.54213935610462),\n",
       " ('Y03484', 'DMC COMMUNITY DERMATOLOGY CLINIC', 7.287222200297828),\n",
       " ('Y04424', 'DMC HEALTHCARE', 6.838614181432866),\n",
       " ('Y00631', 'BINGLEY DERMATOLOGY CLINIC', 5.75599754983774),\n",
       " ('A89038', 'BARMSTON MEDICAL CENTRE', 5.664940368539935),\n",
       " ('Y01696', 'BASSETLAW HOSPICE OF THE GOOD SHEPHERD', 4.290685171474921),\n",
       " ('Y03699', 'OLDHAM DERMATOLOGY SERVICE', 4.103743999157244),\n",
       " ('Y02045', 'VERNOVA HEALTHCARE CIC', 3.1807154704143983),\n",
       " ('Y02823', 'DMC VICARAGE LANE', 3.054121649498702),\n",
       " ('Y00997', 'COMMUNITY DERMATOLOGY SERVICE', 3.018128359535277),\n",
       " ('Y05019', 'OLDHAM TOTAL SKIN SERVICE', 2.7247515958989283),\n",
       " ('Y01003', 'BURY OOH', 2.350436347139858),\n",
       " ('Y05431', 'NOTTS APPLIANCE MANAGEMENT SERVICE', 2.0371585432333865),\n",
       " ('Y03557', 'IPU 10-17 RECOVERY COVENTRY', 2.0304495001187792),\n",
       " ('Y05419', 'WEEKEND WORKING EASINGTON NORTH', 2.0029603055317033),\n",
       " ('Y05434', 'NOTTS APPLIANCE MANAGEMENT SERVICE', 1.617815561802807),\n",
       " ('L84042', 'LONDON MEDICAL PRACTICE', 1.6040122379818667),\n",
       " ('Y04871', 'LEARNING ASSESSMENT & NEUROCARE BURY', 1.4408185020947357),\n",
       " ('Y05432', 'NOTTS APPLIANCE MANAGEMENT SERVICE', 1.3052021753375485),\n",
       " ('F86057', 'THE WILLOWS PRACTICE', 1.280956281894272),\n",
       " ('L81673', 'BCH DERMATOLOGY SERVICE', 1.2779474429274984),\n",
       " ('Y04089', \"VIRGINCARE STOCKTON LLP(M'BORO)\", 1.205585821536491),\n",
       " ('Y03762', 'BASSETLAW HEALTH PARTNERSHIP', 1.1547690310997736),\n",
       " ('Y05430', 'NOTTS APPLIANCE MANAGEMENT SERVICE', 1.122760467986764),\n",
       " ('B85030', 'SCRIVINGS CLECKHEATON HLTH CTR', 1.103502377336562),\n",
       " ('P81736', 'WHITEFIELD HEALTHCARE', 1.0939581886026775),\n",
       " ('Y00570', 'TOLWORTH HOSPITAL GP DERM SERV', 1.051561915279194),\n",
       " ('Y04606', 'LANCASTER HOUSE CONTINENCE', 1.0328515953934714),\n",
       " ('P81712', 'DARWEN HEALTH CENTRE', 1.0286324480322657),\n",
       " ('Y05433', 'NOTTS APPLIANCE MANAGEMENT SERVICE', 1.027801098310148),\n",
       " ('Y02943', 'NEUROLOGY LONG TERM CONDITIONS', 0.9576943719522105),\n",
       " ('P84051', 'EASTLANDS MEDICAL CENTRE', 0.9070372260702894),\n",
       " ('Y02203', 'EASINGTON DERMATOLOGY CLINIC', 0.8830665514715633),\n",
       " ('G82704', 'THE CHURCH VIEW PRACTICE', 0.8688187586905597),\n",
       " ('F81070', 'GRAFTON SURGERY', 0.8466362126602007),\n",
       " ('Y05435', 'NOTTS APPLIANCE MANAGEMENT SERVICE', 0.8245199350473523),\n",
       " ('P82625', 'CHARLOTTE STREET SURGERY', 0.7738455888380996),\n",
       " ('P82640', 'AL FAL MEDICAL GROUP', 0.7188956515487629),\n",
       " ('F84706', 'DR SKS SWEDAN', 0.7187925567143413),\n",
       " ('Y01168', 'COMMUNITY GYNAECOLOGY SERVICE', 0.680294754937742),\n",
       " ('N81080', 'NORTHGATE MEDICAL CENTRE', 0.6661638079014608),\n",
       " ('A87022', 'NORTHUMBERLAND PARK MEDICAL GROUP', 0.6387318815059378),\n",
       " ('B83058', 'THE AVICENNA MEDICAL PRACTICE', 0.5975595360581426),\n",
       " ('M85766', 'BALSALL HEATH HEALTH CENTRE (S)', 0.5631450010961307),\n",
       " ('G81658', 'THE STATION PRACTICE', 0.5331888751077345),\n",
       " ('M85715', 'SOHO ROAD PRIMARY CARE CENTRE', 0.5292269288022778),\n",
       " ('E85659', 'DR RK KUKAR  PARKVIEW CTR FOR H&W', 0.5224575320213929),\n",
       " ('M85716', \"DR KHUROO'S PRACTICE\", 0.5057276127409458),\n",
       " ('B83067', 'THE SPRINGFIELD SURGERY (BINGLEY)', 0.501482611056885),\n",
       " ('B84011', 'CHURCH LANE SURGERY', 0.4971525440866812),\n",
       " ('B83032', 'BRADFORD MOOR PRACTICE', 0.4846018519341162),\n",
       " ('Y00469', \"DR MA SIMS' PRACTICE\", 0.4807898234276762),\n",
       " ('H81034', 'MADEIRA MEDICAL', 0.4734461208205337),\n",
       " ('A83071', 'THE NEW SEAHAM MEDICAL GROUP', 0.449331293126233),\n",
       " ('P91633', 'GROVE MEDICAL PRACTICE', 0.41490953303333816),\n",
       " ('P84032', 'DR MOKASHI', 0.41412117824419364),\n",
       " ('F84086', 'DR N DRIVER & PARTNERS', 0.41010853569042116),\n",
       " ('C83041', 'THE WOODLAND MEDICAL PRACTICE', 0.40138982620908986),\n",
       " ('G82162', 'RAINHAM HEALTHY LIVING CENTRE', 0.393922979076173),\n",
       " ('A83051', 'MARLBOROUGH SURGERY', 0.3778275531156093),\n",
       " ('C84714', 'SUNRISE MEDICAL PRACTICE (GHATTAORA)', 0.36171473108349395),\n",
       " ('B82016', 'EAST PARADE SURGERY', 0.3557702463337187),\n",
       " ('C84691', 'HIGHGREEN PRACTICE (KHAN)', 0.3433615333473626),\n",
       " ('L82001', 'LANDER MEDICAL PRACTICE', 0.33235665421941707),\n",
       " ('G84027', 'ELM HOUSE SURGERY', 0.32992048438337207),\n",
       " ('Y02957', 'LEWISHAM GP LED HEALTH CENTRE', 0.32435502195888544),\n",
       " ('G85095', 'MANOR PLACE SURGERY', 0.31837462196154365),\n",
       " ('E82656', 'CASSIO SURGERY - E82656', 0.30990494051873824),\n",
       " ('M91017', 'NORTHGATE MEDICAL CENTRE', 0.30899661675601364),\n",
       " ('L84008', \"ST.GEORGE'S SURGERY\", 0.3030552835025272),\n",
       " ('P81099', 'DR THM MACKENZIE & PARTNERS', 0.2999109640678622),\n",
       " ('E85018', \"DR SOOD'S PRACTICE\", 0.28911226062072876),\n",
       " ('Y04951', 'ARDEN HEALTHCARE CENTRE', 0.2887489271620815),\n",
       " ('N82051', 'BREEZE HILL - SSP HEALTH LIMITED', 0.28046854394239895),\n",
       " ('H81097', 'RIVER WEY MEDICAL PRACTICE', 0.2791932466218151),\n",
       " ('C82667', 'THE CHARNWOOD PRACTICE', 0.27023096949600767),\n",
       " ('C87622', 'THE GATE', 0.2664585596184689),\n",
       " ('E85723', 'NORTHOLT FAMILY PRACTICE', 0.26528020519467377),\n",
       " ('C84013', 'BRIDGEGATE AND TALL TREES PARTNERSHIP', 0.26366935264953073),\n",
       " ('E85126', 'GREEN PRACTICE', 0.26221153146662574),\n",
       " ('P92024', 'THE CHANDLER SURGERY', 0.26051575498627844),\n",
       " ('Y01929', 'TRINITY HEALTHCARE PARTNERSHIP', 0.25690238903585116),\n",
       " ('K82078', 'DR ALLAN AND PARTNERS', 0.2533573488637121),\n",
       " ('M85068', 'THE VESEY PRACTICE', 0.25158414215632147),\n",
       " ('G85034', 'PRINCESS STREET GROUP PRACTICE', 0.2478114526939599),\n",
       " ('P88023', 'HEALD GREEN HEALTH CENTRE 2', 0.24216851539060344),\n",
       " ('M83629', 'DRAYTON ROAD SURGERY', 0.2336160725696232),\n",
       " ('M83063', 'NORTON CANES HEALTH CENTRE', 0.23290147960328128),\n",
       " ('H81615', 'FARNHAM DENE MEDICAL PRACTICE', 0.23242313968072845),\n",
       " ('D81024', 'THOMAS WALKER', 0.22415411809062796),\n",
       " ('K83051', 'WEAVERS MEDICAL', 0.22201042583580333),\n",
       " ('G85134', 'THE LISTER PRIMARY CARE CENTRE', 0.21810202517578295),\n",
       " ('Y00278', 'DARLASTON HEALTH CENTRE-KHAN', 0.21228353307860784),\n",
       " ('Y02671', 'THE PRACTICE HEART OF HOUNSLOW', 0.20880880182432582),\n",
       " ('F84631', 'DR PI ABIOLA', 0.20539081662007141),\n",
       " ('B81012', 'DR AP KUMAR', 0.20369059525865613),\n",
       " ('C83613', 'CAISTOR HEALTH CENTRE', 0.20350023874284506),\n",
       " ('M91614', 'STROUD PRACTICE', 0.20050528609272353)]"
      ]
     },
     "execution_count": 138,
     "metadata": {},
     "output_type": "execute_result"
    }
   ],
   "source": [
    "rare_scripts = tuples(data.head(100))\n",
    "rare_scripts"
   ]
  },
  {
   "cell_type": "code",
   "execution_count": 141,
   "metadata": {},
   "outputs": [
    {
     "name": "stdout",
     "output_type": "stream",
     "text": [
      "==================\n",
      "Your score:  0.9300000000000006\n",
      "==================\n"
     ]
    }
   ],
   "source": [
    "grader.score.dw__rare_scripts(rare_scripts)"
   ]
  },
  {
   "cell_type": "markdown",
   "metadata": {},
   "source": [
    "*Copyright &copy; 2019 The Data Incubator.  All rights reserved.*"
   ]
  }
 ],
 "metadata": {
  "kernelspec": {
   "display_name": "Python 3",
   "language": "python",
   "name": "python3"
  },
  "language_info": {
   "codemirror_mode": {
    "name": "ipython",
    "version": 3
   },
   "file_extension": ".py",
   "mimetype": "text/x-python",
   "name": "python",
   "nbconvert_exporter": "python",
   "pygments_lexer": "ipython3",
   "version": "3.7.3"
  },
  "nbclean": true
 },
 "nbformat": 4,
 "nbformat_minor": 1
}
