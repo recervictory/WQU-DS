{
 "cells": [
  {
   "cell_type": "code",
   "execution_count": 4,
   "metadata": {},
   "outputs": [],
   "source": [
    "%matplotlib inline\n",
    "import matplotlib\n",
    "import seaborn as sns\n",
    "matplotlib.rcParams['savefig.dpi'] = 144"
   ]
  },
  {
   "cell_type": "code",
   "execution_count": 5,
   "metadata": {},
   "outputs": [],
   "source": [
    "from static_grader import grader"
   ]
  },
  {
   "cell_type": "markdown",
   "metadata": {},
   "source": [
    "# PW Miniproject\n",
    "## Introduction\n",
    "\n",
    "The objective of this miniproject is to exercise your ability to use basic Python data structures, define functions, and control program flow. We will be using these concepts to perform some fundamental data wrangling tasks such as joining data sets together, splitting data into groups, and aggregating data into summary statistics.\n",
    "**Please do not use `pandas` or `numpy` to answer these questions.**\n",
    "\n",
    "We will be working with medical data from the British NHS on prescription drugs. Since this is real data, it contains many ambiguities that we will need to confront in our analysis. This is commonplace in data science, and is one of the lessons you will learn in this miniproject."
   ]
  },
  {
   "cell_type": "markdown",
   "metadata": {},
   "source": [
    "## Downloading the data\n",
    "\n",
    "We first need to download the data we'll be using from Amazon S3:"
   ]
  },
  {
   "cell_type": "code",
   "execution_count": 3,
   "metadata": {},
   "outputs": [
    {
     "name": "stderr",
     "output_type": "stream",
     "text": [
      "--2019-11-07 12:28:05--  http://dataincubator-wqu.s3.amazonaws.com/pwdata/201701scripts_sample.json.gz\n",
      "Resolving dataincubator-wqu.s3.amazonaws.com (dataincubator-wqu.s3.amazonaws.com)... 52.216.109.59\n",
      "Connecting to dataincubator-wqu.s3.amazonaws.com (dataincubator-wqu.s3.amazonaws.com)|52.216.109.59|:80... connected.\n",
      "HTTP request sent, awaiting response... 200 OK\n",
      "Length: 10367709 (9.9M) [application/json]\n",
      "Saving to: ‘./pw-data/201701scripts_sample.json.gz’\n",
      "\n",
      "     0K .......... .......... .......... .......... ..........  0% 25.1M 0s\n",
      "    50K .......... .......... .......... .......... ..........  0% 30.7M 0s\n",
      "   100K .......... .......... .......... .......... ..........  1% 29.1M 0s\n",
      "   150K .......... .......... .......... .......... ..........  1% 41.0M 0s\n",
      "   200K .......... .......... .......... .......... ..........  2% 39.8M 0s\n",
      "   250K .......... .......... .......... .......... ..........  2%  321M 0s\n",
      "   300K .......... .......... .......... .......... ..........  3% 51.2M 0s\n",
      "   350K .......... .......... .......... .......... ..........  3% 81.8M 0s\n",
      "   400K .......... .......... .......... .......... ..........  4% 52.0M 0s\n",
      "   450K .......... .......... .......... .......... ..........  4% 41.4M 0s\n",
      "   500K .......... .......... .......... .......... ..........  5% 54.5M 0s\n",
      "   550K .......... .......... .......... .......... ..........  5% 34.6M 0s\n",
      "   600K .......... .......... .......... .......... ..........  6% 41.8M 0s\n",
      "   650K .......... .......... .......... .......... ..........  6% 39.7M 0s\n",
      "   700K .......... .......... .......... .......... ..........  7% 46.4M 0s\n",
      "   750K .......... .......... .......... .......... ..........  7% 43.8M 0s\n",
      "   800K .......... .......... .......... .......... ..........  8% 49.2M 0s\n",
      "   850K .......... .......... .......... .......... ..........  8% 33.7M 0s\n",
      "   900K .......... .......... .......... .......... ..........  9% 73.4M 0s\n",
      "   950K .......... .......... .......... .......... ..........  9% 41.4M 0s\n",
      "  1000K .......... .......... .......... .......... .......... 10% 46.5M 0s\n",
      "  1050K .......... .......... .......... .......... .......... 10% 45.9M 0s\n",
      "  1100K .......... .......... .......... .......... .......... 11% 43.4M 0s\n",
      "  1150K .......... .......... .......... .......... .......... 11% 40.7M 0s\n",
      "  1200K .......... .......... .......... .......... .......... 12% 44.3M 0s\n",
      "  1250K .......... .......... .......... .......... .......... 12% 30.5M 0s\n",
      "  1300K .......... .......... .......... .......... .......... 13% 53.2M 0s\n",
      "  1350K .......... .......... .......... .......... .......... 13% 18.2M 0s\n",
      "  1400K .......... .......... .......... .......... .......... 14% 59.2M 0s\n",
      "  1450K .......... .......... .......... .......... .......... 14% 14.3M 0s\n",
      "  1500K .......... .......... .......... .......... .......... 15% 46.2M 0s\n",
      "  1550K .......... .......... .......... .......... .......... 15% 10.9M 0s\n",
      "  1600K .......... .......... .......... .......... .......... 16% 53.3M 0s\n",
      "  1650K .......... .......... .......... .......... .......... 16% 10.0M 0s\n",
      "  1700K .......... .......... .......... .......... .......... 17% 44.0M 0s\n",
      "  1750K .......... .......... .......... .......... .......... 17% 8.13M 0s\n",
      "  1800K .......... .......... .......... .......... .......... 18% 44.4M 0s\n",
      "  1850K .......... .......... .......... .......... .......... 18% 11.6M 0s\n",
      "  1900K .......... .......... .......... .......... .......... 19% 54.6M 0s\n",
      "  1950K .......... .......... .......... .......... .......... 19% 32.9M 0s\n",
      "  2000K .......... .......... .......... .......... .......... 20% 11.0M 0s\n",
      "  2050K .......... .......... .......... .......... .......... 20% 43.2M 0s\n",
      "  2100K .......... .......... .......... .......... .......... 21% 12.6M 0s\n",
      "  2150K .......... .......... .......... .......... .......... 21% 29.8M 0s\n",
      "  2200K .......... .......... .......... .......... .......... 22% 56.5M 0s\n",
      "  2250K .......... .......... .......... .......... .......... 22% 17.9M 0s\n",
      "  2300K .......... .......... .......... .......... .......... 23% 47.2M 0s\n",
      "  2350K .......... .......... .......... .......... .......... 23% 42.1M 0s\n",
      "  2400K .......... .......... .......... .......... .......... 24% 34.6M 0s\n",
      "  2450K .......... .......... .......... .......... .......... 24% 38.0M 0s\n",
      "  2500K .......... .......... .......... .......... .......... 25% 39.8M 0s\n",
      "  2550K .......... .......... .......... .......... .......... 25% 64.3M 0s\n",
      "  2600K .......... .......... .......... .......... .......... 26% 42.2M 0s\n",
      "  2650K .......... .......... .......... .......... .......... 26% 48.6M 0s\n",
      "  2700K .......... .......... .......... .......... .......... 27% 44.4M 0s\n",
      "  2750K .......... .......... .......... .......... .......... 27% 38.1M 0s\n",
      "  2800K .......... .......... .......... .......... .......... 28% 44.6M 0s\n",
      "  2850K .......... .......... .......... .......... .......... 28% 54.5M 0s\n",
      "  2900K .......... .......... .......... .......... .......... 29% 41.7M 0s\n",
      "  2950K .......... .......... .......... .......... .......... 29% 47.5M 0s\n",
      "  3000K .......... .......... .......... .......... .......... 30% 38.2M 0s\n",
      "  3050K .......... .......... .......... .......... .......... 30% 62.7M 0s\n",
      "  3100K .......... .......... .......... .......... .......... 31% 46.5M 0s\n",
      "  3150K .......... .......... .......... .......... .......... 31% 45.9M 0s\n",
      "  3200K .......... .......... .......... .......... .......... 32% 43.7M 0s\n",
      "  3250K .......... .......... .......... .......... .......... 32% 50.3M 0s\n",
      "  3300K .......... .......... .......... .......... .......... 33% 45.2M 0s\n",
      "  3350K .......... .......... .......... .......... .......... 33% 42.7M 0s\n",
      "  3400K .......... .......... .......... .......... .......... 34% 40.0M 0s\n",
      "  3450K .......... .......... .......... .......... .......... 34% 44.8M 0s\n",
      "  3500K .......... .......... .......... .......... .......... 35% 46.7M 0s\n",
      "  3550K .......... .......... .......... .......... .......... 35% 44.7M 0s\n",
      "  3600K .......... .......... .......... .......... .......... 36% 43.8M 0s\n",
      "  3650K .......... .......... .......... .......... .......... 36% 40.0M 0s\n",
      "  3700K .......... .......... .......... .......... .......... 37% 51.6M 0s\n",
      "  3750K .......... .......... .......... .......... .......... 37% 47.7M 0s\n",
      "  3800K .......... .......... .......... .......... .......... 38% 41.9M 0s\n",
      "  3850K .......... .......... .......... .......... .......... 38% 44.5M 0s\n",
      "  3900K .......... .......... .......... .......... .......... 39% 45.0M 0s\n",
      "  3950K .......... .......... .......... .......... .......... 39% 45.0M 0s\n",
      "  4000K .......... .......... .......... .......... .......... 40% 42.8M 0s\n",
      "  4050K .......... .......... .......... .......... .......... 40% 52.5M 0s\n",
      "  4100K .......... .......... .......... .......... .......... 40% 40.4M 0s\n",
      "  4150K .......... .......... .......... .......... .......... 41% 39.6M 0s\n",
      "  4200K .......... .......... .......... .......... .......... 41% 36.9M 0s\n",
      "  4250K .......... .......... .......... .......... .......... 42% 43.6M 0s\n",
      "  4300K .......... .......... .......... .......... .......... 42% 38.5M 0s\n",
      "  4350K .......... .......... .......... .......... .......... 43% 43.1M 0s\n",
      "  4400K .......... .......... .......... .......... .......... 43% 4.34M 0s\n",
      "  4450K .......... .......... .......... .......... .......... 44%  427M 0s\n",
      "  4500K .......... .......... .......... .......... .......... 44%  253M 0s\n",
      "  4550K .......... .......... .......... .......... .......... 45%  299M 0s\n",
      "  4600K .......... .......... .......... .......... .......... 45%  262M 0s\n",
      "  4650K .......... .......... .......... .......... .......... 46% 35.9M 0s\n",
      "  4700K .......... .......... .......... .......... .......... 46% 34.4M 0s\n",
      "  4750K .......... .......... .......... .......... .......... 47% 39.1M 0s\n",
      "  4800K .......... .......... .......... .......... .......... 47%  193M 0s\n",
      "  4850K .......... .......... .......... .......... .......... 48% 41.2M 0s\n",
      "  4900K .......... .......... .......... .......... .......... 48% 43.1M 0s\n",
      "  4950K .......... .......... .......... .......... .......... 49% 45.7M 0s\n",
      "  5000K .......... .......... .......... .......... .......... 49% 39.2M 0s\n",
      "  5050K .......... .......... .......... .......... .......... 50% 33.6M 0s\n",
      "  5100K .......... .......... .......... .......... .......... 50% 39.4M 0s\n",
      "  5150K .......... .......... .......... .......... .......... 51% 49.6M 0s\n",
      "  5200K .......... .......... .......... .......... .......... 51% 39.3M 0s\n",
      "  5250K .......... .......... .......... .......... .......... 52% 45.3M 0s\n",
      "  5300K .......... .......... .......... .......... .......... 52% 38.6M 0s\n",
      "  5350K .......... .......... .......... .......... .......... 53% 38.6M 0s\n",
      "  5400K .......... .......... .......... .......... .......... 53% 43.6M 0s\n",
      "  5450K .......... .......... .......... .......... .......... 54% 46.4M 0s\n",
      "  5500K .......... .......... .......... .......... .......... 54% 33.4M 0s\n",
      "  5550K .......... .......... .......... .......... .......... 55% 42.8M 0s\n",
      "  5600K .......... .......... .......... .......... .......... 55% 35.9M 0s\n",
      "  5650K .......... .......... .......... .......... .......... 56% 48.8M 0s\n",
      "  5700K .......... .......... .......... .......... .......... 56% 49.7M 0s\n",
      "  5750K .......... .......... .......... .......... .......... 57% 44.7M 0s\n",
      "  5800K .......... .......... .......... .......... .......... 57% 39.6M 0s\n",
      "  5850K .......... .......... .......... .......... .......... 58% 44.5M 0s\n",
      "  5900K .......... .......... .......... .......... .......... 58% 49.4M 0s\n",
      "  5950K .......... .......... .......... .......... .......... 59% 36.3M 0s\n",
      "  6000K .......... .......... .......... .......... .......... 59% 44.0M 0s\n",
      "  6050K .......... .......... .......... .......... .......... 60% 63.4M 0s\n",
      "  6100K .......... .......... .......... .......... .......... 60% 48.4M 0s\n",
      "  6150K .......... .......... .......... .......... .......... 61% 48.4M 0s\n",
      "  6200K .......... .......... .......... .......... .......... 61% 43.4M 0s\n",
      "  6250K .......... .......... .......... .......... .......... 62% 40.7M 0s\n",
      "  6300K .......... .......... .......... .......... .......... 62% 44.3M 0s\n",
      "  6350K .......... .......... .......... .......... .......... 63% 39.8M 0s\n",
      "  6400K .......... .......... .......... .......... .......... 63% 45.0M 0s\n",
      "  6450K .......... .......... .......... .......... .......... 64% 43.0M 0s\n",
      "  6500K .......... .......... .......... .......... .......... 64% 45.4M 0s\n",
      "  6550K .......... .......... .......... .......... .......... 65% 45.5M 0s\n",
      "  6600K .......... .......... .......... .......... .......... 65% 42.0M 0s\n",
      "  6650K .......... .......... .......... .......... .......... 66% 48.4M 0s\n",
      "  6700K .......... .......... .......... .......... .......... 66% 47.9M 0s\n",
      "  6750K .......... .......... .......... .......... .......... 67% 57.2M 0s\n",
      "  6800K .......... .......... .......... .......... .......... 67% 38.7M 0s\n",
      "  6850K .......... .......... .......... .......... .......... 68% 44.7M 0s\n",
      "  6900K .......... .......... .......... .......... .......... 68% 39.7M 0s\n",
      "  6950K .......... .......... .......... .......... .......... 69% 38.5M 0s\n",
      "  7000K .......... .......... .......... .......... .......... 69% 42.6M 0s\n",
      "  7050K .......... .......... .......... .......... .......... 70% 45.2M 0s\n",
      "  7100K .......... .......... .......... .......... .......... 70% 36.3M 0s\n",
      "  7150K .......... .......... .......... .......... .......... 71% 57.6M 0s\n",
      "  7200K .......... .......... .......... .......... .......... 71% 35.4M 0s\n",
      "  7250K .......... .......... .......... .......... .......... 72% 39.8M 0s\n",
      "  7300K .......... .......... .......... .......... .......... 72% 42.0M 0s\n",
      "  7350K .......... .......... .......... .......... .......... 73% 39.3M 0s\n",
      "  7400K .......... .......... .......... .......... .......... 73% 47.7M 0s\n",
      "  7450K .......... .......... .......... .......... .......... 74% 33.0M 0s\n",
      "  7500K .......... .......... .......... .......... .......... 74% 44.9M 0s\n",
      "  7550K .......... .......... .......... .......... .......... 75% 40.9M 0s\n",
      "  7600K .......... .......... .......... .......... .......... 75% 51.8M 0s\n",
      "  7650K .......... .......... .......... .......... .......... 76% 42.6M 0s\n",
      "  7700K .......... .......... .......... .......... .......... 76% 48.2M 0s\n",
      "  7750K .......... .......... .......... .......... .......... 77% 45.9M 0s\n",
      "  7800K .......... .......... .......... .......... .......... 77% 42.1M 0s\n",
      "  7850K .......... .......... .......... .......... .......... 78% 49.3M 0s\n",
      "  7900K .......... .......... .......... .......... .......... 78% 45.2M 0s\n",
      "  7950K .......... .......... .......... .......... .......... 79% 36.0M 0s\n",
      "  8000K .......... .......... .......... .......... .......... 79% 44.3M 0s\n",
      "  8050K .......... .......... .......... .......... .......... 80% 33.1M 0s\n",
      "  8100K .......... .......... .......... .......... .......... 80% 50.2M 0s\n",
      "  8150K .......... .......... .......... .......... .......... 80% 32.3M 0s\n",
      "  8200K .......... .......... .......... .......... .......... 81% 47.1M 0s\n",
      "  8250K .......... .......... .......... .......... .......... 81% 45.0M 0s\n",
      "  8300K .......... .......... .......... .......... .......... 82% 42.8M 0s\n",
      "  8350K .......... .......... .......... .......... .......... 82% 43.0M 0s\n",
      "  8400K .......... .......... .......... .......... .......... 83% 50.7M 0s\n",
      "  8450K .......... .......... .......... .......... .......... 83% 37.1M 0s\n",
      "  8500K .......... .......... .......... .......... .......... 84% 58.3M 0s\n",
      "  8550K .......... .......... .......... .......... .......... 84% 48.1M 0s\n",
      "  8600K .......... .......... .......... .......... .......... 85% 41.8M 0s\n",
      "  8650K .......... .......... .......... .......... .......... 85% 35.6M 0s\n",
      "  8700K .......... .......... .......... .......... .......... 86% 45.0M 0s\n",
      "  8750K .......... .......... .......... .......... .......... 86% 44.3M 0s\n",
      "  8800K .......... .......... .......... .......... .......... 87% 35.5M 0s\n",
      "  8850K .......... .......... .......... .......... .......... 87% 38.0M 0s\n",
      "  8900K .......... .......... .......... .......... .......... 88% 44.7M 0s\n",
      "  8950K .......... .......... .......... .......... .......... 88% 43.2M 0s\n",
      "  9000K .......... .......... .......... .......... .......... 89% 41.8M 0s\n",
      "  9050K .......... .......... .......... .......... .......... 89% 43.7M 0s\n",
      "  9100K .......... .......... .......... .......... .......... 90% 39.5M 0s\n",
      "  9150K .......... .......... .......... .......... .......... 90% 38.7M 0s\n",
      "  9200K .......... .......... .......... .......... .......... 91% 44.2M 0s\n",
      "  9250K .......... .......... .......... .......... .......... 91% 43.8M 0s\n",
      "  9300K .......... .......... .......... .......... .......... 92% 41.0M 0s\n",
      "  9350K .......... .......... .......... .......... .......... 92% 41.7M 0s\n",
      "  9400K .......... .......... .......... .......... .......... 93% 44.5M 0s\n",
      "  9450K .......... .......... .......... .......... .......... 93% 44.3M 0s\n",
      "  9500K .......... .......... .......... .......... .......... 94% 42.7M 0s\n",
      "  9550K .......... .......... .......... .......... .......... 94% 42.5M 0s\n",
      "  9600K .......... .......... .......... .......... .......... 95% 40.8M 0s\n",
      "  9650K .......... .......... .......... .......... .......... 95% 51.5M 0s\n",
      "  9700K .......... .......... .......... .......... .......... 96% 35.2M 0s\n",
      "  9750K .......... .......... .......... .......... .......... 96% 37.9M 0s\n",
      "  9800K .......... .......... .......... .......... .......... 97% 42.6M 0s\n",
      "  9850K .......... .......... .......... .......... .......... 97% 40.2M 0s\n",
      "  9900K .......... .......... .......... .......... .......... 98% 11.9M 0s\n",
      "  9950K .......... .......... .......... .......... .......... 98%  172M 0s\n",
      " 10000K .......... .......... .......... .......... .......... 99%  256M 0s\n",
      " 10050K .......... .......... .......... .......... .......... 99%  260M 0s\n",
      " 10100K .......... .......... ....                            100%  298M=0.3s\n",
      "\n",
      "2019-11-07 12:28:05 (37.7 MB/s) - ‘./pw-data/201701scripts_sample.json.gz’ saved [10367709/10367709]\n",
      "\n",
      "--2019-11-07 12:28:05--  http://dataincubator-wqu.s3.amazonaws.com/pwdata/practices.json.gz\n",
      "Resolving dataincubator-wqu.s3.amazonaws.com (dataincubator-wqu.s3.amazonaws.com)... 52.216.186.51\n",
      "Connecting to dataincubator-wqu.s3.amazonaws.com (dataincubator-wqu.s3.amazonaws.com)|52.216.186.51|:80... connected.\n",
      "HTTP request sent, awaiting response... 200 OK\n",
      "Length: 402461 (393K) [application/json]\n",
      "Saving to: ‘./pw-data/practices.json.gz’\n",
      "\n",
      "     0K .......... .......... .......... .......... .......... 12% 27.0M 0s\n",
      "    50K .......... .......... .......... .......... .......... 25% 35.0M 0s\n",
      "   100K .......... .......... .......... .......... .......... 38% 41.5M 0s\n",
      "   150K .......... .......... .......... .......... .......... 50% 31.4M 0s\n",
      "   200K .......... .......... .......... .......... .......... 63% 35.3M 0s\n",
      "   250K .......... .......... .......... .......... .......... 76%  219M 0s\n",
      "   300K .......... .......... .......... .......... .......... 89% 44.7M 0s\n",
      "   350K .......... .......... .......... .......... ...       100% 44.9M=0.01s\n",
      "\n",
      "2019-11-07 12:28:05 (40.1 MB/s) - ‘./pw-data/practices.json.gz’ saved [402461/402461]\n",
      "\n"
     ]
    }
   ],
   "source": [
    "%%bash\n",
    "mkdir pw-data\n",
    "wget http://dataincubator-wqu.s3.amazonaws.com/pwdata/201701scripts_sample.json.gz -nc -P ./pw-data\n",
    "wget http://dataincubator-wqu.s3.amazonaws.com/pwdata/practices.json.gz -nc -P ./pw-data"
   ]
  },
  {
   "cell_type": "markdown",
   "metadata": {},
   "source": [
    "## Loading the data\n",
    "\n",
    "The first step of the project is to read in the data. We will discuss reading and writing various kinds of files later in the course, but the code below should get you started."
   ]
  },
  {
   "cell_type": "code",
   "execution_count": 2,
   "metadata": {},
   "outputs": [],
   "source": [
    "import gzip\n",
    "import simplejson as json"
   ]
  },
  {
   "cell_type": "code",
   "execution_count": 3,
   "metadata": {},
   "outputs": [],
   "source": [
    "with gzip.open('./pw-data/201701scripts_sample.json.gz', 'rb') as f:\n",
    "    scripts = json.load(f)\n",
    "\n",
    "with gzip.open('./pw-data/practices.json.gz', 'rb') as f:\n",
    "    practices = json.load(f)"
   ]
  },
  {
   "cell_type": "markdown",
   "metadata": {},
   "source": [
    "This data set comes from Britain's National Health Service. The `scripts` variable is a list of prescriptions issued by NHS doctors. Each prescription is represented by a dictionary with various data fields: `'practice'`, `'bnf_code'`, `'bnf_name'`, `'quantity'`, `'items'`, `'nic'`, and `'act_cost'`. "
   ]
  },
  {
   "cell_type": "code",
   "execution_count": 7,
   "metadata": {},
   "outputs": [
    {
     "name": "stdout",
     "output_type": "stream",
     "text": [
      "\n"
     ]
    }
   ],
   "source": [
    "scripts[:2]\n",
    "print(\"\")"
   ]
  },
  {
   "cell_type": "markdown",
   "metadata": {},
   "source": [
    "A [glossary of terms](http://webarchive.nationalarchives.gov.uk/20180328130852tf_/http://content.digital.nhs.uk/media/10686/Download-glossary-of-terms-for-GP-prescribing---presentation-level/pdf/PLP_Presentation_Level_Glossary_April_2015.pdf/) and [FAQ](http://webarchive.nationalarchives.gov.uk/20180328130852tf_/http://content.digital.nhs.uk/media/10048/FAQs-Practice-Level-Prescribingpdf/pdf/PLP_FAQs_April_2015.pdf/) is available from the NHS regarding the data. Below we supply a data dictionary briefly describing what these fields mean.\n",
    "\n",
    "| Data field |Description|\n",
    "|:----------:|-----------|\n",
    "|`'practice'`|Code designating the medical practice issuing the prescription|\n",
    "|`'bnf_code'`|British National Formulary drug code|\n",
    "|`'bnf_name'`|British National Formulary drug name|\n",
    "|`'quantity'`|Number of capsules/quantity of liquid/grams of powder prescribed|\n",
    "| `'items'`  |Number of refills (e.g. if `'quantity'` is 30 capsules, 3 `'items'` means 3 bottles of 30 capsules)|\n",
    "|  `'nic'`   |Net ingredient cost|\n",
    "|`'act_cost'`|Total cost including containers, fees, and discounts|"
   ]
  },
  {
   "cell_type": "markdown",
   "metadata": {},
   "source": [
    "The `practices` variable is a list of member medical practices of the NHS. Each practice is represented by a dictionary containing identifying information for the medical practice. Most of the data fields are self-explanatory. Notice the values in the `'code'` field of `practices` match the values in the `'practice'` field of `scripts`."
   ]
  },
  {
   "cell_type": "code",
   "execution_count": 8,
   "metadata": {},
   "outputs": [
    {
     "data": {
      "text/plain": [
       "[{'code': 'A81001',\n",
       "  'name': 'THE DENSHAM SURGERY',\n",
       "  'addr_1': 'THE HEALTH CENTRE',\n",
       "  'addr_2': 'LAWSON STREET',\n",
       "  'borough': 'STOCKTON ON TEES',\n",
       "  'village': 'CLEVELAND',\n",
       "  'post_code': 'TS18 1HU'},\n",
       " {'code': 'A81002',\n",
       "  'name': 'QUEENS PARK MEDICAL CENTRE',\n",
       "  'addr_1': 'QUEENS PARK MEDICAL CTR',\n",
       "  'addr_2': 'FARRER STREET',\n",
       "  'borough': 'STOCKTON ON TEES',\n",
       "  'village': 'CLEVELAND',\n",
       "  'post_code': 'TS18 2AW'}]"
      ]
     },
     "execution_count": 8,
     "metadata": {},
     "output_type": "execute_result"
    }
   ],
   "source": [
    "practices[:2]"
   ]
  },
  {
   "cell_type": "markdown",
   "metadata": {},
   "source": [
    "In the following questions we will ask you to explore this data set. You may need to combine pieces of the data set together in order to answer some questions. Not every element of the data set will be used in answering the questions."
   ]
  },
  {
   "cell_type": "markdown",
   "metadata": {},
   "source": [
    "## Question 1: summary_statistics\n",
    "\n",
    "Our beneficiary data (`scripts`) contains quantitative data on the number of items dispensed (`'items'`), the total quantity of item dispensed (`'quantity'`), the net cost of the ingredients (`'nic'`), and the actual cost to the patient (`'act_cost'`). Whenever working with a new data set, it can be useful to calculate summary statistics to develop a feeling for the volume and character of the data. This makes it easier to spot trends and significant features during further stages of analysis.\n",
    "\n",
    "Calculate the sum, mean, standard deviation, and quartile statistics for each of these quantities. Format your results for each quantity as a list: `[sum, mean, standard deviation, 1st quartile, median, 3rd quartile]`. We'll create a `tuple` with these lists for each quantity as a final result."
   ]
  },
  {
   "cell_type": "code",
   "execution_count": 12,
   "metadata": {},
   "outputs": [
    {
     "data": {
      "text/plain": [
       "['bnf_code', 'items', 'practice', 'bnf_name', 'nic', 'act_cost', 'quantity']"
      ]
     },
     "execution_count": 12,
     "metadata": {},
     "output_type": "execute_result"
    }
   ],
   "source": [
    "i = [key for key in scripts[0].keys()]\n",
    "i"
   ]
  },
  {
   "cell_type": "code",
   "execution_count": 1,
   "metadata": {},
   "outputs": [
    {
     "name": "stdout",
     "output_type": "stream",
     "text": [
      "[1, 1, 2, 3, 5, 6, 8, 10, 11, 12, 15]\n"
     ]
    },
    {
     "data": {
      "text/plain": [
       "(2.5, 11)"
      ]
     },
     "execution_count": 1,
     "metadata": {},
     "output_type": "execute_result"
    }
   ],
   "source": [
    "\"\"\"Statistics Method\"\"\"\n",
    "import math\n",
    "def mean(data):\n",
    "    n = len(data)\n",
    "    return sum(data)/n\n",
    "\n",
    "def _ss(data):\n",
    "    \"\"\"Return sum of square deviations of sequence data.\"\"\"\n",
    "    c = mean(data)\n",
    "    ss = sum((x-c)**2 for x in data)\n",
    "    return ss\n",
    "\n",
    "def sd(data):\n",
    "    return math.sqrt(_ss(data)/(len(data)-1))\n",
    "\n",
    "def mode(data):\n",
    "    return max(set(data), key = data.count)\n",
    "\n",
    "def median(data):\n",
    "    sort = sorted(data)\n",
    "    l = len(sort)\n",
    "    mid = (l - 1) // 2\n",
    "    if (l % 2):\n",
    "        return sort[mid]\n",
    "    else:\n",
    "        return (sort[mid] + sort[mid + 1])/2\n",
    "\n",
    "def quartile(data):\n",
    "    sort = sorted(data)\n",
    "    l = len(sort)\n",
    "    mid = (l + 1) // 2\n",
    "    if mid == (l + 1) // 2:\n",
    "#        print(sort[:mid],sort[mid:])\n",
    "        return median(sort[:mid]),median(sort[mid:])\n",
    "    else :\n",
    "#        print(sort[:mid],sort[mid+1:])\n",
    "        return median(sort[:mid]),median(sort[mid + 1:])\n",
    "       \n",
    "\n",
    "sample_data = [1, 12, 3,11, 15, 5, 10, 2, 1,6,8]\n",
    "print(sorted(sample_data))\n",
    "\n",
    "quartile(sample_data)"
   ]
  },
  {
   "cell_type": "code",
   "execution_count": null,
   "metadata": {},
   "outputs": [],
   "source": [
    "def get_keys(lst):\n",
    "    return [key for key in lst[0].keys()] \n",
    "\n",
    "def make_data_dic(lst):\n",
    "    data_dic = {}\n",
    "    data_keys = get_keys(lst)\n",
    "    \n",
    "    \"\"\"Make EMPTY LIST of Data Dictionary of each Keys\"\"\"\n",
    "    for key in data_keys:\n",
    "        data_dic[key] = []\n",
    "    \"\"\"Add All the Data to Specific key by opening each entry in First Loop & add on data_dic in next loop\"\"\"\n",
    "    for entry in lst:\n",
    "        for key in data_keys:\n",
    "            data_dic[key].append(entry[key]) \n",
    "    return data_dic\n",
    "\n",
    "def get_data(dic,key):\n",
    "    return dic[key]"
   ]
  },
  {
   "cell_type": "code",
   "execution_count": 17,
   "metadata": {},
   "outputs": [],
   "source": [
    "def get_keys(lst):\n",
    "    return [key for key in lst[0].keys()] \n",
    "\n",
    "def make_data_dic(lst):\n",
    "    data_dic = {}\n",
    "    data_keys = get_keys(lst)\n",
    "    \n",
    "    \"\"\"Make EMPTY LIST of Data Dictionary of each Keys\"\"\"\n",
    "    for key in data_keys:\n",
    "        data_dic[key] = []\n",
    "    \"\"\"Add All the Data to Specific key by opening each entry in First Loop & add on data_dic in next loop\"\"\"\n",
    "    for entry in lst:\n",
    "        for key in data_keys:\n",
    "            data_dic[key].append(entry[key]) \n",
    "    return data_dic\n",
    "\n",
    "def get_data(dic,key):\n",
    "    return dic[key]\n",
    "\n",
    "def _index_list(item, my_list):\n",
    "    \"\"\"Return index list for a given key on list\"\"\"\n",
    "    return [index for index, event in enumerate(my_list) if event == item ]\n",
    "\n",
    "def _index_to_value(index_list,my_list):\n",
    "    return [my_list[i] for i in index_list]\n",
    "\n",
    "def _group_list_by(list_by,list_for,key_by):\n",
    "    \"\"\"Input = Two list and Key, Return second list \"\"\"\n",
    "    group_dic = {}\n",
    "    unique_items = sorted(_unique_entry(list_by))[:100]\n",
    "    for item in unique_items:\n",
    "        index_list = _index_list(item, list_by)\n",
    "#       print(item,\"--->\",_index_to_value(index_list,list_for))\n",
    "        group_dic[item] = list(set(_index_to_value(index_list,list_for)))\n",
    "    return group_dic\n",
    "\n",
    "def _group_sum_by(list_by,list_for,key_by):\n",
    "    \"\"\"Input = Two list and Key, Return second list \"\"\"\n",
    "    group_dic = {}\n",
    "    unique_items = sorted(_unique_entry(list_by))[:100]\n",
    "    for item in unique_items:\n",
    "        index_list = _index_list(item, list_by)\n",
    "#       print(item,\"--->\",_index_to_value(index_list,list_for))\n",
    "        group_dic[item] = sum(_index_to_value(index_list,list_for))\n",
    "    return group_dic\n",
    "\n",
    "def _unique_entry(my_list):\n",
    "    return sorted(list(set(my_list)))\n",
    "\n",
    "def groupby(key_by, key_for,my_list):\n",
    "    data_dict = make_data_dic(my_list)\n",
    "    return _group_list_by(data_dict[key_by],data_dict[key_for],key_by)"
   ]
  },
  {
   "cell_type": "code",
   "execution_count": null,
   "metadata": {},
   "outputs": [],
   "source": []
  },
  {
   "cell_type": "code",
   "execution_count": null,
   "metadata": {},
   "outputs": [],
   "source": [
    "def describe(key):\n",
    "    key_data = scripts_list[key]\n",
    "    total = sum(key_data)\n",
    "    m = mean(key_data)\n",
    "    md = median(key_data)\n",
    "    sds = sd(key_data)\n",
    "    first, third = quartile(key_data)\n",
    "    return total, m ,sds,first,md,third\n",
    "\n",
    "describe(\"items\")"
   ]
  },
  {
   "cell_type": "code",
   "execution_count": null,
   "metadata": {},
   "outputs": [],
   "source": [
    "summary = [('items', describe('items')),\n",
    "           ('quantity', describe('quantity')),\n",
    "           ('nic', describe('nic')),\n",
    "           ('act_cost', describe('act_cost'))]"
   ]
  },
  {
   "cell_type": "code",
   "execution_count": 124,
   "metadata": {},
   "outputs": [
    {
     "name": "stdout",
     "output_type": "stream",
     "text": [
      "==================\n",
      "Your score:  1.0\n",
      "==================\n"
     ]
    }
   ],
   "source": [
    "grader.score.pw__summary_statistics(summary)"
   ]
  },
  {
   "cell_type": "markdown",
   "metadata": {},
   "source": [
    "## Question 2: most_common_item\n",
    "\n",
    "Often we are not interested only in how the data is distributed in our entire data set, but within particular groups -- for example, how many items of each drug (i.e. `'bnf_name'`) were prescribed? Calculate the total items prescribed for each `'bnf_name'`. What is the most commonly prescribed `'bnf_name'` in our data?\n",
    "\n",
    "To calculate this, we first need to split our data set into groups corresponding with the different values of `'bnf_name'`. Then we can sum the number of items dispensed within in each group. Finally we can find the largest sum.\n",
    "\n",
    "We'll use `'bnf_name'` to construct our groups. You should have *5619* unique values for `'bnf_name'`."
   ]
  },
  {
   "cell_type": "code",
   "execution_count": 22,
   "metadata": {},
   "outputs": [
    {
     "ename": "NameError",
     "evalue": "name 'scripts_list' is not defined",
     "output_type": "error",
     "traceback": [
      "\u001b[0;31m---------------------------------------------------------------------------\u001b[0m",
      "\u001b[0;31mNameError\u001b[0m                                 Traceback (most recent call last)",
      "\u001b[0;32m<ipython-input-22-c05a94f82abd>\u001b[0m in \u001b[0;36m<module>\u001b[0;34m()\u001b[0m\n\u001b[0;32m----> 1\u001b[0;31m \u001b[0mbnf_names_list\u001b[0m \u001b[0;34m=\u001b[0m \u001b[0mscripts_list\u001b[0m\u001b[0;34m[\u001b[0m\u001b[0;34m'bnf_name'\u001b[0m\u001b[0;34m]\u001b[0m\u001b[0;34m\u001b[0m\u001b[0;34m\u001b[0m\u001b[0m\n\u001b[0m\u001b[1;32m      2\u001b[0m \u001b[0mbnf_names\u001b[0m \u001b[0;34m=\u001b[0m \u001b[0mset\u001b[0m\u001b[0;34m(\u001b[0m\u001b[0mbnf_names_list\u001b[0m\u001b[0;34m)\u001b[0m\u001b[0;34m\u001b[0m\u001b[0;34m\u001b[0m\u001b[0m\n\u001b[1;32m      3\u001b[0m \u001b[0;32massert\u001b[0m\u001b[0;34m(\u001b[0m\u001b[0mlen\u001b[0m\u001b[0;34m(\u001b[0m\u001b[0mbnf_names\u001b[0m\u001b[0;34m)\u001b[0m \u001b[0;34m==\u001b[0m \u001b[0;36m5619\u001b[0m\u001b[0;34m)\u001b[0m\u001b[0;34m\u001b[0m\u001b[0;34m\u001b[0m\u001b[0m\n",
      "\u001b[0;31mNameError\u001b[0m: name 'scripts_list' is not defined"
     ]
    }
   ],
   "source": [
    "bnf_names_list = scripts_list['bnf_name']\n",
    "bnf_names = set(bnf_names_list)\n",
    "assert(len(bnf_names) == 5619)"
   ]
  },
  {
   "cell_type": "code",
   "execution_count": null,
   "metadata": {},
   "outputs": [],
   "source": []
  },
  {
   "cell_type": "code",
   "execution_count": 17,
   "metadata": {},
   "outputs": [
    {
     "ename": "NameError",
     "evalue": "name 'max_value' is not defined",
     "output_type": "error",
     "traceback": [
      "\u001b[0;31m---------------------------------------------------------------------------\u001b[0m",
      "\u001b[0;31mNameError\u001b[0m                                 Traceback (most recent call last)",
      "\u001b[0;32m<ipython-input-17-3e98ff1bd2c6>\u001b[0m in \u001b[0;36m<module>\u001b[0;34m()\u001b[0m\n\u001b[0;32m----> 1\u001b[0;31m \u001b[0mmax_value\u001b[0m\u001b[0;34m(\u001b[0m\u001b[0mgroup\u001b[0m\u001b[0;34m)\u001b[0m\u001b[0;34m\u001b[0m\u001b[0;34m\u001b[0m\u001b[0m\n\u001b[0m",
      "\u001b[0;31mNameError\u001b[0m: name 'max_value' is not defined"
     ]
    }
   ],
   "source": [
    "max_value(group)"
   ]
  },
  {
   "cell_type": "markdown",
   "metadata": {},
   "source": [
    "We want to construct \"groups\" identified by `'bnf_name'`, where each group is a collection of prescriptions (i.e. dictionaries from `scripts`). We'll construct a dictionary called `groups`, using `bnf_names` as the keys. We'll represent a group with a `list`, since we can easily append new members to the group. To split our `scripts` into groups by `'bnf_name'`, we should iterate over `scripts`, appending prescription dictionaries to each group as we encounter them."
   ]
  },
  {
   "cell_type": "code",
   "execution_count": null,
   "metadata": {},
   "outputs": [],
   "source": [
    "groups = {name: [] for name in bnf_names}\n",
    "for script in scripts:\n",
    "    # INSERT ..."
   ]
  },
  {
   "cell_type": "code",
   "execution_count": null,
   "metadata": {},
   "outputs": [],
   "source": [
    "groups = {name:  for name in bnf_names}"
   ]
  },
  {
   "cell_type": "markdown",
   "metadata": {},
   "source": [
    "Now that we've constructed our groups we should sum up `'items'` in each group and find the `'bnf_name'` with the largest sum. The result, `max_item`, should have the form `[(bnf_name, item total)]`, e.g. `[('Foobar', 2000)]`."
   ]
  },
  {
   "cell_type": "code",
   "execution_count": 27,
   "metadata": {},
   "outputs": [],
   "source": [
    "def _index_list(item, my_list):\n",
    "    \"\"\"Return index list for a given key on list\"\"\"\n",
    "    return [index for index, event in enumerate(my_list) if event == item ]\n",
    "\n",
    "def _index_to_value(index_list,my_list):\n",
    "    return [my_list[i] for i in index_list]\n",
    "\n",
    "def _group_list_by(list_by,list_for,key_by):\n",
    "    \"\"\"Input = Two list and Key, Return second list \"\"\"\n",
    "    group_dic = {}\n",
    "    unique_items = sorted(_unique_entry(list_by))[:100]\n",
    "    for item in unique_items:\n",
    "        index_list = _index_list(item, list_by)\n",
    "#       print(item,\"--->\",_index_to_value(index_list,list_for))\n",
    "        group_dic[item] = list(set(_index_to_value(index_list,list_for)))\n",
    "    return group_dic\n",
    "\n",
    "def _group_sum_by(list_by,list_for,key_by):\n",
    "    \"\"\"Input = Two list and Key, Return second list \"\"\"\n",
    "    group_dic = {}\n",
    "    unique_items = sorted(_unique_entry(list_by))[:100]\n",
    "    for item in unique_items:\n",
    "        index_list = _index_list(item, list_by)\n",
    "#       print(item,\"--->\",_index_to_value(index_list,list_for))\n",
    "        group_dic[item] = sorted(_index_to_value(index_list,list_for))[0]\n",
    "    return group_dic\n",
    "\n",
    "def _unique_entry(my_list):\n",
    "    return sorted(list(set(my_list)))\n",
    "\n",
    "def groupby(key_by, key_for,my_list):\n",
    "    data_dict = make_data_dic(my_list)\n",
    "    return _group_list_by(data_dict[key_by],data_dict[key_for],key_by)\n",
    "\n",
    "code_by_post = groupby('post_code','code',practices)\n",
    "#practice_postal = {v: k for k, v in code_by_post.items()}\n",
    "joined = script\n",
    "code_by_post"
   ]
  },
  {
   "cell_type": "code",
   "execution_count": null,
   "metadata": {},
   "outputs": [],
   "source": []
  },
  {
   "cell_type": "code",
   "execution_count": 32,
   "metadata": {},
   "outputs": [],
   "source": [
    "scripts_list = make_data_dic(scripts)sample = scripts[:1000]"
   ]
  },
  {
   "cell_type": "code",
   "execution_count": 10,
   "metadata": {},
   "outputs": [
    {
     "name": "stdout",
     "output_type": "stream",
     "text": [
      "[('Omeprazole_Cap E/C 20mg', 113826)]\n"
     ]
    }
   ],
   "source": [
    "def max_key(my_dict):\n",
    "    key = max(my_dict.keys(), key = (lambda k: my_dict[k]))\n",
    "    value = my_dict[key]\n",
    "    return key, value\n",
    "\n",
    "max_item = [max_key(bnf_name_by_items)]\n",
    "print(max_item)"
   ]
  },
  {
   "cell_type": "markdown",
   "metadata": {},
   "source": [
    "**TIP:** If you are getting an error from the grader below, please make sure your answer conforms to the correct format of `[(bnf_name, item total)]`."
   ]
  },
  {
   "cell_type": "code",
   "execution_count": 12,
   "metadata": {},
   "outputs": [
    {
     "name": "stdout",
     "output_type": "stream",
     "text": [
      "==================\n",
      "Your score:  1.0\n",
      "==================\n"
     ]
    }
   ],
   "source": [
    "grader.score.pw__most_common_item(max_item)"
   ]
  },
  {
   "cell_type": "markdown",
   "metadata": {},
   "source": [
    "**Challenge:** Write a function that constructs groups as we did above. The function should accept a list of dictionaries (e.g. `scripts` or `practices`) and a tuple of fields to `groupby` (e.g. `('bnf_name')` or `('bnf_name', 'post_code')`) and returns a dictionary of groups. The following questions will require you to aggregate data in groups, so this could be a useful function for the rest of the miniproject."
   ]
  },
  {
   "cell_type": "code",
   "execution_count": null,
   "metadata": {},
   "outputs": [],
   "source": [
    "groups = group_by_field(scripts, ('bnf_name',))\n",
    "test_max_item = ...\n",
    "\n",
    "assert test_max_item == max_item"
   ]
  },
  {
   "cell_type": "markdown",
   "metadata": {},
   "source": [
    "## Question 3: postal_totals\n",
    "\n",
    "Our data set is broken up among different files. This is typical for tabular data to reduce redundancy. Each table typically contains data about a particular type of event, processes, or physical object. Data on prescriptions and medical practices are in separate files in our case. If we want to find the total items prescribed in each postal code, we will have to _join_ our prescription data (`scripts`) to our clinic data (`practices`).\n",
    "\n",
    "Find the total items prescribed in each postal code, representing the results as a list of tuples `(post code, total items prescribed)`. Sort your results ascending alphabetically by post code and take only results from the first 100 post codes. Only include post codes if there is at least one prescription from a practice in that post code.\n",
    "\n",
    "**NOTE:** Some practices have multiple postal codes associated with them. Use the alphabetically first postal code."
   ]
  },
  {
   "cell_type": "code",
   "execution_count": 14,
   "metadata": {},
   "outputs": [],
   "source": [
    "code_by_post = groupby('code','post_code',practices)"
   ]
  },
  {
   "cell_type": "code",
   "execution_count": 16,
   "metadata": {},
   "outputs": [
    {
     "ename": "KeyError",
     "evalue": "'N81013'",
     "output_type": "error",
     "traceback": [
      "\u001b[0;31m---------------------------------------------------------------------------\u001b[0m",
      "\u001b[0;31mKeyError\u001b[0m                                  Traceback (most recent call last)",
      "\u001b[0;32m<ipython-input-16-807281ae20ff>\u001b[0m in \u001b[0;36m<module>\u001b[0;34m()\u001b[0m\n\u001b[0;32m----> 1\u001b[0;31m \u001b[0mcode_by_post\u001b[0m\u001b[0;34m[\u001b[0m\u001b[0;34m'N81013'\u001b[0m\u001b[0;34m]\u001b[0m\u001b[0;34m\u001b[0m\u001b[0;34m\u001b[0m\u001b[0m\n\u001b[0m",
      "\u001b[0;31mKeyError\u001b[0m: 'N81013'"
     ]
    }
   ],
   "source": [
    "code_by_post['N81013']"
   ]
  },
  {
   "cell_type": "code",
   "execution_count": 15,
   "metadata": {},
   "outputs": [
    {
     "ename": "KeyError",
     "evalue": "'N81013'",
     "output_type": "error",
     "traceback": [
      "\u001b[0;31m---------------------------------------------------------------------------\u001b[0m",
      "\u001b[0;31mKeyError\u001b[0m                                  Traceback (most recent call last)",
      "\u001b[0;32m<ipython-input-15-6ba779dd374b>\u001b[0m in \u001b[0;36m<module>\u001b[0;34m()\u001b[0m\n\u001b[1;32m      1\u001b[0m \u001b[0mjoined\u001b[0m \u001b[0;34m=\u001b[0m \u001b[0mscripts\u001b[0m\u001b[0;34m[\u001b[0m\u001b[0;34m:\u001b[0m\u001b[0;34m]\u001b[0m\u001b[0;34m\u001b[0m\u001b[0;34m\u001b[0m\u001b[0m\n\u001b[1;32m      2\u001b[0m \u001b[0;32mfor\u001b[0m \u001b[0mscript\u001b[0m \u001b[0;32min\u001b[0m \u001b[0mjoined\u001b[0m\u001b[0;34m:\u001b[0m\u001b[0;34m\u001b[0m\u001b[0;34m\u001b[0m\u001b[0m\n\u001b[0;32m----> 3\u001b[0;31m     \u001b[0mscript\u001b[0m\u001b[0;34m[\u001b[0m\u001b[0;34m'post_code'\u001b[0m\u001b[0;34m]\u001b[0m \u001b[0;34m=\u001b[0m \u001b[0mcode_by_post\u001b[0m\u001b[0;34m[\u001b[0m\u001b[0mscript\u001b[0m\u001b[0;34m[\u001b[0m\u001b[0;34m'practice'\u001b[0m\u001b[0;34m]\u001b[0m\u001b[0;34m]\u001b[0m\u001b[0;34m\u001b[0m\u001b[0;34m\u001b[0m\u001b[0m\n\u001b[0m",
      "\u001b[0;31mKeyError\u001b[0m: 'N81013'"
     ]
    }
   ],
   "source": [
    "joined = scripts[:]\n",
    "for script in joined:\n",
    "    script['post_code'] = code_by_post[script['practice']]"
   ]
  },
  {
   "cell_type": "code",
   "execution_count": 155,
   "metadata": {},
   "outputs": [],
   "source": [
    "practice_postal = {v: k for k, v in code_by_post.items()}"
   ]
  },
  {
   "cell_type": "markdown",
   "metadata": {},
   "source": [
    "We can join `scripts` and `practices` based on the fact that `'practice'` in `scripts` matches `'code'` in `practices`. However, we must first deal with the repeated values of `'code'` in `practices`. We want the alphabetically first postal codes."
   ]
  },
  {
   "cell_type": "code",
   "execution_count": null,
   "metadata": {},
   "outputs": [],
   "source": [
    "practice_postal = {}\n",
    "for practice in practices:\n",
    "    if practice['code'] in practice_postal:\n",
    "        practice_postal[practice['code']] = ...\n",
    "    else:\n",
    "        practice_postal[practice['code']] = ..."
   ]
  },
  {
   "cell_type": "markdown",
   "metadata": {},
   "source": [
    "**Challenge:** This is an aggregation of the practice data grouped by practice codes. Write an alternative implementation of the above cell using the `group_by_field` function you defined previously."
   ]
  },
  {
   "cell_type": "code",
   "execution_count": 28,
   "metadata": {},
   "outputs": [
    {
     "ename": "KeyError",
     "evalue": "'K82019'",
     "output_type": "error",
     "traceback": [
      "\u001b[0;31m---------------------------------------------------------------------------\u001b[0m",
      "\u001b[0;31mKeyError\u001b[0m                                  Traceback (most recent call last)",
      "\u001b[0;32m<ipython-input-28-9c7ab328e723>\u001b[0m in \u001b[0;36m<module>\u001b[0;34m()\u001b[0m\n\u001b[0;32m----> 1\u001b[0;31m \u001b[0;32massert\u001b[0m \u001b[0mcode_by_post\u001b[0m\u001b[0;34m[\u001b[0m\u001b[0;34m'K82019'\u001b[0m\u001b[0;34m]\u001b[0m \u001b[0;34m==\u001b[0m \u001b[0;34m'HP21 8TR'\u001b[0m\u001b[0;34m\u001b[0m\u001b[0;34m\u001b[0m\u001b[0m\n\u001b[0m",
      "\u001b[0;31mKeyError\u001b[0m: 'K82019'"
     ]
    }
   ],
   "source": [
    "assert code_by_post['K82019'] == 'HP21 8TR'"
   ]
  },
  {
   "cell_type": "markdown",
   "metadata": {},
   "source": [
    "**Challenge:** This is an aggregation of the practice data grouped by practice codes. Write an alternative implementation of the above cell using the `group_by_field` function you defined previously."
   ]
  },
  {
   "cell_type": "code",
   "execution_count": 23,
   "metadata": {},
   "outputs": [
    {
     "ename": "NameError",
     "evalue": "name 'practice_postal' is not defined",
     "output_type": "error",
     "traceback": [
      "\u001b[0;31m---------------------------------------------------------------------------\u001b[0m",
      "\u001b[0;31mNameError\u001b[0m                                 Traceback (most recent call last)",
      "\u001b[0;32m<ipython-input-23-63b29b04bed2>\u001b[0m in \u001b[0;36m<module>\u001b[0;34m()\u001b[0m\n\u001b[0;32m----> 1\u001b[0;31m \u001b[0;32massert\u001b[0m \u001b[0mpractice_postal\u001b[0m\u001b[0;34m[\u001b[0m\u001b[0;34m'K82019'\u001b[0m\u001b[0;34m]\u001b[0m \u001b[0;34m==\u001b[0m \u001b[0;34m'HP21 8TR'\u001b[0m\u001b[0;34m\u001b[0m\u001b[0;34m\u001b[0m\u001b[0m\n\u001b[0m",
      "\u001b[0;31mNameError\u001b[0m: name 'practice_postal' is not defined"
     ]
    }
   ],
   "source": [
    "assert practice_postal['K82019'] == 'HP21 8TR'"
   ]
  },
  {
   "cell_type": "markdown",
   "metadata": {},
   "source": [
    "Now we can join `practice_postal` to `scripts`."
   ]
  },
  {
   "cell_type": "code",
   "execution_count": 34,
   "metadata": {},
   "outputs": [],
   "source": [
    "joined = scripts[:]\n",
    "for script in joined:\n",
    "    script['post_code'] = [script['practice']]"
   ]
  },
  {
   "cell_type": "code",
   "execution_count": 24,
   "metadata": {},
   "outputs": [
    {
     "data": {
      "text/plain": [
       "[{'bnf_code': '0101010G0AAABAB',\n",
       "  'items': 2,\n",
       "  'practice': 'N81013',\n",
       "  'bnf_name': 'Co-Magaldrox_Susp 195mg/220mg/5ml S/F',\n",
       "  'nic': 5.98,\n",
       "  'act_cost': 5.56,\n",
       "  'quantity': 1000,\n",
       "  'post_code': 'SK11 6JL'},\n",
       " {'bnf_code': '0101021B0AAAHAH',\n",
       "  'items': 1,\n",
       "  'practice': 'N81013',\n",
       "  'bnf_name': 'Alginate_Raft-Forming Oral Susp S/F',\n",
       "  'nic': 1.95,\n",
       "  'act_cost': 1.82,\n",
       "  'quantity': 500,\n",
       "  'post_code': 'SK11 6JL'}]"
      ]
     },
     "execution_count": 24,
     "metadata": {},
     "output_type": "execute_result"
    }
   ],
   "source": [
    "joined[:2]"
   ]
  },
  {
   "cell_type": "markdown",
   "metadata": {},
   "source": [
    "Finally we'll group the prescription dictionaries in `joined` by `'post_code'` and sum up the items prescribed in each group, as we did in the previous question."
   ]
  },
  {
   "cell_type": "code",
   "execution_count": null,
   "metadata": {},
   "outputs": [],
   "source": [
    "items_by_post = ..."
   ]
  },
  {
   "cell_type": "code",
   "execution_count": 27,
   "metadata": {},
   "outputs": [
    {
     "ename": "TypeError",
     "evalue": "'int' object is not subscriptable",
     "output_type": "error",
     "traceback": [
      "\u001b[0;31m---------------------------------------------------------------------------\u001b[0m",
      "\u001b[0;31mTypeError\u001b[0m                                 Traceback (most recent call last)",
      "\u001b[0;32m<ipython-input-27-9a9baeac9caf>\u001b[0m in \u001b[0;36m<module>\u001b[0;34m()\u001b[0m\n\u001b[0;32m----> 1\u001b[0;31m \u001b[0mpostal_totals\u001b[0m \u001b[0;34m=\u001b[0m \u001b[0mgroupby\u001b[0m\u001b[0;34m(\u001b[0m\u001b[0;34m'post_code'\u001b[0m\u001b[0;34m,\u001b[0m\u001b[0;34m'items'\u001b[0m\u001b[0;34m,\u001b[0m\u001b[0mscripts\u001b[0m\u001b[0;34m)\u001b[0m\u001b[0;34m\u001b[0m\u001b[0;34m\u001b[0m\u001b[0m\n\u001b[0m",
      "\u001b[0;32m<ipython-input-26-f2196189d8ad>\u001b[0m in \u001b[0;36mgroupby\u001b[0;34m(key_by, key_for, my_list)\u001b[0m\n\u001b[1;32m     21\u001b[0m \u001b[0;32mdef\u001b[0m \u001b[0mgroupby\u001b[0m\u001b[0;34m(\u001b[0m\u001b[0mkey_by\u001b[0m\u001b[0;34m,\u001b[0m \u001b[0mkey_for\u001b[0m\u001b[0;34m,\u001b[0m\u001b[0mmy_list\u001b[0m\u001b[0;34m)\u001b[0m\u001b[0;34m:\u001b[0m\u001b[0;34m\u001b[0m\u001b[0;34m\u001b[0m\u001b[0m\n\u001b[1;32m     22\u001b[0m     \u001b[0mdata_dict\u001b[0m \u001b[0;34m=\u001b[0m \u001b[0mmake_data_dic\u001b[0m\u001b[0;34m(\u001b[0m\u001b[0mmy_list\u001b[0m\u001b[0;34m)\u001b[0m\u001b[0;34m\u001b[0m\u001b[0;34m\u001b[0m\u001b[0m\n\u001b[0;32m---> 23\u001b[0;31m     \u001b[0;32mreturn\u001b[0m \u001b[0m_group_list_by\u001b[0m\u001b[0;34m(\u001b[0m\u001b[0mdata_dict\u001b[0m\u001b[0;34m[\u001b[0m\u001b[0mkey_by\u001b[0m\u001b[0;34m]\u001b[0m\u001b[0;34m,\u001b[0m\u001b[0mdata_dict\u001b[0m\u001b[0;34m[\u001b[0m\u001b[0mkey_for\u001b[0m\u001b[0;34m]\u001b[0m\u001b[0;34m,\u001b[0m\u001b[0mkey_by\u001b[0m\u001b[0;34m)\u001b[0m\u001b[0;34m\u001b[0m\u001b[0;34m\u001b[0m\u001b[0m\n\u001b[0m",
      "\u001b[0;32m<ipython-input-26-f2196189d8ad>\u001b[0m in \u001b[0;36m_group_list_by\u001b[0;34m(list_by, list_for, key_by)\u001b[0m\n\u001b[1;32m     13\u001b[0m         \u001b[0mindex_list\u001b[0m \u001b[0;34m=\u001b[0m \u001b[0m_index_list\u001b[0m\u001b[0;34m(\u001b[0m\u001b[0mitem\u001b[0m\u001b[0;34m,\u001b[0m \u001b[0mlist_by\u001b[0m\u001b[0;34m)\u001b[0m\u001b[0;34m\u001b[0m\u001b[0;34m\u001b[0m\u001b[0m\n\u001b[1;32m     14\u001b[0m \u001b[0;31m#       print(item,\"--->\",_index_to_value(index_list,list_for))\u001b[0m\u001b[0;34m\u001b[0m\u001b[0;34m\u001b[0m\u001b[0;34m\u001b[0m\u001b[0m\n\u001b[0;32m---> 15\u001b[0;31m         \u001b[0mgroup_dic\u001b[0m\u001b[0;34m[\u001b[0m\u001b[0mitem\u001b[0m\u001b[0;34m]\u001b[0m \u001b[0;34m=\u001b[0m \u001b[0msum\u001b[0m\u001b[0;34m(\u001b[0m\u001b[0m_index_to_value\u001b[0m\u001b[0;34m(\u001b[0m\u001b[0mindex_list\u001b[0m\u001b[0;34m,\u001b[0m\u001b[0mlist_for\u001b[0m\u001b[0;34m)\u001b[0m\u001b[0;34m)\u001b[0m\u001b[0;34m[\u001b[0m\u001b[0;36m0\u001b[0m\u001b[0;34m]\u001b[0m\u001b[0;34m\u001b[0m\u001b[0;34m\u001b[0m\u001b[0m\n\u001b[0m\u001b[1;32m     16\u001b[0m     \u001b[0;32mreturn\u001b[0m \u001b[0mgroup_dic\u001b[0m\u001b[0;34m\u001b[0m\u001b[0;34m\u001b[0m\u001b[0m\n\u001b[1;32m     17\u001b[0m \u001b[0;34m\u001b[0m\u001b[0m\n",
      "\u001b[0;31mTypeError\u001b[0m: 'int' object is not subscriptable"
     ]
    }
   ],
   "source": [
    "postal_totals = groupby('post_code','items',scripts)"
   ]
  },
  {
   "cell_type": "code",
   "execution_count": null,
   "metadata": {},
   "outputs": [],
   "source": []
  },
  {
   "cell_type": "code",
   "execution_count": 80,
   "metadata": {},
   "outputs": [
    {
     "data": {
      "text/plain": [
       "132"
      ]
     },
     "execution_count": 80,
     "metadata": {},
     "output_type": "execute_result"
    }
   ],
   "source": [
    "len(postal)"
   ]
  },
  {
   "cell_type": "code",
   "execution_count": 173,
   "metadata": {},
   "outputs": [
    {
     "data": {
      "text/plain": [
       "[('B11 4BW', 20673),\n",
       " ('B18 7AL', 19001),\n",
       " ('B21 9RY', 29103),\n",
       " ('B23 6DJ', 24859),\n",
       " ('B70 7AW', 36531),\n",
       " ('BB11 2DL', 34356),\n",
       " ('BB2 1AX', 28254),\n",
       " ('BB3 1PY', 54514),\n",
       " ('BB4 5SL', 29388),\n",
       " ('BB7 2JG', 44585),\n",
       " ('BB8 0JZ', 54380),\n",
       " ('BB9 7SR', 38224),\n",
       " ('BD3 8QH', 21010),\n",
       " ('BH18 8EE', 39413),\n",
       " ('BH23 3AF', 32545),\n",
       " ('BL1 8TU', 26132),\n",
       " ('BL3 5HP', 27147),\n",
       " ('BL9 0NJ', 32062),\n",
       " ('BL9 0SN', 35275),\n",
       " ('CB9 8HF', 51337),\n",
       " ('CH1 4DS', 34915),\n",
       " ('CH65 6TG', 25090),\n",
       " ('CT11 8AD', 44358),\n",
       " ('CV1 4FS', 37210),\n",
       " ('CW1 3AW', 64104),\n",
       " ('CW5 5NX', 38797),\n",
       " ('CW7 1AT', 43164),\n",
       " ('DA1 2HA', 26075),\n",
       " ('DA11 8BZ', 24090),\n",
       " ('DN22 7XF', 43091),\n",
       " ('DN34 4GB', 48013),\n",
       " ('FY2 0JG', 69118),\n",
       " ('FY4 1TJ', 62886),\n",
       " ('FY5 2TZ', 44258),\n",
       " ('FY7 8GU', 34473),\n",
       " ('GL1 3PX', 38120),\n",
       " ('GL50 4DP', 74822),\n",
       " ('GU9 9QS', 32131),\n",
       " ('HA0 4UZ', 22755),\n",
       " ('HA3 7LT', 32113),\n",
       " ('HG1 5AR', 32684),\n",
       " ('HU7 4DW', 49107),\n",
       " ('KT14 6DH', 26758),\n",
       " ('KT6 6EZ', 38975),\n",
       " ('L31 0DJ', 32065),\n",
       " ('L36 7XY', 22965),\n",
       " ('L5 0QW', 24676),\n",
       " ('L7 6HD', 42569),\n",
       " ('LA1 1PN', 47335),\n",
       " ('LE10 1DS', 49335),\n",
       " ('LE18 2EW', 37144),\n",
       " ('LE5 3GH', 28654),\n",
       " ('LN2 2JP', 46173),\n",
       " ('LS9 9EF', 48051),\n",
       " ('M11 4EJ', 23166),\n",
       " ('M26 2SP', 37718),\n",
       " ('M30 0NU', 25597),\n",
       " ('M35 0AD', 37632),\n",
       " ('ME8 8AA', 25257),\n",
       " ('N9 7HD', 30706),\n",
       " ('NE10 9QG', 39882),\n",
       " ('NE24 1DX', 50491),\n",
       " ('NE37 2PU', 57500),\n",
       " ('NE38 7NQ', 52803),\n",
       " ('NG7 3GW', 17698),\n",
       " ('NG7 5HY', 24903),\n",
       " ('NN16 8DN', 50771),\n",
       " ('NW10 8RY', 21553),\n",
       " ('OL1 1NL', 41046),\n",
       " ('OL11 1DN', 21567),\n",
       " ('OL4 1YN', 24687),\n",
       " ('OL9 7AY', 28394),\n",
       " ('PL7 1AD', 65051),\n",
       " ('RM3 9SU', 25476),\n",
       " ('S63 9EH', 34787),\n",
       " ('S65 1DA', 71683),\n",
       " ('S74 9AF', 55305),\n",
       " ('SE1 6JP', 45030),\n",
       " ('SE15 5LJ', 15258),\n",
       " ('SK11 6JL', 110071),\n",
       " ('SK6 1ND', 28313),\n",
       " ('SM3 8EP', 24965),\n",
       " ('SM6 0HY', 46016),\n",
       " ('SR4 7XF', 49843),\n",
       " ('SR5 2LT', 44895),\n",
       " ('SS0 7AF', 21569),\n",
       " ('SS13 3HQ', 38513),\n",
       " ('SS8 0JA', 45848),\n",
       " ('SS9 5UU', 26095),\n",
       " ('ST1 4PB', 24227),\n",
       " ('ST3 6AB', 38705),\n",
       " ('ST8 6AG', 34516),\n",
       " ('TN24 0GP', 16955),\n",
       " ('TN34 1BA', 47440),\n",
       " ('TR1 2JA', 40194),\n",
       " ('TS1 2NX', 47623),\n",
       " ('TS10 4NW', 45161),\n",
       " ('TS17 0EE', 68388),\n",
       " ('TS23 2DG', 31646),\n",
       " ('TS24 7PW', 58207)]"
      ]
     },
     "execution_count": 173,
     "metadata": {},
     "output_type": "execute_result"
    }
   ],
   "source": [
    "postal = list(postal_totals.items())\n"
   ]
  },
  {
   "cell_type": "code",
   "execution_count": 174,
   "metadata": {},
   "outputs": [
    {
     "name": "stdout",
     "output_type": "stream",
     "text": [
      "==================\n",
      "Your score:  1.0\n",
      "==================\n"
     ]
    }
   ],
   "source": [
    "#postal_totals = [('B11 4BW', 20673)] * 100\n",
    "grader.score.pw__postal_totals(postal)"
   ]
  },
  {
   "cell_type": "markdown",
   "metadata": {},
   "source": [
    "## Question 4: items_by_region\n",
    "\n",
    "Now we'll combine the techniques we've developed to answer a more complex question. Find the most commonly dispensed item in each postal code, representing the results as a list of tuples (`post_code`, `bnf_name`, amount dispensed as proportion of total). Sort your results ascending alphabetically by post code and take only results from the first 100 post codes.\n",
    "\n",
    "**NOTE:** We'll continue to use the `joined` variable we created before, where we've chosen the alphabetically first postal code for each practice. Additionally, some postal codes will have multiple `'bnf_name'` with the same number of items prescribed for the maximum. In this case, we'll take the alphabetically first `'bnf_name'`."
   ]
  },
  {
   "cell_type": "markdown",
   "metadata": {},
   "source": [
    "Now we need to calculate the total items of each `'bnf_name'` prescribed in each `'post_code'`. Use the techniques we developed in the previous questions to calculate these totals. You should have 141196 `('post_code', 'bnf_name')` groups."
   ]
  },
  {
   "cell_type": "code",
   "execution_count": null,
   "metadata": {},
   "outputs": [],
   "source": []
  },
  {
   "cell_type": "code",
   "execution_count": 12,
   "metadata": {},
   "outputs": [
    {
     "ename": "KeyError",
     "evalue": "'post_code'",
     "output_type": "error",
     "traceback": [
      "\u001b[0;31m---------------------------------------------------------------------------\u001b[0m",
      "\u001b[0;31mKeyError\u001b[0m                                  Traceback (most recent call last)",
      "\u001b[0;32m<ipython-input-12-4c9b0ea7328d>\u001b[0m in \u001b[0;36m<module>\u001b[0;34m()\u001b[0m\n\u001b[0;32m----> 1\u001b[0;31m \u001b[0mpost_code__bnf_name\u001b[0m \u001b[0;34m=\u001b[0m \u001b[0mgroupby\u001b[0m\u001b[0;34m(\u001b[0m\u001b[0;34m'post_code'\u001b[0m\u001b[0;34m,\u001b[0m\u001b[0;34m'bnf_name'\u001b[0m\u001b[0;34m,\u001b[0m\u001b[0mscripts\u001b[0m\u001b[0;34m)\u001b[0m\u001b[0;34m\u001b[0m\u001b[0;34m\u001b[0m\u001b[0m\n\u001b[0m",
      "\u001b[0;32m<ipython-input-9-4860bc5c3cd6>\u001b[0m in \u001b[0;36mgroupby\u001b[0;34m(key_by, key_for, my_list)\u001b[0m\n\u001b[1;32m     31\u001b[0m \u001b[0;32mdef\u001b[0m \u001b[0mgroupby\u001b[0m\u001b[0;34m(\u001b[0m\u001b[0mkey_by\u001b[0m\u001b[0;34m,\u001b[0m \u001b[0mkey_for\u001b[0m\u001b[0;34m,\u001b[0m\u001b[0mmy_list\u001b[0m\u001b[0;34m)\u001b[0m\u001b[0;34m:\u001b[0m\u001b[0;34m\u001b[0m\u001b[0;34m\u001b[0m\u001b[0m\n\u001b[1;32m     32\u001b[0m     \u001b[0mdata_dict\u001b[0m \u001b[0;34m=\u001b[0m \u001b[0mmake_data_dic\u001b[0m\u001b[0;34m(\u001b[0m\u001b[0mmy_list\u001b[0m\u001b[0;34m)\u001b[0m\u001b[0;34m\u001b[0m\u001b[0;34m\u001b[0m\u001b[0m\n\u001b[0;32m---> 33\u001b[0;31m     \u001b[0;32mreturn\u001b[0m \u001b[0m_group_list_by\u001b[0m\u001b[0;34m(\u001b[0m\u001b[0mdata_dict\u001b[0m\u001b[0;34m[\u001b[0m\u001b[0mkey_by\u001b[0m\u001b[0;34m]\u001b[0m\u001b[0;34m,\u001b[0m\u001b[0mdata_dict\u001b[0m\u001b[0;34m[\u001b[0m\u001b[0mkey_for\u001b[0m\u001b[0;34m]\u001b[0m\u001b[0;34m,\u001b[0m\u001b[0mkey_by\u001b[0m\u001b[0;34m)\u001b[0m\u001b[0;34m\u001b[0m\u001b[0;34m\u001b[0m\u001b[0m\n\u001b[0m",
      "\u001b[0;31mKeyError\u001b[0m: 'post_code'"
     ]
    }
   ],
   "source": [
    "post_code__bnf_name = groupby('post_code','bnf_name',scripts)"
   ]
  },
  {
   "cell_type": "code",
   "execution_count": 69,
   "metadata": {},
   "outputs": [],
   "source": []
  },
  {
   "cell_type": "code",
   "execution_count": 80,
   "metadata": {},
   "outputs": [],
   "source": [
    "def make_tuple(dicts):\n",
    "    post_bnf = []\n",
    "    for k in dicts.keys():\n",
    "        l = [(k,i) for i in dicts[k]]\n",
    "        post_bnf.extend(l)\n",
    "    return post_bnf\n",
    " "
   ]
  },
  {
   "cell_type": "code",
   "execution_count": 10,
   "metadata": {},
   "outputs": [
    {
     "ename": "NameError",
     "evalue": "name 'make_data_dic' is not defined",
     "output_type": "error",
     "traceback": [
      "\u001b[0;31m---------------------------------------------------------------------------\u001b[0m",
      "\u001b[0;31mNameError\u001b[0m                                 Traceback (most recent call last)",
      "\u001b[0;32m<ipython-input-10-32aeb416e6a1>\u001b[0m in \u001b[0;36m<module>\u001b[0;34m()\u001b[0m\n\u001b[0;32m----> 1\u001b[0;31m \u001b[0mpost_code__items\u001b[0m \u001b[0;34m=\u001b[0m \u001b[0mgroupby\u001b[0m\u001b[0;34m(\u001b[0m\u001b[0;34m'post_code'\u001b[0m\u001b[0;34m,\u001b[0m\u001b[0;34m'items'\u001b[0m\u001b[0;34m,\u001b[0m\u001b[0mscripts\u001b[0m\u001b[0;34m)\u001b[0m\u001b[0;34m\u001b[0m\u001b[0;34m\u001b[0m\u001b[0m\n\u001b[0m",
      "\u001b[0;32m<ipython-input-9-4860bc5c3cd6>\u001b[0m in \u001b[0;36mgroupby\u001b[0;34m(key_by, key_for, my_list)\u001b[0m\n\u001b[1;32m     30\u001b[0m \u001b[0;34m\u001b[0m\u001b[0m\n\u001b[1;32m     31\u001b[0m \u001b[0;32mdef\u001b[0m \u001b[0mgroupby\u001b[0m\u001b[0;34m(\u001b[0m\u001b[0mkey_by\u001b[0m\u001b[0;34m,\u001b[0m \u001b[0mkey_for\u001b[0m\u001b[0;34m,\u001b[0m\u001b[0mmy_list\u001b[0m\u001b[0;34m)\u001b[0m\u001b[0;34m:\u001b[0m\u001b[0;34m\u001b[0m\u001b[0;34m\u001b[0m\u001b[0m\n\u001b[0;32m---> 32\u001b[0;31m     \u001b[0mdata_dict\u001b[0m \u001b[0;34m=\u001b[0m \u001b[0mmake_data_dic\u001b[0m\u001b[0;34m(\u001b[0m\u001b[0mmy_list\u001b[0m\u001b[0;34m)\u001b[0m\u001b[0;34m\u001b[0m\u001b[0;34m\u001b[0m\u001b[0m\n\u001b[0m\u001b[1;32m     33\u001b[0m     \u001b[0;32mreturn\u001b[0m \u001b[0m_group_list_by\u001b[0m\u001b[0;34m(\u001b[0m\u001b[0mdata_dict\u001b[0m\u001b[0;34m[\u001b[0m\u001b[0mkey_by\u001b[0m\u001b[0;34m]\u001b[0m\u001b[0;34m,\u001b[0m\u001b[0mdata_dict\u001b[0m\u001b[0;34m[\u001b[0m\u001b[0mkey_for\u001b[0m\u001b[0;34m]\u001b[0m\u001b[0;34m,\u001b[0m\u001b[0mkey_by\u001b[0m\u001b[0;34m)\u001b[0m\u001b[0;34m\u001b[0m\u001b[0;34m\u001b[0m\u001b[0m\n",
      "\u001b[0;31mNameError\u001b[0m: name 'make_data_dic' is not defined"
     ]
    }
   ],
   "source": [
    "post_code__items = groupby('post_code','items',scripts)"
   ]
  },
  {
   "cell_type": "code",
   "execution_count": 81,
   "metadata": {},
   "outputs": [],
   "source": [
    "post_code__bnf_name_tuple = make_tuple(post_code__bnf_name)\n",
    "post_code__items_tuple = make_tuple(post_code__items)"
   ]
  },
  {
   "cell_type": "code",
   "execution_count": null,
   "metadata": {},
   "outputs": [],
   "source": [
    "post_code__items_tuple[:10]"
   ]
  },
  {
   "cell_type": "markdown",
   "metadata": {},
   "source": [
    "Let's use `total_items` to find the maximum item total for each postal code. To do this, we will want to regroup `total_items_by_bnf_post` by `'post_code'` only, not by `('post_code', 'bnf_name')`. First let's turn `total_items` into a list of dictionaries (similar to `scripts` or `practices`) and then group it by `'post_code'`. You should have 118 groups in the resulting `total_items_by_post` after grouping `total_items` by `'post_code'`."
   ]
  },
  {
   "cell_type": "code",
   "execution_count": null,
   "metadata": {},
   "outputs": [],
   "source": [
    "total_items = ...\n",
    "assert len(total_items_by_post) == 118"
   ]
  },
  {
   "cell_type": "markdown",
   "metadata": {},
   "source": [
    "Now we will aggregate the groups in `total_by_item_post` to create `max_item_by_post`. Some `'bnf_name'` have the same item total within a given postal code. Therefore, if more than one `'bnf_name'` has the maximum item total in a given postal code, we'll take the alphabetically first `'bnf_name'`. We can do this by [sorting](https://docs.python.org/2.7/howto/sorting.html) each group according to the item total and `'bnf_name'`."
   ]
  },
  {
   "cell_type": "code",
   "execution_count": null,
   "metadata": {},
   "outputs": [],
   "source": [
    "max_item_by_post = ..."
   ]
  },
  {
   "cell_type": "markdown",
   "metadata": {},
   "source": [
    "In order to express the item totals as a proportion of the total amount of items prescribed across all `'bnf_name'` in a postal code, we'll need to use the total items prescribed that we previously calculated as `items_by_post`. Calculate the proportions for the most common `'bnf_names'` for each postal code. Format your answer as a list of tuples: `[(post_code, bnf_name, total)]`"
   ]
  },
  {
   "cell_type": "code",
   "execution_count": 49,
   "metadata": {},
   "outputs": [],
   "source": [
    "items_by_region = [('B11 4BW', 'Salbutamol_Inha 100mcg (200 D) CFF', 0.0341508247)] * 100"
   ]
  },
  {
   "cell_type": "code",
   "execution_count": 50,
   "metadata": {},
   "outputs": [
    {
     "name": "stdout",
     "output_type": "stream",
     "text": [
      "==================\n",
      "Your score:  0.01\n",
      "==================\n"
     ]
    }
   ],
   "source": [
    "grader.score.pw__items_by_region(items_by_region)"
   ]
  },
  {
   "cell_type": "markdown",
   "metadata": {},
   "source": [
    "*Copyright &copy; 2017 The Data Incubator.  All rights reserved.*"
   ]
  }
 ],
 "metadata": {
  "kernelspec": {
   "display_name": "Python 3",
   "language": "python",
   "name": "python3"
  },
  "language_info": {
   "codemirror_mode": {
    "name": "ipython",
    "version": 3
   },
   "file_extension": ".py",
   "mimetype": "text/x-python",
   "name": "python",
   "nbconvert_exporter": "python",
   "pygments_lexer": "ipython3",
   "version": "3.7.3"
  },
  "nbclean": true
 },
 "nbformat": 4,
 "nbformat_minor": 1
}
